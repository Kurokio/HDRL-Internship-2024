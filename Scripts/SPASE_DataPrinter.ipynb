{
 "cells": [
  {
   "cell_type": "code",
   "execution_count": null,
   "id": "5edd3727-dc07-466c-9ae7-bc042a3d9f32",
   "metadata": {},
   "outputs": [],
   "source": [
    "import Scripts\n",
    "from SPASE_Scraper_Script import SPASE_Scraper\n",
    "from DatalinkSep import AccessRightsSep\n",
    "\n",
    "# prints metadata for fields specified in the record provided\n",
    "def MetadataPrinter(record, fields = [\"ResourceID\", \"author\",\"pub\", \"pubYr\", \"datasetName\", \"description\",\n",
    "                                      \"PID\", \"license\", \"url\", \"prodKey\", \"version\", \"ReleaseDate\"]):\n",
    "    # make recordPath from SPASE_id provided\n",
    "    before, sep, after = record.partition('/')\n",
    "    recordPath = '/home/jovyan' + after\n",
    "    \n",
    "    # retrieve metadata\n",
    "    (ResourceID, ResourceIDField, author, authorField, authorRole, pub, pubField, pubDate, pubDateField, datasetName, \n",
    "             datasetNameField, desc, descField, PID, PIDField, AccessRights, licenseField, datalinkField, \n",
    "             version, ReleaseDate) = SPASE_Scraper(recordPath)\n",
    "    \n",
    "    # grab only year from the date\n",
    "    pubYear = pubDate[0:4]\n",
    "    # concatenate author and authorRole into single strings\n",
    "    author = \", \".join(author)\n",
    "    authorRole = \", \".join(authorRole)\n",
    "\n",
    "    # separate license, url, and product keys from AccessRights\n",
    "    license, url, prodKey = AccessRightsSep(AccessRights, False)\n",
    "    \n",
    "    # print values of metadata specified in fields list provided\n",
    "    # give each print out a label showing what is being printed\n",
    "    for field in fields:\n",
    "        if field == \"ResourceID\":\n",
    "            print(\"The ResourceID is \" + ResourceID + \" which was obtained from \" + ResourceIDField)\n",
    "        if field == \"author\":\n",
    "            print(\"The author(s) are \" + author + \" who are \" + authorRole + \" which was obtained from \" + authorField)\n",
    "        if field == \"pubYr\":\n",
    "            print(\"The publication year is \" + pubYear + \" which was obtained from \" + pubDateField)\n",
    "        if field == \"pub\":\n",
    "            print(\"The publisher is \" + pub + \" which was obtained from \" + pubField)\n",
    "        if field == \"datasetName\":\n",
    "            print(\"The dataset name is \" + datasetName + \" which was obtained from \" + datasetNameField)\n",
    "        if field == \"description\":\n",
    "            print(\"The description is \" + desc + \" which was obtained from \" + descField)\n",
    "        if field == \"PID\":\n",
    "            print(\"The persistent identifier is \" + PID + \" which was obtained from \" + PIDField)\n",
    "        if field == \"license\":\n",
    "            print(\"The license is \" + license + \" which was obtained from \" + licenseField)\n",
    "        if field == \"url\":\n",
    "            print(\"The URL(s) are \" + url + \" which was obtained from \" + datalinkField)\n",
    "        if field == \"prodKey\":\n",
    "            print(\"The product key(s) are \" + prodKey + \" which was obtained from \" + datalinkField)\n",
    "        if field == \"version\":\n",
    "            print(\"The version is \" + version)\n",
    "        if field == \"ReleaseDate\":\n",
    "            print(\"The ReleaseDate is \" + ReleaseDate)\n",
    "            \n",
    "MetadataPrinter(\"spase://NASA/NumericalData/Interball-2/IMAP3/PT120S\", fields = [\"description\"])"
   ]
  },
  {
   "cell_type": "code",
   "execution_count": null,
   "id": "24d807ab-11c6-42a3-b25c-0d32a527cb8c",
   "metadata": {},
   "outputs": [],
   "source": []
  }
 ],
 "metadata": {
  "kernelspec": {
   "display_name": "Python 3 (ipykernel)",
   "language": "python",
   "name": "python3"
  },
  "language_info": {
   "codemirror_mode": {
    "name": "ipython",
    "version": 3
   },
   "file_extension": ".py",
   "mimetype": "text/x-python",
   "name": "python",
   "nbconvert_exporter": "python",
   "pygments_lexer": "ipython3",
   "version": "3.10.8"
  }
 },
 "nbformat": 4,
 "nbformat_minor": 5
}
