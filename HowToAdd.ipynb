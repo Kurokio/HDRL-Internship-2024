{
 "cells": [
  {
   "cell_type": "markdown",
   "id": "afec8ea9-60fc-4083-9294-f5abd228a139",
   "metadata": {},
   "source": [
    "# SPASE Record Analysis - How to Add New Extracted Items or New Tests\n",
    "\n",
    "If you have not viewed the related notebook, \"How to Use\", do so before going through this notebook. <br>\n",
    "\n",
    "This notebook runs through how to add to this project, specifically:\n",
    "1. how to add additional fields to extract from SPASE records\n",
    "2. how to add to the SQLite database \n",
    "3. how to add new database queries to report the results in the tables <br>"
   ]
  },
  {
   "cell_type": "markdown",
   "id": "ca1f8264-bdd4-4957-8a78-239aa0ce1218",
   "metadata": {
    "jp-MarkdownHeadingCollapsed": true,
    "tags": []
   },
   "source": [
    "## Adding additional extraction fields\n",
    "\n",
    "For this example, we will show how to add the ORCID ID.\n",
    "\n",
    "The code introduced can be placed where it says to in the SPASE_Scraper_Script comments. Find them easily using Ctrl-F and searching for 'Code X'."
   ]
  },
  {
   "cell_type": "markdown",
   "id": "0d010df0-15ca-4d7d-b019-e769174eb07f",
   "metadata": {},
   "source": [
    "> First up, in order to account for the instance that there are multiple authors we are scraping, the variable for ORCID needs to be a list. Also needed is another variable to temporarily hold the ORCID ID since we only return the IDs of authors that are within priorities. To cover the case when no authors are provided, we need to give both ORCID variables default values: <br>\n",
    "\n",
    "We will call this code Code A\n",
    "```python\n",
    "ORCID = []\n",
    "ORCID_ID = \"\"\n",
    "```"
   ]
  },
  {
   "cell_type": "markdown",
   "id": "3f661c7c-3bf0-4895-bd6f-a18284fa6142",
   "metadata": {},
   "source": [
    "> Next, we need to know where the value would be found. ORCID ID would likely be found in the Contact section. With this in mind, we need to find in the SPASE_Scraper_Script where we iterate through that section: <br>\n",
    "```python\n",
    "elif child.tag.endswith(\"Contact\"):\n",
    "    C_Child = child\n",
    "# iterate thru Contact to find PersonID and Role\n",
    "for child in C_Child:\n",
    "```"
   ]
  },
  {
   "cell_type": "markdown",
   "id": "d2fc3ac3-b6ca-4f56-8284-768de32f64b1",
   "metadata": {},
   "source": [
    "> After that, we need to add another elif statement to check the child nodes within Contact for the tag we are seeking, which in this case may be something like \"ORCID\". Then we just save the text tagged by ORCID into our temporary variable. This would look similar to what is needed: <br>\n",
    "\n",
    "This is Code B.\n",
    "\n",
    "```python\n",
    "# find ORCID\n",
    "elif child.tag.endswith(\"ORCID\"):\n",
    "    # store ORCID\n",
    "    ORCID_ID = child.text\n",
    "```"
   ]
  },
  {
   "cell_type": "markdown",
   "id": "2fa02555-8963-4232-bb22-c6c9521a01b6",
   "metadata": {},
   "source": [
    "> Then, if an author is found that fits our priority rules, we assign this temporary value to the list at the same time we add the author name and author roles to theirs. This keeps the ordering the same so that the ORCID ID stays with the author it belongs to. There are 2 places the author can be collected outside of the Publication Info section, so both of these assignments would need to be added to each of these areas. <br>\n",
    "\n",
    "This is code C.\n",
    "```python \n",
    "ORCID = [ORCID_ID]\n",
    "```\n",
    "And this is code D.\n",
    "```python\n",
    "ORCID.append(ORCID_ID)\n",
    "```"
   ]
  },
  {
   "cell_type": "markdown",
   "id": "f9776c8d-79b4-4d53-9777-eabda30005d0",
   "metadata": {},
   "source": [
    "> Lastly, add the ORCID list as a return and edit the calls to the script in the main.py file to reflect the added return."
   ]
  },
  {
   "cell_type": "markdown",
   "id": "c281a39f-ff8e-47ab-beb5-eb6a49f3449f",
   "metadata": {},
   "source": [
    "## Adding new field to the database\n",
    "\n",
    "This section will continue with our previous example of the ORCID ID to show you how to add it to the SPASE_Data.db database."
   ]
  },
  {
   "cell_type": "markdown",
   "id": "00684eb4-82d6-43e5-9e8b-c48613ca5cda",
   "metadata": {},
   "source": [
    "> First, we would need to add a column to both the MetadataEntries and TestResults tables. This can be done by using the ALTER TABLE command in SQLite.\n",
    "\n",
    "```python\n",
    "from SQLiteFun import executionALL\n",
    "\n",
    "executionALL(\"\"\"ALTER TABLE MetadataEntries ADD COLUMN\n",
    "                    ORCID_ID TEXT\"\"\")\n",
    "executionALL(\"\"\"ALTER TABLE TestResults ADD COLUMN\n",
    "                    has_ORCID INTEGER\"\"\")\n",
    "```"
   ]
  },
  {
   "cell_type": "code",
   "execution_count": null,
   "id": "a040e4f3-8436-4929-ba71-ef233812200f",
   "metadata": {},
   "outputs": [],
   "source": []
  }
 ],
 "metadata": {
  "kernelspec": {
   "display_name": "Python 3 (ipykernel)",
   "language": "python",
   "name": "python3"
  },
  "language_info": {
   "codemirror_mode": {
    "name": "ipython",
    "version": 3
   },
   "file_extension": ".py",
   "mimetype": "text/x-python",
   "name": "python",
   "nbconvert_exporter": "python",
   "pygments_lexer": "ipython3",
   "version": "3.10.8"
  }
 },
 "nbformat": 4,
 "nbformat_minor": 5
}
