{
 "cells": [
  {
   "cell_type": "code",
   "execution_count": 1,
   "id": "d0ddd1f8-a57e-4879-9a2e-c65f484d27f5",
   "metadata": {},
   "outputs": [
    {
     "name": "stdout",
     "output_type": "stream",
     "text": [
      "3.40.0\n"
     ]
    }
   ],
   "source": [
    "import sqlite3\n",
    "\n",
    "def create_sqlite_database(filename):\n",
    "    \"\"\" create a database connection to an SQLite database \"\"\"\n",
    "    conn = None\n",
    "    try:\n",
    "        conn = sqlite3.connect(filename)\n",
    "        print(sqlite3.sqlite_version)\n",
    "    except sqlite3.Error as e:\n",
    "        print(e)\n",
    "    finally:\n",
    "        if conn:\n",
    "            conn.close()\n",
    "\n",
    "def create_tables():\n",
    "    sql_statements = [ \n",
    "        \"\"\"CREATE TABLE IF NOT EXISTS SPASE_Metadata (\n",
    "                id INTEGER PRIMARY KEY, \n",
    "                SPASE_id TEXT NOT NULL UNIQUE, \n",
    "                author TEXT, \n",
    "                publisher TEXT, \n",
    "                publication_year TEXT, \n",
    "                dataset_name TEXT, \n",
    "                license TEXT,\n",
    "                datalink TEXT,\n",
    "                description TEXT,\n",
    "                persistent_identifier TEXT\n",
    "        );\"\"\"]\n",
    "\n",
    "def add_SPASE(conn, entry):\n",
    "    sql = '''INSERT INTO SPASE_Metadata(SPASE_id,author,publisher,publication_year,dataset_name,license,datalink,\n",
    "                                        description,persistent_identifier)\n",
    "             VALUES(?,?,?,?,?,?,?,?,?) '''\n",
    "    cur = conn.cursor()\n",
    "    cur.execute(sql, entry)\n",
    "    conn.commit()\n",
    "    return cur.lastrowid\n"
   ]
  }
 ],
 "metadata": {
  "kernelspec": {
   "display_name": "Python 3 (ipykernel)",
   "language": "python",
   "name": "python3"
  },
  "language_info": {
   "codemirror_mode": {
    "name": "ipython",
    "version": 3
   },
   "file_extension": ".py",
   "mimetype": "text/x-python",
   "name": "python",
   "nbconvert_exporter": "python",
   "pygments_lexer": "ipython3",
   "version": "3.10.8"
  }
 },
 "nbformat": 4,
 "nbformat_minor": 5
}
