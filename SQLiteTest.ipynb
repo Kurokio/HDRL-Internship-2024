{
 "cells": [
  {
   "cell_type": "code",
   "execution_count": 1,
   "id": "d0ddd1f8-a57e-4879-9a2e-c65f484d27f5",
   "metadata": {},
   "outputs": [
    {
     "name": "stdout",
     "output_type": "stream",
     "text": [
      "3.40.0\n"
     ]
    }
   ],
   "source": [
    "import sqlite3\n",
    "\n",
    "def create_sqlite_database(filename):\n",
    "    \"\"\" create a database connection to an SQLite database \"\"\"\n",
    "    conn = None\n",
    "    try:\n",
    "        conn = sqlite3.connect(filename)\n",
    "        print(sqlite3.sqlite_version)\n",
    "    except sqlite3.Error as e:\n",
    "        print(e)\n",
    "    finally:\n",
    "        if conn:\n",
    "            conn.close()\n",
    "\n",
    "# add table to existing db\n",
    "def create_tables():\n",
    "    sql_statements = [ \n",
    "        \"\"\"CREATE TABLE IF NOT EXISTS SPASE_Metadata (\n",
    "                id INTEGER PRIMARY KEY, \n",
    "                SPASE_id TEXT NOT NULL UNIQUE, \n",
    "                author TEXT,\n",
    "                author_source TEXT,\n",
    "                publisher TEXT,\n",
    "                publisher_source TEXT,\n",
    "                publication_yr TEXT,\n",
    "                publication_yr_source TEXT,\n",
    "                dataset TEXT,\n",
    "                dataset_source TEXT,\n",
    "                license TEXT,\n",
    "                license_source TEXT,\n",
    "                datalink TEXT,\n",
    "                datalink_source TEXT,\n",
    "                description TEXT,\n",
    "                description_source TEXT,\n",
    "                PI TEXT,\n",
    "                PI_source TEXT\n",
    "        );\"\"\"]\n",
    "    # create a database connection\n",
    "    try:\n",
    "        with sqlite3.connect('SPASE_Data.db') as conn:\n",
    "            cursor = conn.cursor()\n",
    "            for statement in sql_statements:\n",
    "                cursor.execute(statement)\n",
    "\n",
    "            conn.commit()\n",
    "    except sqlite3.Error as e:\n",
    "        print(e)\n",
    "\n",
    "# add entries/rows to table\n",
    "def add_SPASE(conn, entry):\n",
    "    sql = '''INSERT INTO SPASE_Metadata(SPASE_id,author,author_source,publisher,publisher_source,\n",
    "            publication_yr,publication_yr_source,dataset,dataset_source,license,license_source,\n",
    "            datalink,datalink_source,description,description_source,PI,PI_source)\n",
    "            VALUES(?,?,?,?,?,?,?,?,?,?,?,?,?,?,?,?,?) '''\n",
    "    cur = conn.cursor()\n",
    "    cur.execute(sql, entry)\n",
    "    conn.commit()\n",
    "    return cur.lastrowid\n"
   ]
  }
 ],
 "metadata": {
  "kernelspec": {
   "display_name": "Python 3 (ipykernel)",
   "language": "python",
   "name": "python3"
  },
  "language_info": {
   "codemirror_mode": {
    "name": "ipython",
    "version": 3
   },
   "file_extension": ".py",
   "mimetype": "text/x-python",
   "name": "python",
   "nbconvert_exporter": "python",
   "pygments_lexer": "ipython3",
   "version": "3.10.8"
  }
 },
 "nbformat": 4,
 "nbformat_minor": 5
}
