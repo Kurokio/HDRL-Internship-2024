{
 "cells": [
  {
   "cell_type": "code",
   "execution_count": 1,
   "id": "d0ddd1f8-a57e-4879-9a2e-c65f484d27f5",
   "metadata": {},
   "outputs": [
    {
     "name": "stdout",
     "output_type": "stream",
     "text": [
      "3.40.0\n"
     ]
    }
   ],
   "source": [
    "import sqlite3\n",
    "\n",
    "def create_sqlite_database(filename):\n",
    "    \"\"\" create a database connection to an SQLite database \"\"\"\n",
    "    conn = None\n",
    "    try:\n",
    "        conn = sqlite3.connect(filename)\n",
    "        print(sqlite3.sqlite_version)\n",
    "    except sqlite3.Error as e:\n",
    "        print(e)\n",
    "    finally:\n",
    "        if conn:\n",
    "            conn.close()\n",
    "\n",
    "# add table to existing db\n",
    "def create_tables():\n",
    "    sql_statements = [ \n",
    "        \"\"\"CREATE TABLE IF NOT EXISTS MetadataEntries (\n",
    "                rowNum INTEGER PRIMARY KEY, \n",
    "                SPASE_id TEXT NOT NULL UNIQUE, \n",
    "                author TEXT,\n",
    "                authorRole TEXT,\n",
    "                publisher TEXT,\n",
    "                publicationYr TEXT,\n",
    "                dataset TEXT,\n",
    "                license TEXT,\n",
    "                prodKey TEXT,\n",
    "                URL TEXT,\n",
    "                description TEXT,\n",
    "                PI TEXT\n",
    "        );\"\"\",\n",
    "        \"\"\"CREATE TABLE IF NOT EXISTS MetadataSources (\n",
    "                rowNum INTEGER PRIMARY KEY, \n",
    "                SPASE_id TEXT NOT NULL UNIQUE, \n",
    "                author_source TEXT,\n",
    "                publisher_source TEXT,\n",
    "                publication_yr_source TEXT,\n",
    "                dataset_source TEXT,\n",
    "                license_source TEXT,\n",
    "                datalink_source TEXT,\n",
    "                description_source TEXT,\n",
    "                PI_source TEXT\n",
    "        );\"\"\"\n",
    "        \"\"\"CREATE TABLE IF NOT EXISTS TestResults (\n",
    "                rowNum INTEGER PRIMARY KEY, \n",
    "                SPASE_id TEXT NOT NULL UNIQUE, \n",
    "                FAIR_Score INTEGER,\n",
    "                FAIR_ScoreDate TEXT,\n",
    "                MostRecent TEXT\n",
    "        );\"\"\"\n",
    "        \"\"\"CREATE TABLE IF NOT EXISTS Records (\n",
    "                rowNum INTEGER PRIMARY KEY, \n",
    "                SPASE_id TEXT NOT NULL UNIQUE, \n",
    "                SPASE_Version INTEGER,\n",
    "                LastModified TEXT,\n",
    "                SPASE_URL TEXT\n",
    "        );\"\"\"]\n",
    "    # create a database connection\n",
    "    try:\n",
    "        with sqlite3.connect('SPASE_Data.db') as conn:\n",
    "            cursor = conn.cursor()\n",
    "            for statement in sql_statements:\n",
    "                cursor.execute(statement)\n",
    "\n",
    "            conn.commit()\n",
    "    except sqlite3.Error as e:\n",
    "        print(e)\n",
    "\n",
    "# add entries/rows to table\n",
    "def add_Metadata(conn, entry):\n",
    "    sql = '''INSERT INTO MetadataEntries(SPASE_id,author,authorRole,publisher,publication_yr,dataset,\n",
    "            license,prodKey,URL,description,PI)\n",
    "            VALUES(?,?,?,?,?,?,?,?,?,?,?) '''\n",
    "    cur = conn.cursor()\n",
    "    cur.execute(sql, entry)\n",
    "    conn.commit()\n",
    "    return cur.lastrowid\n",
    "\n",
    "def add_Sources(conn, entry):\n",
    "    sql = '''INSERT INTO MetadataSources(SPASE_id,author_source,publisher_source,\n",
    "            publication_yr_source,dataset_source,license_source,datalink_source,description_source,PI_source)\n",
    "            VALUES(?,?,?,?,?,?,?,?,?) '''\n",
    "    cur = conn.cursor()\n",
    "    cur.execute(sql, entry)\n",
    "    conn.commit()\n",
    "    return cur.lastrowid\n",
    "\n",
    "def add_TestResults(conn, entry):\n",
    "    sql = '''INSERT INTO TestResults(SPASE_id,FAIR_Score,FAIR_ScoreDate,MostRecent)\n",
    "            VALUES(?,?,?,?) '''\n",
    "    cur = conn.cursor()\n",
    "    cur.execute(sql, entry)\n",
    "    conn.commit()\n",
    "    return cur.lastrowid\n",
    "\n",
    "def add_Records(conn, entry):\n",
    "    sql = '''INSERT INTO Records(SPASE_id, SPASE_Version,LastModified,SPASE_URL)\n",
    "            VALUES(?,?,?,?) '''\n",
    "    cur = conn.cursor()\n",
    "    cur.execute(sql, entry)\n",
    "    conn.commit()\n",
    "    return cur.lastrowid"
   ]
  },
  {
   "cell_type": "code",
   "execution_count": null,
   "id": "925cd60e-d8ff-4c2b-b840-5f2ac480d918",
   "metadata": {},
   "outputs": [
    {
     "name": "stdout",
     "output_type": "stream",
     "text": [
      "no such table: SPASE_Metadata\n",
      "('spase://NASA/NumericalData/Cassini/MAG/PT60S', 'spase://SMWG/Person/Robert.J.Strangeway', 'PrincipalInvestigator')\n"
     ]
    }
   ],
   "source": [
    "# delete row from table\n",
    "import sqlite3\n",
    "\n",
    "try:\n",
    "    with sqlite3.connect(\"SPASE_Data.db\") as conn:\n",
    "        cur = conn.cursor()\n",
    "        delete_stmt = 'DELETE FROM SPASE_Metadata WHERE id = ?'\n",
    "        cur.execute(delete_stmt, (1,))\n",
    "        conn.commit()\n",
    "except sqlite3.Error as e:\n",
    "    print(e)\n",
    "    \n",
    "# select row(s) from table\n",
    "try:\n",
    "    with sqlite3.connect(\"SPASE_Data.db\") as conn:\n",
    "        cur = conn.cursor()\n",
    "        cur.execute('SELECT * FROM SPASE_Metadata WHERE ')\n",
    "        rows = cur.fetchall()\n",
    "        for row in rows:\n",
    "            print(row)\n",
    "except sqlite3.Error as e:\n",
    "    print(e)"
   ]
  },
  {
   "cell_type": "code",
   "execution_count": 5,
   "id": "17890652-1146-4e5f-847e-4c41bab99c43",
   "metadata": {},
   "outputs": [
    {
     "name": "stdout",
     "output_type": "stream",
     "text": [
      "('spase://NASA/NumericalData/Cassini/MAG/PT60S', 'spase://SMWG/Person/Robert.J.Strangeway', 'PrincipalInvestigator')\n"
     ]
    }
   ],
   "source": [
    "# select row(s) from table\n",
    "import sqlite3\n",
    "try:\n",
    "    with sqlite3.connect(\"SPASE_Data.db\") as conn:\n",
    "        cur = conn.cursor()\n",
    "        cur.execute(\"\"\"SELECT DISTINCT SPASE_id, author, authorRole FROM MetadataEntries \n",
    "                        WHERE SPASE_id LIKE \"%NumericalData/Cassini/MAG/PT60S\" \"\"\")\n",
    "        rows = cur.fetchall()\n",
    "        for row in rows:\n",
    "            print(row)\n",
    "except sqlite3.Error as e:\n",
    "    print(e)\n",
    "    "
   ]
  },
  {
   "cell_type": "code",
   "execution_count": 6,
   "id": "684edf60-02be-4efd-b873-465fe98ab0ae",
   "metadata": {},
   "outputs": [
    {
     "name": "stdout",
     "output_type": "stream",
     "text": [
      "('spase://NASA/NumericalData/ACE/CRIS/L2/P1D', 'ftps://spdf.gsfc.nasa.gov/pub/data/ace/cris/level_2_cdaweb/cris_h3/', '[]')\n",
      "('spase://NASA/NumericalData/ACE/CRIS/L2/P1D', 'https://spdf.gsfc.nasa.gov/pub/data/ace/cris/level_2_cdaweb/cris_h3/', '[]')\n",
      "('spase://NASA/NumericalData/ACE/CRIS/L2/P1D', 'https://cdaweb.gsfc.nasa.gov/cgi-bin/eval2.cgi?dataset=AC_H3_CRIS&index=sp_phys', \"['AC_H3_CRIS']\")\n",
      "('spase://NASA/NumericalData/ACE/CRIS/L2/P1D', 'https://cdaweb.gsfc.nasa.gov/hapi', \"['AC_H3_CRIS']\")\n"
     ]
    }
   ],
   "source": [
    "# select row(s) from table\n",
    "import sqlite3\n",
    "try:\n",
    "    with sqlite3.connect(\"SPASE_Data.db\") as conn:\n",
    "        cur = conn.cursor()\n",
    "        cur.execute(\"\"\"SELECT SPASE_id, url, prodKey FROM MetadataEntries \n",
    "                        WHERE SPASE_id LIKE \"%NumericalData/ACE/CRIS/L2/P1D\" \"\"\")\n",
    "        rows = cur.fetchall()\n",
    "        for row in rows:\n",
    "            print(row)\n",
    "except sqlite3.Error as e:\n",
    "    print(e)"
   ]
  },
  {
   "cell_type": "code",
   "execution_count": null,
   "id": "0a90c0f3-8caa-4488-8e03-e7c9297f7a9b",
   "metadata": {},
   "outputs": [],
   "source": []
  }
 ],
 "metadata": {
  "kernelspec": {
   "display_name": "Python 3 (ipykernel)",
   "language": "python",
   "name": "python3"
  },
  "language_info": {
   "codemirror_mode": {
    "name": "ipython",
    "version": 3
   },
   "file_extension": ".py",
   "mimetype": "text/x-python",
   "name": "python",
   "nbconvert_exporter": "python",
   "pygments_lexer": "ipython3",
   "version": "3.10.8"
  }
 },
 "nbformat": 4,
 "nbformat_minor": 5
}
