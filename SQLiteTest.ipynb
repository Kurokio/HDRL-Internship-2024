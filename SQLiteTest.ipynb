{
 "cells": [
  {
   "cell_type": "code",
   "execution_count": 1,
   "id": "d0ddd1f8-a57e-4879-9a2e-c65f484d27f5",
   "metadata": {},
   "outputs": [
    {
     "name": "stdout",
     "output_type": "stream",
     "text": [
      "3.40.0\n"
     ]
    }
   ],
   "source": [
    "import sqlite3\n",
    "\n",
    "def create_sqlite_database(filename):\n",
    "    \"\"\" create a database connection to an SQLite database \"\"\"\n",
    "    conn = None\n",
    "    try:\n",
    "        conn = sqlite3.connect(filename)\n",
    "        print(sqlite3.sqlite_version)\n",
    "    except sqlite3.Error as e:\n",
    "        print(e)\n",
    "    finally:\n",
    "        if conn:\n",
    "            conn.close()"
   ]
  },
  {
   "cell_type": "code",
   "execution_count": null,
   "id": "925cd60e-d8ff-4c2b-b840-5f2ac480d918",
   "metadata": {},
   "outputs": [],
   "source": [
    "# delete row from table\n",
    "import sqlite3\n",
    "\n",
    "try:\n",
    "    with sqlite3.connect(\"SPASE_Data.db\") as conn:\n",
    "        cur = conn.cursor()\n",
    "        delete_stmt = 'DELETE FROM SPASE_Metadata WHERE id = ?'\n",
    "        cur.execute(delete_stmt, (1,))\n",
    "        conn.commit()\n",
    "except sqlite3.Error as e:\n",
    "    print(e)\n",
    "    \n",
    "# select row(s) from table\n",
    "try:\n",
    "    with sqlite3.connect(\"SPASE_Data.db\") as conn:\n",
    "        cur = conn.cursor()\n",
    "        cur.execute('SELECT * FROM SPASE_Metadata WHERE ')\n",
    "        rows = cur.fetchall()\n",
    "        for row in rows:\n",
    "            print(row)\n",
    "except sqlite3.Error as e:\n",
    "    print(e)"
   ]
  },
  {
   "cell_type": "code",
   "execution_count": null,
   "id": "17890652-1146-4e5f-847e-4c41bab99c43",
   "metadata": {},
   "outputs": [],
   "source": [
    "# select row(s) from table\n",
    "# check authors\n",
    "import sqlite3\n",
    "\n",
    "try:\n",
    "    with sqlite3.connect(\"SPASE_Data.db\") as conn:\n",
    "        cur = conn.cursor()\n",
    "        cur.execute(\"\"\"SELECT DISTINCT SPASE_id, author, authorRole FROM MetadataEntries \n",
    "                        WHERE SPASE_id LIKE \"%NumericalData/Cassini/MAG/PT60S\" \"\"\")\n",
    "        rows = cur.fetchall()\n",
    "        for row in rows:\n",
    "            print(\"The Resource ID is \" + row[0])\n",
    "            print(\"The author is \" + row[1])\n",
    "            print(\"The author role is \" + row[2])\n",
    "except sqlite3.Error as e:\n",
    "    print(e)\n",
    "    "
   ]
  },
  {
   "cell_type": "code",
   "execution_count": null,
   "id": "684edf60-02be-4efd-b873-465fe98ab0ae",
   "metadata": {},
   "outputs": [],
   "source": [
    "# select row(s) from table\n",
    "# check url and prodKeys\n",
    "import sqlite3\n",
    "try:\n",
    "    with sqlite3.connect(\"SPASE_Data.db\") as conn:\n",
    "        cur = conn.cursor()\n",
    "        cur.execute(\"\"\"SELECT SPASE_id, url, prodKey FROM MetadataEntries \n",
    "                        WHERE SPASE_id LIKE \"%NumericalData/ACE/CRIS/L2/P1D\" \"\"\")\n",
    "        rows = cur.fetchall()\n",
    "        for row in rows:\n",
    "            print(\"The Resource ID is \" + row[0])\n",
    "            print(\"The url is \" + row[1])\n",
    "            print(\"The product key(s) is/are \" + row[2])\n",
    "except sqlite3.Error as e:\n",
    "    print(e)"
   ]
  },
  {
   "cell_type": "code",
   "execution_count": 9,
   "id": "0a90c0f3-8caa-4488-8e03-e7c9297f7a9b",
   "metadata": {},
   "outputs": [
    {
     "name": "stdout",
     "output_type": "stream",
     "text": [
      "There are 2890 records with at least one author\n"
     ]
    }
   ],
   "source": [
    "# select row(s) from table\n",
    "# Does record have at least one author?\n",
    "import sqlite3\n",
    "try:\n",
    "    with sqlite3.connect(\"SPASE_Data.db\") as conn:\n",
    "        cur = conn.cursor()\n",
    "        cur.execute(\"\"\"SELECT COUNT(DISTINCT SPASE_id) FROM MetadataEntries \n",
    "                        WHERE author NOT LIKE \"\" \"\"\")\n",
    "        rows = cur.fetchall()\n",
    "        for row in rows:\n",
    "            print(\"There are \" + str(row[0]) + \" records with at least one author\")\n",
    "except sqlite3.Error as e:\n",
    "    print(e)"
   ]
  },
  {
   "cell_type": "code",
   "execution_count": 17,
   "id": "31250ef0-0b4a-4921-979b-29cba85dd0af",
   "metadata": {},
   "outputs": [
    {
     "name": "stdout",
     "output_type": "stream",
     "text": [
      "('spase://NASA/NumericalData/SOHO/UVCS/PT9M',)\n",
      "('spase://NASA/NumericalData/SOHO/SUMER/VSO_SDAC',)\n",
      "('spase://NASA/NumericalData/SOHO/EIT/Level1/PT12M',)\n",
      "('spase://NASA/NumericalData/SOHO/EIT/Level0/PT12M',)\n",
      "('spase://NASA/NumericalData/SOHO/LASCO/VSO_SDAC',)\n",
      "('spase://NASA/NumericalData/SOHO/LASCO/Near_Real_Time',)\n",
      "('spase://NASA/NumericalData/SDO/AIA/NWRA/AARP/PT12S',)\n"
     ]
    }
   ],
   "source": [
    "# How many records published by SDAC in X year?\n",
    "import sqlite3\n",
    "try:\n",
    "    with sqlite3.connect(\"SPASE_Data.db\") as conn:\n",
    "        cur = conn.cursor()\n",
    "        cur.execute(\"\"\"SELECT DISTINCT SPASE_id FROM MetadataEntries \n",
    "                        WHERE publisher LIKE \"%SDAC\" OR publisher LIKE \n",
    "                        \"%Solar Data Analysis Center\" \"\"\")\n",
    "        rows = cur.fetchall()\n",
    "        for row in rows:\n",
    "            #print(\"There are \" + str(row[0]) + \" records published by SDAC\")\n",
    "            print(row)\n",
    "except sqlite3.Error as e:\n",
    "    print(e)"
   ]
  },
  {
   "cell_type": "code",
   "execution_count": null,
   "id": "86294aaf-4034-4df7-b178-48c6c6685b40",
   "metadata": {},
   "outputs": [],
   "source": []
  }
 ],
 "metadata": {
  "kernelspec": {
   "display_name": "Python 3 (ipykernel)",
   "language": "python",
   "name": "python3"
  },
  "language_info": {
   "codemirror_mode": {
    "name": "ipython",
    "version": 3
   },
   "file_extension": ".py",
   "mimetype": "text/x-python",
   "name": "python",
   "nbconvert_exporter": "python",
   "pygments_lexer": "ipython3",
   "version": "3.10.8"
  }
 },
 "nbformat": 4,
 "nbformat_minor": 5
}
