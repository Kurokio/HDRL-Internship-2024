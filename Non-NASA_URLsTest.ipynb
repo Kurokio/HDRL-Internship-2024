{
 "cells": [
  {
   "cell_type": "markdown",
   "id": "e041f39f-7e8a-4c6f-b44f-f14ece49f9a0",
   "metadata": {},
   "source": [
    "# Test Notebook\n",
    "This notebook finds the number of records found in the text file containing all records that do not have NASA URLs that are not part of the database (MetadataEntries)."
   ]
  },
  {
   "cell_type": "code",
   "execution_count": null,
   "id": "b282d46e-67c4-47fb-9331-c107a19e9b8f",
   "metadata": {},
   "outputs": [],
   "source": [
    "from SQLiteFun import create_sqlite_database\n",
    "from main import Create\n",
    "\n",
    "conn = create_sqlite_database(\"SPASE_Data_20240715.db\")\n",
    "\n",
    "# if exporting records w/o NASA URLs, uncomment this line and the textFile lines below\n",
    "# also needed is adding lines as an arg/param to Create, \n",
    "#      lines and ResourceID to AccessRightsSep, and uncomment appending to lines in that function\n",
    "lines = []\n",
    "\n",
    "# updates current records from this directory in the MetadataEntries table\n",
    "Create('/home/jovyan/NASA/NumericalData', conn, lines)\n",
    "Create('/home/jovyan/NASA/DisplayData', conn, lines)\n",
    "\n",
    "# clear .txt file or use another file instead\n",
    "textFile = open(\"../NoLinkRecords2.txt\", \"a\")\n",
    "repeat = []\n",
    "for line in lines:\n",
    "    #rid, url = line.split(\",\")\n",
    "    if line not in repeat:\n",
    "        textFile.write(line)\n",
    "        textFile.write(\"\\n\")\n",
    "        repeat.append(line)\n",
    "textFile.close()"
   ]
  },
  {
   "cell_type": "code",
   "execution_count": null,
   "id": "13afb3f6-c24d-4b9b-baed-9eecc7a7c7d5",
   "metadata": {},
   "outputs": [],
   "source": [
    "from main import View\n",
    "records = View(conn, desired = [\"all\", \"NASAurl\"])\n",
    "allRecords = records[\"all\"]\n",
    "NASAurlRecords = records[\"NASAurl\"]"
   ]
  },
  {
   "cell_type": "code",
   "execution_count": null,
   "id": "93612901-55f8-46f7-9f0e-be16a9fd0332",
   "metadata": {},
   "outputs": [],
   "source": [
    "RIDs = []\n",
    "#URLs = []\n",
    "for record in repeat:\n",
    "    rid, url = record.split(\",\")\n",
    "    RIDs.append(rid)\n",
    "    #URLs.append(url)\n",
    "\n",
    "unique = list(set(allRecords)-set(NASAurlRecords))\n",
    "print(len(unique))\n",
    "\n",
    "import numpy as np\n",
    "uniqueNP = np.setdiff1d(RIDs, unique)\n",
    "print(len(uniqueNP))\n",
    "uniqueNP[:10]"
   ]
  }
 ],
 "metadata": {
  "kernelspec": {
   "display_name": "Python 3 (ipykernel)",
   "language": "python",
   "name": "python3"
  },
  "language_info": {
   "codemirror_mode": {
    "name": "ipython",
    "version": 3
   },
   "file_extension": ".py",
   "mimetype": "text/x-python",
   "name": "python",
   "nbconvert_exporter": "python",
   "pygments_lexer": "ipython3",
   "version": "3.10.8"
  }
 },
 "nbformat": 4,
 "nbformat_minor": 5
}
