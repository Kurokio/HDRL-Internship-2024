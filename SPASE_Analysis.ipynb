{
 "cells": [
  {
   "cell_type": "code",
   "execution_count": null,
   "id": "aefb448f-0864-43cb-9690-e281a5378c5f",
   "metadata": {},
   "outputs": [],
   "source": [
    "# import functions from .py files\n",
    "import pprint, sqlite3\n",
    "from SPASE_Scraper_Script import SPASE_Scraper\n",
    "from PathGrabber import getPaths\n",
    "from SQLiteFun import (create_tables, add_Metadata, add_Sources)\n",
    "\n",
    "# list that holds paths returned by PathGrabber\n",
    "SPASE_paths = []\n",
    "\n",
    "# print Flag (True prints, False does not)\n",
    "printFlag = False\n",
    "\n",
    "# get user input and extract all SPASE records\n",
    "print(\"Enter root folder you want to search\")\n",
    "folder = input()\n",
    "print(\"You entered \" + folder)\n",
    "SPASE_paths = getPaths(folder, SPASE_paths)\n",
    "if printFlag:\n",
    "    print(\"The number of records is \"+ str(len(SPASE_paths)))\n",
    "    print(\"The SPASE records found are:\")\n",
    "    print(SPASE_paths)\n",
    "print(\"===========================================================================================================\")\n",
    "\n",
    "# list that holds SPASE records already checked\n",
    "searched = []\n",
    "\n",
    "# iterate through all SPASE records returned by PathGrabber\n",
    "for record in SPASE_paths:\n",
    "    # scrape metadata for each record\n",
    "    if record not in searched:\n",
    "        (RID, RIDField, author, authorField, authorRole, pub, pubField, pubDate, pubDateField, dataset, datasetField, \n",
    "         desc, descField, PI, PIField, AccessRights, licenseField, datalinkField) = SPASE_Scraper(record)\n",
    "        \n",
    "        # list that holds required fields\n",
    "        # required = [RID, description, author, authorRole, url]\n",
    "        \n",
    "        searched.append(record)\n",
    "        pubYear = pubDate[0:4]\n",
    "        author = \", \".join(author)\n",
    "        authorRole = \", \".join(authorRole)\n",
    "        if printFlag:\n",
    "            print(\"The ResourceID is \" + RID + \" which was obtained from \" + RIDField)\n",
    "            print(\"The author(s) are \" + author + \" who are \" + authorRole + \" which was obtained from \" + authorField)\n",
    "            print(\"The publication year is \" + pubYear + \" which was obtained from \" + pubDateField)\n",
    "            print(\"The publisher is \" + pub + \" which was obtained from \" + pubField)\n",
    "            print(\"The dataset is \" + dataset + \" which was obtained from \" + datasetField)\n",
    "            print(\"The description is \" + desc + \" which was obtained from \" + descField)\n",
    "            print(\"The persistent identifier is \" + PI + \" which was obtained from \" + PIField)\n",
    "            print(\"The URLs with their associated product keys obtained from \" + datalinkField + \"\"\" and their \n",
    "                  license(s) obtained from \"\"\" + licenseField + \" are: \")\n",
    "            pprint.pprint(AccessRights)\n",
    "\n",
    "        url = []\n",
    "        prodKey= []\n",
    "        license = \"\"\n",
    "        desired = False\n",
    "\n",
    "        # separate license, url, and product keys from AccessRights to store in db\n",
    "        for k, v in AccessRights.items():\n",
    "            # check if no URLs returned for any access\n",
    "            if not v:                \n",
    "                continue\n",
    "            else:\n",
    "                license = k\n",
    "                # check if any urls are for consideration\n",
    "                for link in v.keys():\n",
    "                    if (\"nasa.gov\" or \"virtualsolar.org\") in link:\n",
    "                        desired = True\n",
    "                for key, val in v.items():\n",
    "                    # allow desired URLs to be added to database\n",
    "                    if (\"nasa.gov\" or \"virtualsolar.org\") in key:\n",
    "                        url.append(str(key))\n",
    "                        prodKey.append(str(val))\n",
    "                    else:\n",
    "                        # if no desired URLs present\n",
    "                        if not desired:\n",
    "                            url = [\"No NASA Links\"]\n",
    "                            prodKey = [\"\"]\n",
    "                            \n",
    "                if printFlag:\n",
    "                    print(k + \" was assigned to license\")\n",
    "                    print(str(url) + \" was assigned to url\")\n",
    "                    print(str(prodKey) + \" was assigned to prodKey\")\n",
    "\n",
    "                    \n",
    "        # add tables to existing database\n",
    "        create_tables()\n",
    "        \n",
    "        # insert metadata entries into table\n",
    "        i = 0        \n",
    "        try:\n",
    "            with sqlite3.connect('SPASE_Data.db') as conn:\n",
    "                # add a new SPASE Record\n",
    "                for urls in url:\n",
    "                    Metadata = (RID,author,authorRole,pub,pubYear,dataset,license,url[i],prodKey[i],desc,PI)\n",
    "                    Record_id = add_Metadata(conn, Metadata)\n",
    "                    print(f'Created a Metadata entry with the row number {Record_id}')\n",
    "                    i += 1\n",
    "                # add a new Source record\n",
    "                Sources = (RID,authorField,pubField,pubDateField,datasetField,licenseField,\n",
    "                           datalinkField,descField,PIField)\n",
    "                Record_id = add_Sources(conn, Sources)\n",
    "                print(f'Created a Sources entry with row number {Record_id}')\n",
    "\n",
    "        except sqlite3.Error as e:\n",
    "            print(e)\n",
    "\n",
    "        print(\"===========================================================================================================\")\n",
    "\n",
    "    else:\n",
    "        continue\n",
    "\n",
    "# call .py file directly from notebook\n",
    "#%run ./SPASE_test.py {path} in notebook\n",
    "#import sys\n",
    "#args = sys.argv\n",
    "#path = args[1] in source file\n",
    "\n",
    "# test path : Small = \"/home/jovyan/NASA/NumericalData/DE2\" or Big = \"/home/jovyan/NASA/NumericalData/ACE\"\n",
    "# complex author ex: /home/jovyan/NASA/NumericalData/Cassini/MAG/PT60S.xml \n",
    "# OR /home/jovyan/NASA/NumericalData/ACE/Attitude/Definitive/PT1H.xml\n",
    "# complex URL ex: /home/jovyan/NASA/NumericalData/ACE/CRIS/L2/P1D.xml\n"
   ]
  },
  {
   "cell_type": "code",
   "execution_count": 2,
   "id": "f86ae661-0102-482c-a9ad-6b31e39c53fd",
   "metadata": {},
   "outputs": [
    {
     "data": {
      "text/plain": [
       "'Takes path of a .xml SPASE record file and returns a tuple of values of varying types which hold all \\n    desired metadata and the fields they came from. This will collect the desired metadata following the \\n    priority rules determined by SPASE record experts. If any desired metadata is not found, the default \\n    value assigned is an empty string.\\n    \\n    :param path: A string of the absolute/relative path of the SPASE record to be scraped.\\n    :type path: String\\n    :return: A tuple containing the metadata desired and where they were obtained.\\n    :rtype: tuple\\n    '"
      ]
     },
     "execution_count": 2,
     "metadata": {},
     "output_type": "execute_result"
    }
   ],
   "source": [
    "from SPASE_Scraper_Script import SPASE_Scraper\n",
    "\n",
    "SPASE_Scraper.__doc__"
   ]
  },
  {
   "cell_type": "code",
   "execution_count": 1,
   "id": "1772a7ba-3894-487d-891a-ebdb0e2dfa34",
   "metadata": {},
   "outputs": [
    {
     "name": "stdout",
     "output_type": "stream",
     "text": [
      "There are 5 records published by SDAC in the year 1996\n"
     ]
    }
   ],
   "source": [
    "import sqlite3\n",
    "from SQLiteFun import SDAC_records\n",
    "\n",
    "SDAC_records(\"1996\")"
   ]
  },
  {
   "cell_type": "code",
   "execution_count": 1,
   "id": "9b52ab27-b583-4392-a168-ea54a090495e",
   "metadata": {},
   "outputs": [
    {
     "ename": "NameError",
     "evalue": "name 'FormatPrint' is not defined",
     "output_type": "error",
     "traceback": [
      "\u001b[0;31m---------------------------------------------------------------------------\u001b[0m",
      "\u001b[0;31mNameError\u001b[0m                                 Traceback (most recent call last)",
      "Cell \u001b[0;32mIn [1], line 4\u001b[0m\n\u001b[1;32m      1\u001b[0m \u001b[38;5;28;01mfrom\u001b[39;00m \u001b[38;5;21;01mQueryPrinter\u001b[39;00m \u001b[38;5;28;01mimport\u001b[39;00m Counts, Links\n\u001b[1;32m      3\u001b[0m Obj \u001b[38;5;241m=\u001b[39m Counts()\n\u001b[0;32m----> 4\u001b[0m \u001b[43mObj\u001b[49m\u001b[38;5;241;43m.\u001b[39;49m\u001b[43mallRecords\u001b[49m\u001b[43m(\u001b[49m\u001b[43m)\u001b[49m\n\u001b[1;32m      6\u001b[0m \u001b[38;5;66;03m#testObj = Links()\u001b[39;00m\n\u001b[1;32m      7\u001b[0m \u001b[38;5;66;03m#testObj.allRecords()\u001b[39;00m\n\u001b[1;32m      8\u001b[0m \u001b[38;5;66;03m#testObj.SDAC_Records()\u001b[39;00m\n\u001b[1;32m      9\u001b[0m \u001b[38;5;66;03m#testObj.SPDF_Records()\u001b[39;00m\n",
      "File \u001b[0;32m~/HDRL-Internship-2024/QueryPrinter.py:197\u001b[0m, in \u001b[0;36mCounts.allRecords\u001b[0;34m(self)\u001b[0m\n\u001b[1;32m    195\u001b[0m \u001b[38;5;28;01mdef\u001b[39;00m \u001b[38;5;21mallRecords\u001b[39m(\u001b[38;5;28mself\u001b[39m):\n\u001b[1;32m    196\u001b[0m     \u001b[38;5;66;03m# prints counts for all records\u001b[39;00m\n\u001b[0;32m--> 197\u001b[0m     \u001b[43mFormatPrint\u001b[49m(\u001b[38;5;28mself\u001b[39m\u001b[38;5;241m.\u001b[39mtotalStmt, \u001b[38;5;124m\"\u001b[39m\u001b[38;5;124mtotal\u001b[39m\u001b[38;5;124m\"\u001b[39m)\n\u001b[1;32m    199\u001b[0m     rows \u001b[38;5;241m=\u001b[39m execution(\u001b[38;5;28mself\u001b[39m\u001b[38;5;241m.\u001b[39mauthorStmt)\n\u001b[1;32m    200\u001b[0m     \u001b[38;5;28mprint\u001b[39m(\u001b[38;5;124m\"\u001b[39m\u001b[38;5;124mThere are \u001b[39m\u001b[38;5;124m\"\u001b[39m \u001b[38;5;241m+\u001b[39m \u001b[38;5;28mstr\u001b[39m(rows[\u001b[38;5;241m0\u001b[39m]) \u001b[38;5;241m+\u001b[39m \u001b[38;5;124m\"\u001b[39m\u001b[38;5;124m records with at least one author\u001b[39m\u001b[38;5;124m\"\u001b[39m)\n",
      "\u001b[0;31mNameError\u001b[0m: name 'FormatPrint' is not defined"
     ]
    }
   ],
   "source": [
    "from QueryPrinter import Counts, Links\n",
    "\n",
    "Obj = Counts()\n",
    "Obj.allRecords()\n",
    "\n",
    "#testObj = Links()\n",
    "#testObj.allRecords()\n",
    "#testObj.SDAC_Records()\n",
    "#testObj.SPDF_Records()\n"
   ]
  },
  {
   "cell_type": "code",
   "execution_count": null,
   "id": "e858cadb-51d7-4d01-b580-b61227643e1e",
   "metadata": {},
   "outputs": [],
   "source": []
  },
  {
   "cell_type": "code",
   "execution_count": null,
   "id": "b831b25d-4393-41fb-b078-595f9764bef8",
   "metadata": {},
   "outputs": [],
   "source": []
  }
 ],
 "metadata": {
  "kernelspec": {
   "display_name": "Python 3 (ipykernel)",
   "language": "python",
   "name": "python3"
  },
  "language_info": {
   "codemirror_mode": {
    "name": "ipython",
    "version": 3
   },
   "file_extension": ".py",
   "mimetype": "text/x-python",
   "name": "python",
   "nbconvert_exporter": "python",
   "pygments_lexer": "ipython3",
   "version": "3.10.8"
  }
 },
 "nbformat": 4,
 "nbformat_minor": 5
}
