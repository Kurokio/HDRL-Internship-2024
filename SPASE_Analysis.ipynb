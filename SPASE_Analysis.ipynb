{
 "cells": [
  {
   "cell_type": "code",
   "execution_count": 2,
   "id": "aefb448f-0864-43cb-9690-e281a5378c5f",
   "metadata": {},
   "outputs": [
    {
     "name": "stdout",
     "output_type": "stream",
     "text": [
      "Enter root folder you want to search\n"
     ]
    },
    {
     "name": "stdin",
     "output_type": "stream",
     "text": [
      " /home/jovyan/NASA/NumericalData/ACE/EPAM/RATES\n"
     ]
    },
    {
     "name": "stdout",
     "output_type": "stream",
     "text": [
      "You entered /home/jovyan/NASA/NumericalData/ACE/EPAM/RATES\n",
      "The SPASE records found are:\n",
      "['/home/jovyan/NASA/NumericalData/ACE/EPAM/RATES/PT5M.xml', '/home/jovyan/NASA/NumericalData/ACE/EPAM/RATES/P1D.xml', '/home/jovyan/NASA/NumericalData/ACE/EPAM/RATES/PT1H.xml', '/home/jovyan/NASA/NumericalData/ACE/EPAM/RATES/PT12S.xml']\n",
      "===========================================================================================================\n",
      "Scraping /home/jovyan/NASA/NumericalData/ACE/EPAM/RATES/PT5M.xml\n",
      "The ResourceID is spase://NASA/NumericalData/ACE/EPAM/RATES/PT5M which was obtained from NumericalData/ResourceID\n",
      "The author(s) are Gold, R.E., Roelof, E.C., Krimigis, S., Haggerty, D., Armstrong, T.P., Manweiler, J.W., and J.D. Patterson which was obtained from NumericalData/PublicationInfo/Authors\n",
      "The publication year is 2022 which was obtained from NumericalData/PublicationInfo/PublicationDate\n",
      "The publisher is NASA Space Physics Data Facility which was obtained from NumericalData/PublicationInfo/PublishedBy\n",
      "The dataset is ACE Electron Proton Alpha Monitor (EPAM) 5-min Count Rate Data which was obtained from NumericalData/ResourceHeader/ResourceName\n",
      "The description is This descriptor identifies an ensemble of 8 data sets of EPAM count rates averaged over 5-min intervals in each of several energy bins. One data set (PG65) has spin-averaged rates while the other 7 have rates in each of 4 or 8 spin sectors. Each of the 7 sectored data sets is specific to a given one of the several EPAM instruments (apertures). Each of the 8 data sets is individually described in the VHO/VEPO interface at https://vho.gsfc.nasa.gov. which was obtained from NumericalData/ResourceHeader/Description\n",
      "The persistent identifier is https://doi.org/10.48322/hpe8-wk11 which was obtained from NumericalData/DOI\n",
      "The URLs with their associated product keys obtained from NumericalData/AccessInformation/AccessURL/URL and their \n",
      "              license(s) obtained from NumericalData/AccessInformation/AccessRights are: \n",
      "{'Open': {}, 'PartiallyRestricted': {}, 'Restricted': {}}\n"
     ]
    },
    {
     "ename": "NameError",
     "evalue": "name 'datalink' is not defined",
     "output_type": "error",
     "traceback": [
      "\u001b[0;31m---------------------------------------------------------------------------\u001b[0m",
      "\u001b[0;31mNameError\u001b[0m                                 Traceback (most recent call last)",
      "Cell \u001b[0;32mIn [2], line 105\u001b[0m\n\u001b[1;32m    101\u001b[0m \u001b[38;5;28;01mtry\u001b[39;00m:\n\u001b[1;32m    102\u001b[0m     \u001b[38;5;28;01mwith\u001b[39;00m sqlite3\u001b[38;5;241m.\u001b[39mconnect(\u001b[38;5;124m'\u001b[39m\u001b[38;5;124mSPASE_Data.db\u001b[39m\u001b[38;5;124m'\u001b[39m) \u001b[38;5;28;01mas\u001b[39;00m conn:\n\u001b[1;32m    103\u001b[0m         \u001b[38;5;66;03m# add a new SPASE Record\u001b[39;00m\n\u001b[1;32m    104\u001b[0m         SPASE_Record \u001b[38;5;241m=\u001b[39m (RID, author, authorField, pub, pubField, pubYear, pubDateField, \n\u001b[0;32m--> 105\u001b[0m                         dataset, datasetField, license, licenseField, \u001b[43mdatalink\u001b[49m, datalinkField,\n\u001b[1;32m    106\u001b[0m                         desc, descField, PI, PIField)\n\u001b[1;32m    107\u001b[0m         Record_id \u001b[38;5;241m=\u001b[39m add_SPASE(conn, SPASE_Record)\n\u001b[1;32m    108\u001b[0m         \u001b[38;5;28mprint\u001b[39m(\u001b[38;5;124mf\u001b[39m\u001b[38;5;124m'\u001b[39m\u001b[38;5;124mCreated a SPASE Record with the id \u001b[39m\u001b[38;5;132;01m{\u001b[39;00mRecord_id\u001b[38;5;132;01m}\u001b[39;00m\u001b[38;5;124m'\u001b[39m)\n",
      "\u001b[0;31mNameError\u001b[0m: name 'datalink' is not defined"
     ]
    }
   ],
   "source": [
    "# import function from .py file\n",
    "import pprint, sqlite3\n",
    "from SPASE_Scraper_Script import SPASE_Scraper\n",
    "from PathGrabber import getPaths\n",
    "\n",
    "#print(os.path.abspath(os.getcwd()))\n",
    "# test path : \"/home/jovyan/NASA/NumericalData/DE2\" or \"/home/jovyan/NASA/NumericalData/ACE/EPAM\"\n",
    "print(\"Enter root folder you want to search\")\n",
    "folder = input()\n",
    "print(\"You entered \" + folder)\n",
    "paths = getPaths(folder)\n",
    "print(\"The SPASE records found are:\")\n",
    "print(paths)\n",
    "#check_Path(os.path.abspath(os.getcwd()))\n",
    "print(\"===========================================================================================================\")\n",
    "\n",
    "# print Flag (True prints, False does not)\n",
    "printFlag = True\n",
    "\n",
    "for record in paths:\n",
    "    (RID, RIDField, author, authorField, pub, pubField, pubDate, pubDateField, dataset, datasetField, \n",
    "     desc, descField, PI, PIField, AccessRights, licenseField, datalinkField) = SPASE_Scraper(record)\n",
    "    pubYear = pubDate[0:4]\n",
    "    author = \", \".join(author)\n",
    "    if printFlag:\n",
    "        print(\"The ResourceID is \" + RID + \" which was obtained from \" + RIDField)\n",
    "        print(\"The author(s) are \" + author + \" which was obtained from \" + authorField)\n",
    "        print(\"The publication year is \" + pubYear + \" which was obtained from \" + pubDateField)\n",
    "        print(\"The publisher is \" + pub + \" which was obtained from \" + pubField)\n",
    "        print(\"The dataset is \" + dataset + \" which was obtained from \" + datasetField)\n",
    "        print(\"The description is \" + desc + \" which was obtained from \" + descField)\n",
    "        print(\"The persistent identifier is \" + PI + \" which was obtained from \" + PIField)\n",
    "        print(\"The URLs with their associated product keys obtained from \" + datalinkField + \"\"\" and their \n",
    "              license(s) obtained from \"\"\" + licenseField + \" are: \")\n",
    "        pprint.pprint(AccessRights)\n",
    "\n",
    "    # separate license from the datalink and product keys from AccessRights to store in db\n",
    "    for k, v in AccessRights.items():\n",
    "        if not v:\n",
    "            continue\n",
    "        else:\n",
    "            license = k\n",
    "            datalink = str(v)\n",
    "            if printFlag:\n",
    "                print(k + \" was assigned to license\")\n",
    "                #for key, val in v.items():\n",
    "                 #   datalink = key\n",
    "                print(datalink + \" was assigned to datalink\")\n",
    "\n",
    "    # add table to existing database\n",
    "\n",
    "    def create_tables():\n",
    "        sql_statements = [ \n",
    "            \"\"\"CREATE TABLE IF NOT EXISTS SPASE_Metadata (\n",
    "                    id INTEGER PRIMARY KEY, \n",
    "                    SPASE_id TEXT NOT NULL UNIQUE, \n",
    "                    author TEXT,\n",
    "                    author_source TEXT,\n",
    "                    publisher TEXT,\n",
    "                    publisher_source TEXT,\n",
    "                    publication_yr TEXT,\n",
    "                    publication_yr_source TEXT,\n",
    "                    dataset TEXT,\n",
    "                    dataset_source TEXT,\n",
    "                    license TEXT,\n",
    "                    license_source TEXT,\n",
    "                    datalink TEXT,\n",
    "                    datalink_source TEXT,\n",
    "                    description TEXT,\n",
    "                    description_source TEXT,\n",
    "                    PI TEXT,\n",
    "                    PI_source TEXT\n",
    "            );\"\"\"]\n",
    "\n",
    "        # create a database connection\n",
    "        try:\n",
    "            with sqlite3.connect('SPASE_Data.db') as conn:\n",
    "                cursor = conn.cursor()\n",
    "                for statement in sql_statements:\n",
    "                    cursor.execute(statement)\n",
    "\n",
    "                conn.commit()\n",
    "        except sqlite3.Error as e:\n",
    "            print(e)\n",
    "\n",
    "    create_tables()\n",
    "\n",
    "    # insert entries into table\n",
    "\n",
    "    def add_SPASE(conn, entry):\n",
    "        sql = '''INSERT INTO SPASE_Metadata(SPASE_id,author,author_source,publisher,publisher_source,\n",
    "                publication_yr,publication_yr_source,dataset,dataset_source,license,license_source,\n",
    "                datalink,datalink_source,description,description_source,PI,PI_source)\n",
    "                VALUES(?,?,?,?,?,?,?,?,?,?,?,?,?,?,?,?,?) '''\n",
    "        cur = conn.cursor()\n",
    "        cur.execute(sql, entry)\n",
    "        conn.commit()\n",
    "        return cur.lastrowid\n",
    "\n",
    "\n",
    "    try:\n",
    "        with sqlite3.connect('SPASE_Data.db') as conn:\n",
    "            # add a new SPASE Record\n",
    "            SPASE_Record = (RID, author, authorField, pub, pubField, pubYear, pubDateField, \n",
    "                            dataset, datasetField, license, licenseField, datalink, datalinkField,\n",
    "                            desc, descField, PI, PIField)\n",
    "            Record_id = add_SPASE(conn, SPASE_Record)\n",
    "            print(f'Created a SPASE Record with the id {Record_id}')\n",
    "\n",
    "    except sqlite3.Error as e:\n",
    "        print(e)\n",
    "    \n",
    "    print(\"===========================================================================================================\")\n",
    "\n",
    "# call .py file directly from notebook\n",
    "#%run ./SPASE_test.py {path} in notebook\n",
    "#import sys\n",
    "\n",
    "#args = sys.argv\n",
    "#path = args[1] in source file\n"
   ]
  },
  {
   "cell_type": "code",
   "execution_count": 6,
   "id": "25c373f6-02f4-4496-b8b4-03728928702b",
   "metadata": {},
   "outputs": [],
   "source": [
    "# add SPASE records without desired links to a text file\n",
    "textFile = open(\"../NoLinkRecords.txt\", \"a\")\n",
    "lines = [\"Line 1\", \"Line 2\"]\n",
    "for line in lines:\n",
    "    textFile.write(line)\n",
    "    textFile.write(\"\\n\")\n",
    "textFile.close()"
   ]
  },
  {
   "cell_type": "code",
   "execution_count": 7,
   "id": "1f2bc201-725a-4e5a-8908-fc2c1a9aab86",
   "metadata": {},
   "outputs": [
    {
     "name": "stdout",
     "output_type": "stream",
     "text": [
      "(1, 'spase://NASA/DisplayData/ACE/MAG/Daily', 'spase://SMWG/Person/Ruth.Skoug', 'DisplayData/ResourceHeader/Contact/PersonID', 'NASA/GSFC/SPDF', 'DisplayData/AccessInformation/RepositoryID', '', 'DisplayData/PublicationInfo/PublicationDate', 'ACE Daily Survey Plots', 'DisplayData/ResourceHeader/ResourceName', 'Open', 'DisplayData/AccessInformation/AccessRights', \"{'https://cdaweb.gsfc.nasa.gov/cgi-bin/gif_walk?plot_type=ace_kp_plots': []}\", 'DisplayData/AccessInformation/AccessURL/URL', 'some description', '', 'DisplayData/DOI')\n"
     ]
    }
   ],
   "source": [
    "# select row(s) from table\n",
    "import sqlite3\n",
    "\n",
    "try:\n",
    "    with sqlite3.connect(\"SPASE_Data.db\") as conn:\n",
    "        cur = conn.cursor()\n",
    "        cur.execute('SELECT * FROM SPASE_Metadata WHERE ')\n",
    "        rows = cur.fetchall()\n",
    "        for row in rows:\n",
    "            print(row)\n",
    "except sqlite3.Error as e:\n",
    "    print(e)"
   ]
  },
  {
   "cell_type": "code",
   "execution_count": 3,
   "id": "b0cd9235-efd2-4376-a694-a3211ee782c9",
   "metadata": {},
   "outputs": [],
   "source": [
    "# delete row from table\n",
    "import sqlite3\n",
    "\n",
    "try:\n",
    "    with sqlite3.connect(\"SPASE_Data.db\") as conn:\n",
    "        cur = conn.cursor()\n",
    "        delete_stmt = 'DELETE FROM SPASE_Metadata WHERE id = ?'\n",
    "        cur.execute(delete_stmt, (1,))\n",
    "        conn.commit()\n",
    "except sqlite3.Error as e:\n",
    "    print(e)"
   ]
  },
  {
   "cell_type": "code",
   "execution_count": null,
   "id": "40fddd29-d0f9-440f-9553-764bba6bd171",
   "metadata": {},
   "outputs": [],
   "source": [
    "import sqlite3\n",
    "\n",
    "sql = 'UPDATE SPASE_Metadata SET end_date = ?'\n",
    "\n",
    "try:\n",
    "    with sqlite3.connect('SPASE_Data.db') as conn:\n",
    "        cursor = conn.cursor()\n",
    "        cursor.execute(sql, ('2015-02-03',) )\n",
    "        conn.commit()\n",
    "except sqlite3.Error as e:\n",
    "    print(e)"
   ]
  }
 ],
 "metadata": {
  "kernelspec": {
   "display_name": "Python 3 (ipykernel)",
   "language": "python",
   "name": "python3"
  },
  "language_info": {
   "codemirror_mode": {
    "name": "ipython",
    "version": 3
   },
   "file_extension": ".py",
   "mimetype": "text/x-python",
   "name": "python",
   "nbconvert_exporter": "python",
   "pygments_lexer": "ipython3",
   "version": "3.10.8"
  }
 },
 "nbformat": 4,
 "nbformat_minor": 5
}
