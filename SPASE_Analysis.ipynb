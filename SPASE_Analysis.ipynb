{
 "cells": [
  {
   "cell_type": "code",
   "execution_count": 2,
   "id": "aefb448f-0864-43cb-9690-e281a5378c5f",
   "metadata": {},
   "outputs": [
    {
     "name": "stdout",
     "output_type": "stream",
     "text": [
      "Enter path of SPASE record ... such as C:\\dir1\\dir2\\spaseRecord_x.xml\n"
     ]
    },
    {
     "name": "stdin",
     "output_type": "stream",
     "text": [
      " ../NASA/NumericalData/DE2/IDM/PT0.25S.xml\n"
     ]
    },
    {
     "name": "stdout",
     "output_type": "stream",
     "text": [
      "You entered ../NASA/NumericalData/DE2/IDM/PT0.25S.xml\n",
      "File size is: 0.00 GB\n",
      "The ResourceID is spase://NASA/NumericalData/DE2/IDM/PT0.25S which was obtained from NumericalData/ResourceID\n",
      "The author(s) are Heelis, Roderick, A.; Candey, Robert, M. which was obtained from NumericalData/PublicationInfo/Authors\n",
      "The publication year is 2023-01-01T00:00:00 which was obtained from NumericalData/PublicationInfo/PublicationDate\n",
      "The publisher is NASA Space Physics Data Facility which was obtained from NumericalData/PublicationInfo/PublishedBy\n",
      "The dataset is DE 2 250ms IDM Ion Drift Velocities which was obtained from NumericalData/ResourceHeader/ResourceName\n",
      "The persistent identifier is https://doi.org/10.48322/reef-jt02 which was obtained from NumericalData/DOI\n",
      "The URLs with their associated product keys obtained from NumericalData/AccessInformation/AccessURL/URL and their \n",
      "      license(s) obtained from NumericalData/AccessInformation/AccessRights are: \n",
      "{'Open': {'ftps://spdf.gsfc.nasa.gov/pub/data/de/de2/plasma_idm/': [],\n",
      "          'https://cdaweb.gsfc.nasa.gov/cgi-bin/eval2.cgi?dataset=DE2_VION250MS_IDM&index=sp_phys': ['DE2_VION250MS_IDM'],\n",
      "          'https://cdaweb.gsfc.nasa.gov/hapi': ['DE2_VION250MS_IDM@0',\n",
      "                                                'DE2_VION250MS_IDM@1',\n",
      "                                                'DE2_VION250MS_IDM@2'],\n",
      "          'https://spdf.gsfc.nasa.gov/pub/data/de/de2/plasma_idm/': []},\n",
      " 'PartiallyRestricted': {},\n",
      " 'Restricted': {}}\n"
     ]
    }
   ],
   "source": [
    "# import function from .py file\n",
    "import pprint\n",
    "from SPASE_Scraper_Script import SPASE_Scraper\n",
    "\n",
    "# test path : \"../NASA/NumericalData/DE2/IDM/PT0.25S.xml\" or \"../NASA/DisplayData/ACE/MAG/Daily.xml\"\n",
    "print(\"Enter path of SPASE record ... such as C:\\dir1\\dir2\\spaseRecord_x.xml\")\n",
    "path = input()\n",
    "(RID, RIDField, author, authorField, pub, pubField, pubDate, pubDateField, dataset, datasetField, \n",
    " PI, PIField, AccessRights, licenseField, datalinkField) = SPASE_Scraper(path)\n",
    "pubYear = pubDate[0:4]\n",
    "\n",
    "print(\"The ResourceID is \" + RID + \" which was obtained from \" + RIDField)\n",
    "print(\"The author(s) are \" + (\", \".join(author)) + \" which was obtained from \" + authorField)\n",
    "print(\"The publication year is \" + pubYear + \" which was obtained from \" + pubDateField)\n",
    "print(\"The publisher is \" + pub + \" which was obtained from \" + pubField)\n",
    "print(\"The dataset is \" + dataset + \" which was obtained from \" + datasetField)\n",
    "print(\"The persistent identifier is \" + PI + \" which was obtained from \" + PIField)\n",
    "print(\"The URLs with their associated product keys obtained from \" + datalinkField + \"\"\" and their \n",
    "      license(s) obtained from \"\"\" + licenseField + \" are: \")\n",
    "pprint.pprint(AccessRights)\n",
    "\n",
    "# call .py file directly from notebook\n",
    "#%run ./SPASE_test.py {path} in notebook\n",
    "#import sys\n",
    "\n",
    "#args = sys.argv\n",
    "#path = args[1] in source file\n"
   ]
  },
  {
   "cell_type": "code",
   "execution_count": 2,
   "id": "ba29ea3f-32c7-45df-acc8-cfb048dbaf2c",
   "metadata": {},
   "outputs": [
    {
     "name": "stdout",
     "output_type": "stream",
     "text": [
      "Open was assigned to license\n",
      "{'https://cdaweb.gsfc.nasa.gov/cgi-bin/gif_walk?plot_type=ace_kp_plots': []} was assigned to datalink\n"
     ]
    }
   ],
   "source": [
    "# separate license from the datalink and product keys from AccessRights to store in db\n",
    "for k, v in AccessRights.items():\n",
    "    if not v:\n",
    "        continue\n",
    "    else:\n",
    "        license = k\n",
    "        print(k + \" was assigned to license\")\n",
    "        #for key, val in v.items():\n",
    "         #   datalink = key\n",
    "        datalink = str(v)\n",
    "        print(datalink + \" was assigned to datalink\")\n",
    "            "
   ]
  },
  {
   "cell_type": "code",
   "execution_count": 5,
   "id": "48c45e22-858f-45a7-97cc-96ba5cc5e3f1",
   "metadata": {},
   "outputs": [],
   "source": [
    "# add table to existing database\n",
    "import sqlite3\n",
    "\n",
    "def create_tables():\n",
    "    sql_statements = [ \n",
    "        \"\"\"CREATE TABLE IF NOT EXISTS SPASE_Metadata (\n",
    "                id INTEGER PRIMARY KEY, \n",
    "                SPASE_id TEXT NOT NULL UNIQUE, \n",
    "                author TEXT,\n",
    "                author_source TEXT,\n",
    "                publisher TEXT,\n",
    "                publisher_source TEXT,\n",
    "                publication_yr TEXT,\n",
    "                publication_yr_source TEXT,\n",
    "                dataset TEXT,\n",
    "                dataset_source TEXT,\n",
    "                license TEXT,\n",
    "                license_source TEXT,\n",
    "                datalink TEXT,\n",
    "                datalink_source TEXT,\n",
    "                description TEXT,\n",
    "                PI TEXT,\n",
    "                PI_source TEXT\n",
    "        );\"\"\"]\n",
    "\n",
    "    # create a database connection\n",
    "    try:\n",
    "        with sqlite3.connect('SPASE_Data.db') as conn:\n",
    "            cursor = conn.cursor()\n",
    "            for statement in sql_statements:\n",
    "                cursor.execute(statement)\n",
    "            \n",
    "            conn.commit()\n",
    "    except sqlite3.Error as e:\n",
    "        print(e)\n",
    "\n",
    "\n",
    "if __name__ == '__main__':\n",
    "    create_tables()"
   ]
  },
  {
   "cell_type": "code",
   "execution_count": 6,
   "id": "66cfed31-6829-411a-a1ea-c2f88f46326f",
   "metadata": {},
   "outputs": [
    {
     "name": "stdout",
     "output_type": "stream",
     "text": [
      "Created a SPASE Record with the id 1\n"
     ]
    }
   ],
   "source": [
    "# insert entries into table\n",
    "import sqlite3\n",
    "\n",
    "def add_SPASE(conn, entry):\n",
    "    sql = '''INSERT INTO SPASE_Metadata(SPASE_id,author,author_source,publisher,publisher_source,\n",
    "            publication_yr,publication_yr_source,dataset,dataset_source,license,license_source,\n",
    "            datalink,datalink_source,description,PI,PI_source)\n",
    "            VALUES(?,?,?,?,?,?,?,?,?,?,?,?,?,?,?,?) '''\n",
    "    cur = conn.cursor()\n",
    "    cur.execute(sql, entry)\n",
    "    conn.commit()\n",
    "    return cur.lastrowid\n",
    "\n",
    "\n",
    "def main():\n",
    "    try:\n",
    "        with sqlite3.connect('SPASE_Data.db') as conn:\n",
    "            # add a new SPASE Record\n",
    "            SPASE_Record = (RID, author, authorField, pub, pubField, pubYear, pubDateField, \n",
    "                            dataset, datasetField, license, licenseField, datalink, datalinkField,\n",
    "                            \"some description\", PI, PIField)\n",
    "            Record_id = add_SPASE(conn, SPASE_Record)\n",
    "            print(f'Created a SPASE Record with the id {Record_id}')\n",
    "\n",
    "    except sqlite3.Error as e:\n",
    "        print(e)\n",
    "\n",
    "if __name__ == '__main__':\n",
    "    main()"
   ]
  },
  {
   "cell_type": "code",
   "execution_count": 7,
   "id": "1f2bc201-725a-4e5a-8908-fc2c1a9aab86",
   "metadata": {},
   "outputs": [
    {
     "name": "stdout",
     "output_type": "stream",
     "text": [
      "(1, 'spase://NASA/DisplayData/ACE/MAG/Daily', 'spase://SMWG/Person/Ruth.Skoug', 'DisplayData/ResourceHeader/Contact/PersonID', 'NASA/GSFC/SPDF', 'DisplayData/AccessInformation/RepositoryID', '', 'DisplayData/PublicationInfo/PublicationDate', 'ACE Daily Survey Plots', 'DisplayData/ResourceHeader/ResourceName', 'Open', 'DisplayData/AccessInformation/AccessRights', \"{'https://cdaweb.gsfc.nasa.gov/cgi-bin/gif_walk?plot_type=ace_kp_plots': []}\", 'DisplayData/AccessInformation/AccessURL/URL', 'some description', '', 'DisplayData/DOI')\n"
     ]
    }
   ],
   "source": [
    "# select row(s) from table\n",
    "import sqlite3\n",
    "\n",
    "try:\n",
    "    with sqlite3.connect(\"SPASE_Data.db\") as conn:\n",
    "        cur = conn.cursor()\n",
    "        cur.execute('SELECT * FROM SPASE_Metadata')\n",
    "        rows = cur.fetchall()\n",
    "        for row in rows:\n",
    "            print(row)\n",
    "except sqlite3.Error as e:\n",
    "    print(e)"
   ]
  },
  {
   "cell_type": "code",
   "execution_count": null,
   "id": "b0cd9235-efd2-4376-a694-a3211ee782c9",
   "metadata": {},
   "outputs": [],
   "source": [
    "# delete row from table\n",
    "import sqlite3\n",
    "\n",
    "try:\n",
    "    with sqlite3.connect(\"SPASE_Data.db\") as conn:\n",
    "        cur = conn.cursor()\n",
    "        delete_stmt = 'DELETE FROM SPASE_Metadata WHERE id = ?'\n",
    "        cur.execute(delete_stmt, (id,))\n",
    "        conn.commit()\n",
    "except sqlite3.Error as e:\n",
    "    print(e)"
   ]
  }
 ],
 "metadata": {
  "kernelspec": {
   "display_name": "Python 3 (ipykernel)",
   "language": "python",
   "name": "python3"
  },
  "language_info": {
   "codemirror_mode": {
    "name": "ipython",
    "version": 3
   },
   "file_extension": ".py",
   "mimetype": "text/x-python",
   "name": "python",
   "nbconvert_exporter": "python",
   "pygments_lexer": "ipython3",
   "version": "3.10.8"
  }
 },
 "nbformat": 4,
 "nbformat_minor": 5
}
