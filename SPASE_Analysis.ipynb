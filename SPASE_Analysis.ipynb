{
 "cells": [
  {
   "cell_type": "code",
   "execution_count": 93,
   "id": "d67955bd-303f-4ccb-8295-d153da34aec3",
   "metadata": {},
   "outputs": [
    {
     "name": "stdout",
     "output_type": "stream",
     "text": [
      "File size is: 13268 bytes\n"
     ]
    }
   ],
   "source": [
    "# edit for entire script to be included w/in function definition\n",
    "def SPASE_Scraper(directory, relFilePath):\n",
    "    import xml.etree.ElementTree as ET\n",
    "    import os\n",
    "    import pprint\n",
    "\n",
    "    # establish path of XML file\n",
    "    path = \"../NASA/NumericalData/ACE/Attitude/Definitive/\"\n",
    "    fullname = os.path.join(path, \"PT1H.xml\")\n",
    "    file_size = os.path.getsize(fullname)\n",
    "    print(\"File size is: \" + str(file_size) + \" bytes\")\n",
    "    tree = ET.parse(fullname)\n",
    "    root = tree.getroot()\n",
    "    # root[1] = NumericalData\n",
    "    # root = Spase\n",
    "    # ET.dump(tree)\n",
    "    # ET.register_namespace(\"spase\",\"http://www.spase-group.org/data/schema\")\n",
    "    # ns = {\"spase\":\"http://www.spase-group.org/data/schema\"}"
   ]
  },
  {
   "cell_type": "code",
   "execution_count": 97,
   "id": "a453a066-6401-45b2-856a-724dc3100d09",
   "metadata": {},
   "outputs": [
    {
     "name": "stdout",
     "output_type": "stream",
     "text": [
      "The ResourceID is spase://NASA/NumericalData/ACE/Attitude/Definitive/PT1H\n",
      "The author is ACE flight operations team (FOT), and R. Candey\n",
      "The publication year is 2022\n",
      "The publisher is NASA Space Physics Data Facility\n",
      "The dataset is ACE Definitive Attitude, Hourly Values, Direction Cosines in RTN, GSE, and J2000 GCI Coordinates\n",
      "The persistent identifier is https://doi.org/10.48322/f2a8-nm36\n"
     ]
    }
   ],
   "source": [
    "# iterate thru children to obtain ResourceID and locate ResourceHeader\n",
    "for child in root[1]:\n",
    "    if child.tag.endswith(\"ResourceID\"):\n",
    "        RID = child.text\n",
    "    elif child.tag.endswith(\"ResourceHeader\"):\n",
    "        targetChild = child\n",
    "    \n",
    "# obtain Author, Publication Date, Publisher, Persistent Identifier, and Dataset Name\n",
    "\n",
    "# define vars\n",
    "author=\"None\" \n",
    "pubDate=\"None\"\n",
    "pub = \"None\"\n",
    "dataset = \"None\"\n",
    "PI = \"None\"\n",
    "# holds role values that are not considered for author var\n",
    "UnapprovedAuthors = [\"MetadataContact\", \"ArchiveSpecialist\", \"HostContact\", \"Publisher\", \"User\"]\n",
    "\n",
    "# iterate thru ResourceHeader\n",
    "for child in targetChild:\n",
    "    # find backup Dataset Name\n",
    "    if child.tag.endswith(\"ResourceName\"):\n",
    "        targetChild = child\n",
    "        dataset = child.text\n",
    "    # find Persistent Identifier\n",
    "    elif child.tag.endswith(\"DOI\"):\n",
    "        PI = child.text\n",
    "    # find Publication Info\n",
    "    elif child.tag.endswith(\"PublicationInfo\"):\n",
    "        PI_Child = child\n",
    "        #break\n",
    "    # find Contact\n",
    "    elif child.tag.endswith(\"Contact\"):\n",
    "        C_Child = child\n",
    "        # iterate thru Contact to find PersonID and Role\n",
    "        for child in C_Child:\n",
    "            # find PersonID\n",
    "            if child.tag.endswith(\"PersonID\"):\n",
    "                # store PID\n",
    "                PID = child.text\n",
    "            # find Role\n",
    "            elif child.tag.endswith(\"Role\"):\n",
    "                # backup author\n",
    "                if child.text == \"PrincipalInvestigator\" or \"PI\":\n",
    "                    author = PID\n",
    "                # backup publisher\n",
    "                elif child.text == \"Publisher\":\n",
    "                    pub = child.text\n",
    "                # backup author\n",
    "                elif child.text not in UnapprovedAuthors:\n",
    "                    author = PID\n",
    "\n",
    "# access Publication Info\n",
    "for child in PI_Child:\n",
    "    if child.tag.endswith(\"Authors\"):\n",
    "        author = child.text\n",
    "    elif child.tag.endswith(\"PublicationDate\"):\n",
    "        pubDate = child.text\n",
    "    elif child.tag.endswith(\"PublishedBy\"):\n",
    "        pub = child.text\n",
    "    elif child.tag.endswith(\"Title\"):\n",
    "        dataset = child.text\n",
    "\n",
    "pubYear = pubDate[0:4]\n",
    "print(\"The ResourceID is \" + RID)\n",
    "print(\"The author is \" + author)\n",
    "print(\"The publication year is \" + pubYear)\n",
    "print(\"The publisher is \" + pub)\n",
    "print(\"The dataset is \" + dataset)\n",
    "print(\"The persistent identifier is \" + PI)"
   ]
  },
  {
   "cell_type": "code",
   "execution_count": 95,
   "id": "2cc89e03-f9d6-48a5-8e5c-2613523a83dc",
   "metadata": {},
   "outputs": [
    {
     "name": "stdout",
     "output_type": "stream",
     "text": [
      "The data links and their associated product keys with an Open License are:\n",
      "{'ftps://spdf.gsfc.nasa.gov/pub/data/ace/orbit/level_2_cdaweb/def_at/': 'No_product_key',\n",
      " 'https://cdaweb.gsfc.nasa.gov/cgi-bin/eval2.cgi?dataset=AC_AT_DEF&index=sp_phys': 'AC_AT_DEF',\n",
      " 'https://cdaweb.gsfc.nasa.gov/hapi': 'AC_AT_DEF',\n",
      " 'https://spdf.gsfc.nasa.gov/pub/data/ace/orbit/level_2_cdaweb/def_at/': 'No_product_key'}\n"
     ]
    }
   ],
   "source": [
    "# obtain data links and license\n",
    "\n",
    "# dictionary labled by the Access Rights which will store all URLs and their Product Keys if given\n",
    "Open = {}\n",
    "\n",
    "# iterate thru children to locate Access Information\n",
    "for child in root[1]:\n",
    "    if child.tag.endswith(\"AccessInformation\"):\n",
    "        targetChild = child\n",
    "        # iterate thru children to locate AccessURL and RepositoryID\n",
    "        for child in targetChild:\n",
    "            if child.tag.endswith(\"AccessURL\"):\n",
    "                targetChild = child\n",
    "                # iterate thru children to locate URL\n",
    "                for child in targetChild:\n",
    "                    if child.tag.endswith(\"URL\"):\n",
    "                        url = child.text\n",
    "                        Open[url] = \"No_product_key\"\n",
    "                    # check if URL has a product key\n",
    "                    elif child.tag.endswith(\"ProductKey\"):\n",
    "                        prodKey = child.text\n",
    "                        Open[url] = prodKey\n",
    "            # find backup Publisher if needed\n",
    "            elif pub == \"None\":\n",
    "                if child.tag.endswith(\"RepositoryID\"):\n",
    "                    # use partition to split text by Repository/ and assign only the text after it to pub \n",
    "                    before, sep, after = child.text.partition(\"Repository/\")\n",
    "                    pub = after\n",
    "            # continue to check for additional AccessURLs            \n",
    "            continue\n",
    "    # continue to check for additional Access Informations\n",
    "    continue\n",
    "\n",
    "print(\"The data links and their associated product keys with an Open License are:\")\n",
    "pprint.pprint(Open)"
   ]
  },
  {
   "cell_type": "code",
   "execution_count": null,
   "id": "6ece1008-b9d3-45c3-b449-3e01c593cf2d",
   "metadata": {},
   "outputs": [],
   "source": []
  }
 ],
 "metadata": {
  "kernelspec": {
   "display_name": "Python 3 (ipykernel)",
   "language": "python",
   "name": "python3"
  },
  "language_info": {
   "codemirror_mode": {
    "name": "ipython",
    "version": 3
   },
   "file_extension": ".py",
   "mimetype": "text/x-python",
   "name": "python",
   "nbconvert_exporter": "python",
   "pygments_lexer": "ipython3",
   "version": "3.10.8"
  }
 },
 "nbformat": 4,
 "nbformat_minor": 5
}
