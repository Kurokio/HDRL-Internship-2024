{
 "cells": [
  {
   "cell_type": "markdown",
   "id": "14b97238-028e-46d6-9bed-61011be2306e",
   "metadata": {
    "tags": []
   },
   "source": [
    "# SPASE Record Analysis <br>\n",
    "This project aims to aid in analyzing FAIR for the SPASE records in the NumericalData and DisplayData categories.<br>\n",
    "\n",
    "This notebook shows you how to convert desired SPASE record fields into a SQLite database. The desired fields correspond to metadata extracted from XML files using ElementTree.<br> \n",
    "- The tutorial I used to implement ElementTree is <a href=\"https://realpython.com/python-xml-parser/\" target=\"_blank\">here</a>. \n",
    "- If more context is needed for the SQLite code than is provided by the comments, I recommend visiting <a href=\"https://www.sqlitetutorial.net/\" target=\"_blank\">this link</a>.<br>\n",
    "<br>\n",
    "\n",
    "First, follow the instructions to clone the <a href=\"https://github.com/hpde/NASA/tree/master\" target=\"_blank\">NASA SPASE Github Repository</a>. After that, make sure you have the necessary packages and Python scripts imported below, which can be found in the same repo you found this notebook, linked again <a href=\"https://github.com/Kurokio/HDRL-Internship-2024\" target=\"_blank\">here</a>.<br>"
   ]
  },
  {
   "cell_type": "markdown",
   "id": "04f44405-34d0-4dd1-bd05-ecb6c888217a",
   "metadata": {},
   "source": [
    "## Scraping the SPASE records and populating our tables\n",
    "<br>\n",
    "This code block performs the following: <br>\n",
    "\n",
    "- takes user input of the absolute path of a SPASE directory they wish to be scraped <br>\n",
    "- finds all desired metadata <br>\n",
    "- creates all needed tables <br>\n",
    "- adds an entry for each record found into the MetadataEntries table. <br>\n",
    "- stores the locations of where each metadata field is found in the MetadataSources table <br>\n",
    "- adds entries into the Records table with general info and info needed for database maintenance.<br>\n",
    "- populate the TestResults table with default values. <br>\n",
    "- update the columns associated with a given analysis test (i.e records that have authors -> has_author column) to have a 'True' value of 1.<br>\n",
    "<br>\n",
    "\n",
    "If you want a full printout of everything being done, pass True as first argument to Create. Otherwise, pass False.<br>\n",
    "If you want to update MetadataEntries table, pass True as second argument to Create. Otherwise, you will need to delete the table to get a clean slate and then run the function, passing False. <br>\n",
    "<br>\n",
    "Examples are also found as comments at the bottom of the code block to test smaller, yet complex directories.<br>"
   ]
  },
  {
   "cell_type": "markdown",
   "id": "6a71021c-b4c5-48a6-b4c5-dff7334a05f7",
   "metadata": {},
   "source": [
    "*Note that this code was designed to work for the NumericalData and DisplayData directories, so inputting directories besides those two may cause logical errors and produce unintended results.*"
   ]
  },
  {
   "cell_type": "code",
   "execution_count": null,
   "id": "aefb448f-0864-43cb-9690-e281a5378c5f",
   "metadata": {},
   "outputs": [],
   "source": [
    "# import main Python function\n",
    "from main import Create\n",
    "from SQLiteFun import executionALL\n",
    "\n",
    "# takes printFlag as first arg (True prints, False does not)\n",
    "Create(False, True)\n",
    "\n",
    "# run these lines if want to start from scratch\n",
    "#executionALL(\"DROP TABLE MetadataEntries\")\n",
    "#Create(False, False)\n",
    "\n",
    "# call .py file directly from notebook\n",
    "#%run ./SPASE_test.py {path} in notebook\n",
    "#import sys\n",
    "#args = sys.argv\n",
    "#path = args[1] in source file\n",
    "\n",
    "# test paths : \n",
    "# Overall paths: /home/jovyan/NASA/NumericalData \n",
    "# AND /home/jovyan/NASA/DisplayData\n",
    "\n",
    "# Smaller subdirectory = \"/home/jovyan/NASA/NumericalData/DE2\" \n",
    "# OR Bigger subdirectory = \"/home/jovyan/NASA/NumericalData/ACE\"\n",
    "\n",
    "# complex author ex: /home/jovyan/NASA/NumericalData/Cassini/MAG/PT60S.xml \n",
    "# OR /home/jovyan/NASA/NumericalData/ACE/Attitude/Definitive/PT1H.xml\n",
    "\n",
    "# complex URL ex: /home/jovyan/NASA/NumericalData/ACE/CRIS/L2/P1D.xml\n"
   ]
  },
  {
   "cell_type": "markdown",
   "id": "2b967ad5-4480-4d84-a84c-8b3c577d0043",
   "metadata": {},
   "source": [
    "## Executing Analysis Tests and Viewing the Results <br>\n",
    "In this code block, we perform calls to the QueryPrinter script to get the Counts and/or ID's of the SPASE records that pass each analysis test. \n",
    "These analysis tests include links that have: <br> \n",
    "\n",
    "- authors <br>\n",
    "- publishers <br>\n",
    "- publication years <br>\n",
    "- dataset names <br>\n",
    "- licenses <br>\n",
    "- URLs <br>\n",
    "- NASA URLs <br>\n",
    "- persistent identifiers <br>\n",
    "- descriptions <br>\n",
    "- citation info <br>\n",
    "- DCAT-3 compliance info.<br>"
   ]
  },
  {
   "cell_type": "code",
   "execution_count": 1,
   "id": "d337c080-d546-4d51-966e-02a985a25cbf",
   "metadata": {},
   "outputs": [
    {
     "name": "stdout",
     "output_type": "stream",
     "text": [
      "There are 3029 records total\n",
      "There are 2902 records with at least one author\n",
      "There are 3029 records with a publisher\n",
      "There are 1879 records with a publication year\n",
      "There are 3029 records with a dataset name\n",
      "There are 0 records with a license\n",
      "There are 3029 records with a url\n",
      "There are 2249 records with a NASA url\n",
      "There are 3029 records with a persistent identifier\n",
      "There are 3029 records with a description\n",
      "There are 1879 records with citation info\n",
      "There are 3029 records that meet DCAT-US3 compliance\n"
     ]
    }
   ],
   "source": [
    "from main import View\n",
    "# this function returns all records that pass associated tests\n",
    "(allRecords, authorRecords, pubRecords, pubYrRecords, datasetNameRecords, licenseRecords, urlRecords, NASAurlRecords, \n",
    "     PIDRecords, descriptionRecords, citationRecords, complianceRecords) = View()"
   ]
  },
  {
   "cell_type": "markdown",
   "id": "f4ab7b6d-c51f-43d6-8aa8-4bafa6d361e6",
   "metadata": {},
   "source": [
    "## Calculating the FAIR Scores\n",
    "This code overwrites the default values placed in the TestResults table to have the actual FAIR Scores that are calculated according to the following algorithm:<br>\n",
    "\n",
    "- +1 for author\n",
    "- +1 for dataset name\n",
    "- +1 for publication year\n",
    "- +1 for publisher\n",
    "- +1 for citation info\n",
    "- +1 for description\n",
    "- +1 for PID\n",
    "- +1 for compliance\n",
    "- +1 for license\n",
    "- +1 for NASA URL <br>\n",
    "======================= <br>\n",
    "- Total Possible Points of 10"
   ]
  },
  {
   "cell_type": "code",
   "execution_count": null,
   "id": "e5772bf2-3f6a-4911-b157-d8f3050f82b4",
   "metadata": {},
   "outputs": [],
   "source": [
    "from SQLiteFun import FAIRScorer\n",
    "\n",
    "# calculate FAIR scores for all records\n",
    "FAIRScorer(allRecords, False)"
   ]
  },
  {
   "cell_type": "markdown",
   "id": "88a7cc95-2b0e-47b3-8e0a-3c1726b4da0e",
   "metadata": {},
   "source": [
    "## How to do your own queries \n",
    "This section gives examples of how to query the database for row specific and column specific queries. Also provided are brief explanations of some of the SQLite syntax and also an example of a complex query for both categories. <br>\n",
    "\n",
    "*Disclaimer: Not all authors are provided, as checks were only done to find if an allowed author exists.* \n",
    "<br>\n",
    "**Also note that when a SPASE record has multiple product keys for one URL or multiple URLs in general, each URL/product key gets their own entry into the table. This is why there may be 'duplicate entries' in the database.**"
   ]
  },
  {
   "cell_type": "markdown",
   "id": "df4865f7-444d-441c-8987-a47846f43064",
   "metadata": {},
   "source": [
    "### Understanding the structure\n",
    "This code block shows you all the table names and their column names in the database that was used."
   ]
  },
  {
   "cell_type": "code",
   "execution_count": 17,
   "id": "4d0de1c7-2ce5-4848-846b-030e704ff1fb",
   "metadata": {},
   "outputs": [
    {
     "name": "stdout",
     "output_type": "stream",
     "text": [
      "The table MetadataSources has columns:\n",
      "['rowNum', 'SPASE_id', 'author_source', 'publisher_source', 'publication_yr_source', 'datasetName_source', 'license_source', 'datalink_source', 'description_source', 'PID_source']\n",
      "\n",
      "The table Records has columns:\n",
      "['rowNum', 'SPASE_id', 'SPASE_Version', 'LastModified', 'SPASE_URL']\n",
      "\n",
      "The table MetadataEntries has columns:\n",
      "['rowNum', 'SPASE_id', 'author', 'authorRole', 'publisher', 'publicationYr', 'datasetName', 'license', 'URL', 'prodKey', 'description', 'PID']\n",
      "\n",
      "The table TestResults has columns:\n",
      "['rowNum', 'SPASE_id', 'FAIR_Score', 'FAIR_ScoreDate', 'MostRecent', 'has_author', 'has_pub', 'has_pubYr', 'has_datasetName', 'has_license', 'has_url', 'has_NASAurl', 'has_PID', 'has_desc', 'has_citation', 'has_compliance', 'Errors']\n",
      "\n"
     ]
    }
   ],
   "source": [
    "from SQLiteFun import databaseInfo\n",
    "\n",
    "databaseInfo()"
   ]
  },
  {
   "cell_type": "markdown",
   "id": "8cc4bbc5-eb07-4e41-98b9-5b395af415e6",
   "metadata": {},
   "source": [
    "### Record Specific Queries"
   ]
  },
  {
   "cell_type": "code",
   "execution_count": 2,
   "id": "2e5475f0-1410-492d-9dc5-8a799ea8ed24",
   "metadata": {},
   "outputs": [
    {
     "data": {
      "text/plain": [
       "['spase://NASA/NumericalData/Interball-2/IMAP3/PT120S']"
      ]
     },
     "execution_count": 2,
     "metadata": {},
     "output_type": "execute_result"
    }
   ],
   "source": [
    "from SQLiteFun import execution\n",
    "\n",
    "# brief SQLite command tutorial\n",
    "# Use \"\"\"SELECT columnName FROM TableName WHERE columnName = x\"\"\" where x is of proper data type\n",
    "\n",
    "# Ex: How to get a ResourceID\n",
    "stmt = \"\"\" SELECT SPASE_id FROM MetadataEntries WHERE rowNum = 10 \"\"\"\n",
    "execution(stmt, 1)"
   ]
  },
  {
   "cell_type": "code",
   "execution_count": 2,
   "id": "9d3ada0a-b105-467d-ac71-d635b32c5b50",
   "metadata": {},
   "outputs": [
    {
     "data": {
      "text/plain": [
       "['spase://NASA/NumericalData/Interball-2/IMAP3/PT120S']"
      ]
     },
     "execution_count": 2,
     "metadata": {},
     "output_type": "execute_result"
    }
   ],
   "source": [
    "# Get RID by specifying the xml file name\n",
    "# Use \"LIKE '%text%'\" instead of '= x' for when you need to query on partial info\n",
    "# Use DISTINCT to prevent duplicate rows\n",
    "stmt = \"\"\" SELECT DISTINCT(SPASE_id) FROM MetadataEntries WHERE SPASE_id LIKE '%IMAP3/PT120S' \"\"\"\n",
    "execution(stmt, 1)"
   ]
  },
  {
   "cell_type": "code",
   "execution_count": 15,
   "id": "8ca2ae04-267b-4983-a19b-278520a49409",
   "metadata": {},
   "outputs": [
    {
     "data": {
      "text/plain": [
       "['spase://NASA/NumericalData/Interball-2/IMAP3/PT120S']"
      ]
     },
     "execution_count": 15,
     "metadata": {},
     "output_type": "execute_result"
    }
   ],
   "source": [
    "# searching table for RID by a specific value of a column\n",
    "ds = \"Interball Aurora MAG 2-min Key Parameters\"\n",
    "stmt = f\"\"\" SELECT DISTINCT(SPASE_id) FROM MetadataEntries WHERE datasetName = '{ds}' \"\"\"\n",
    "execution(stmt, 1)"
   ]
  },
  {
   "cell_type": "code",
   "execution_count": 16,
   "id": "297af40e-5cb3-440b-a19c-d0156879b400",
   "metadata": {},
   "outputs": [
    {
     "name": "stdout",
     "output_type": "stream",
     "text": [
      "(9, 'spase://NASA/NumericalData/Interball-2/IMAP3/PT120S', 'spase://SMWG/Person/Vladislav.M.Petrov', 'GeneralContact', 'NASA/GSFC/SPDF', '', 'Interball Aurora MAG 2-min Key Parameters', 'Open', 'ftps://spdf.gsfc.nasa.gov/pub/data/interball/aurora/mfi/', '', 'Interball Auroral Magnetometer, 2-min key parameters, field intensity and index', '')\n",
      "(10, 'spase://NASA/NumericalData/Interball-2/IMAP3/PT120S', 'spase://SMWG/Person/Vladislav.M.Petrov', 'GeneralContact', 'NASA/GSFC/SPDF', '', 'Interball Aurora MAG 2-min Key Parameters', 'Open', 'https://spdf.gsfc.nasa.gov/pub/data/interball/aurora/mfi/', '', 'Interball Auroral Magnetometer, 2-min key parameters, field intensity and index', '')\n",
      "(11, 'spase://NASA/NumericalData/Interball-2/IMAP3/PT120S', 'spase://SMWG/Person/Vladislav.M.Petrov', 'GeneralContact', 'NASA/GSFC/SPDF', '', 'Interball Aurora MAG 2-min Key Parameters', 'Open', 'https://cdaweb.gsfc.nasa.gov/cgi-bin/eval2.cgi?dataset=IA_K0_MFI&index=sp_phys', 'IA_K0_MFI', 'Interball Auroral Magnetometer, 2-min key parameters, field intensity and index', '')\n",
      "(12, 'spase://NASA/NumericalData/Interball-2/IMAP3/PT120S', 'spase://SMWG/Person/Vladislav.M.Petrov', 'GeneralContact', 'NASA/GSFC/SPDF', '', 'Interball Aurora MAG 2-min Key Parameters', 'Open', 'https://cdaweb.gsfc.nasa.gov/hapi', 'IA_K0_MFI', 'Interball Auroral Magnetometer, 2-min key parameters, field intensity and index', '')\n"
     ]
    }
   ],
   "source": [
    "# How to get all data for a SPASE record using the RID\n",
    "# put any number besides 1 as the second arg for execution when selecting more than 1 item\n",
    "ID = \"spase://NASA/NumericalData/Interball-2/IMAP3/PT120S\"\n",
    "stmt = f\"\"\" SELECT * FROM MetadataEntries WHERE SPASE_id = '{ID}' \"\"\"\n",
    "rows = execution(stmt, 2)\n",
    "for row in rows:\n",
    "    print(row)"
   ]
  },
  {
   "cell_type": "code",
   "execution_count": 15,
   "id": "98c63228-fae6-46fc-872b-8b0d0308a357",
   "metadata": {},
   "outputs": [
    {
     "data": {
      "text/plain": [
       "[7]"
      ]
     },
     "execution_count": 15,
     "metadata": {},
     "output_type": "execute_result"
    }
   ],
   "source": [
    "# how to get the Fair Score for a record\n",
    "ID = \"spase://NASA/NumericalData/Interball-2/IMAP3/PT120S\"\n",
    "stmt = f\"\"\" SELECT DISTINCT(FAIR_Score) FROM TestResults WHERE SPASE_id = '{ID}' \"\"\"\n",
    "execution(stmt, 1)"
   ]
  },
  {
   "cell_type": "code",
   "execution_count": 14,
   "id": "ed344082-68db-4362-918d-c613d6ac1934",
   "metadata": {},
   "outputs": [
    {
     "name": "stdout",
     "output_type": "stream",
     "text": [
      "('spase://SMWG/Person/Vladislav.M.Petrov', 'NumericalData/ResourceHeader/Contact/PersonID', 'https://github.com/hpde/NASA/blob/master/NumericalData/Interball-2/IMAP3/PT120S.xml')\n"
     ]
    }
   ],
   "source": [
    "# complex example of selecting multiple items from multiple tables by using the RID\n",
    "# notice we use commas for multiple items and INNER JOINS when multiple tables\n",
    "ID = \"spase://NASA/NumericalData/Interball-2/IMAP3/PT120S\"\n",
    "rows = execution(f\"\"\" SELECT author, MetadataSources.author_source, Records.SPASE_URL \n",
    "            FROM MetadataEntries\n",
    "                INNER JOIN MetadataSources USING (SPASE_id)\n",
    "                INNER JOIN Records USING (SPASE_id)\n",
    "            WHERE SPASE_id = '{ID}';\"\"\", 2)\n",
    "print(rows[0])"
   ]
  },
  {
   "cell_type": "markdown",
   "id": "4c2e97a5-58ee-4093-b3c0-49ea4e6e9108",
   "metadata": {
    "tags": []
   },
   "source": [
    "### Column Specific Queries"
   ]
  },
  {
   "cell_type": "code",
   "execution_count": 13,
   "id": "8bdbc833-6428-423f-9b46-2774c77ed336",
   "metadata": {},
   "outputs": [
    {
     "data": {
      "text/plain": [
       "[0]"
      ]
     },
     "execution_count": 13,
     "metadata": {},
     "output_type": "execute_result"
    }
   ],
   "source": [
    "# How many records do not have a URL?\n",
    "stmt = \"\"\"SELECT COUNT(DISTINCT(SPASE_id)) FROM TestResults WHERE has_url = 0\"\"\"\n",
    "execution(stmt, 1)"
   ]
  },
  {
   "cell_type": "code",
   "execution_count": 14,
   "id": "f71d4705-5d75-424b-98e3-1e8ebbd8e927",
   "metadata": {},
   "outputs": [
    {
     "data": {
      "text/plain": [
       "['spase://NASA/NumericalData/OV3-3/MES/PT1S',\n",
       " 'spase://NASA/NumericalData/CRRES/LPI/PT30S',\n",
       " 'spase://NASA/NumericalData/CRRES/MAG/PT30S',\n",
       " 'spase://NASA/NumericalData/CRRES/MAG/PT2S',\n",
       " 'spase://NASA/NumericalData/CRRES/PWE/PT8S',\n",
       " 'spase://NASA/NumericalData/CORONAS-F/SPIRIT/PT5M',\n",
       " 'spase://NASA/NumericalData/SCATHA/Science/PT1M',\n",
       " 'spase://NASA/NumericalData/SCATHA/Science/PT1S',\n",
       " 'spase://NASA/NumericalData/LANL/Avg/SOPA/PT1D',\n",
       " 'spase://NASA/NumericalData/LANL/Avg/ESP/P1D']"
      ]
     },
     "execution_count": 14,
     "metadata": {},
     "output_type": "execute_result"
    }
   ],
   "source": [
    "# What are some examples of SPASE_id's of the records that do not have a NASA URL?\n",
    "# Use optional LIMIT x at end to limit how many items are selected\n",
    "stmt = \"\"\"SELECT DISTINCT(SPASE_id) FROM TestResults WHERE has_NASAurl = 0 LIMIT 10\"\"\"\n",
    "execution(stmt, 1)"
   ]
  },
  {
   "cell_type": "code",
   "execution_count": 12,
   "id": "9676210d-b509-40c7-bcd7-ed464c7db272",
   "metadata": {},
   "outputs": [
    {
     "data": {
      "text/plain": [
       "[2902]"
      ]
     },
     "execution_count": 12,
     "metadata": {},
     "output_type": "execute_result"
    }
   ],
   "source": [
    "# How many records have 3 out of 4 fields needed for citation?\n",
    "# Use AND and OR operators\n",
    "stmt = \"\"\"SELECT COUNT(DISTINCT SPASE_id) FROM TestResults \n",
    "                WHERE (has_author = 1 \n",
    "                AND has_datasetName = 1\n",
    "                AND has_pubYr = 1)\n",
    "                OR (has_author = 1 \n",
    "                AND has_datasetName = 1\n",
    "                AND has_pub = 1)\n",
    "                OR (has_author = 1 \n",
    "                AND has_pub = 1\n",
    "                AND has_pubYr = 1)\n",
    "                OR (has_datasetName = 1 \n",
    "                AND has_pub = 1\n",
    "                AND has_pubYr = 1)\"\"\"\n",
    "execution(stmt, 1)"
   ]
  },
  {
   "cell_type": "code",
   "execution_count": 11,
   "id": "25ee42df-0d7b-4fef-a412-e50c01fd8635",
   "metadata": {},
   "outputs": [
    {
     "data": {
      "text/plain": [
       "[(8, 'spase://NASA/NumericalData/Weygand/ACE/TAP/Propagated.SWEPAM/GSE/PT60S'),\n",
       " (8,\n",
       "  'spase://NASA/NumericalData/Weygand/ACE/SWEPAM/Propagated.SWEPAM/GSE/PT60S'),\n",
       " (6,\n",
       "  'spase://NASA/NumericalData/Weygand/ACE/SWEPAM/Propagated.SWEPAM/GSM/PT60S'),\n",
       " (8, 'spase://NASA/NumericalData/Weygand/ACE/SWEPAM/Processed/GSE/PT60S'),\n",
       " (8, 'spase://NASA/NumericalData/Weygand/ACE/SWEPAM/Processed/GSM/PT60S'),\n",
       " (8, 'spase://NASA/NumericalData/Weygand/ACE/MFI/Propagated.SWEPAM/GSE/PT60S'),\n",
       " (8, 'spase://NASA/NumericalData/Weygand/ACE/MFI/Propagated.SWEPAM/GSM/PT60S'),\n",
       " (8, 'spase://NASA/NumericalData/Weygand/ACE/MFI/Processed/GSE/PT60S'),\n",
       " (8, 'spase://NASA/NumericalData/Weygand/ACE/MFI/Processed/GSM/PT60S'),\n",
       " (8, 'spase://NASA/NumericalData/ACE/SEPICA/PT120S')]"
      ]
     },
     "execution_count": 11,
     "metadata": {},
     "output_type": "execute_result"
    }
   ],
   "source": [
    "# how did records in a certain directory do in terms of FAIR scores?\n",
    "stmt = \"\"\"SELECT DISTINCT(FAIR_Score), SPASE_id FROM TestResults WHERE SPASE_id LIKE '%/ACE/%' LIMIT 10\"\"\"\n",
    "execution(stmt, 2)"
   ]
  },
  {
   "cell_type": "code",
   "execution_count": 6,
   "id": "52813144-1b51-4762-8738-f819921c3008",
   "metadata": {},
   "outputs": [
    {
     "data": {
      "text/plain": [
       "[1624]"
      ]
     },
     "execution_count": 6,
     "metadata": {},
     "output_type": "execute_result"
    }
   ],
   "source": [
    "# how many records have a FAIR Score of x?\n",
    "stmt = \"\"\"SELECT COUNT(DISTINCT SPASE_id) FROM TestResults WHERE FAIR_Score = 9 \"\"\"\n",
    "execution(stmt, 1)"
   ]
  },
  {
   "cell_type": "code",
   "execution_count": null,
   "id": "870b7d84-84f3-482f-bfb7-4efb33080240",
   "metadata": {},
   "outputs": [],
   "source": []
  }
 ],
 "metadata": {
  "kernelspec": {
   "display_name": "Python 3 (ipykernel)",
   "language": "python",
   "name": "python3"
  },
  "language_info": {
   "codemirror_mode": {
    "name": "ipython",
    "version": 3
   },
   "file_extension": ".py",
   "mimetype": "text/x-python",
   "name": "python",
   "nbconvert_exporter": "python",
   "pygments_lexer": "ipython3",
   "version": "3.10.8"
  }
 },
 "nbformat": 4,
 "nbformat_minor": 5
}
