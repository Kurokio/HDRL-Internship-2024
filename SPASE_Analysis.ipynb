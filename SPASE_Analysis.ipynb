{
 "cells": [
  {
   "cell_type": "code",
   "execution_count": 1,
   "id": "aefb448f-0864-43cb-9690-e281a5378c5f",
   "metadata": {},
   "outputs": [
    {
     "name": "stdout",
     "output_type": "stream",
     "text": [
      "Enter path of SPASE record ... such as C:\\dir1\\dir2\\spaseRecord_x.xml\n"
     ]
    },
    {
     "name": "stdin",
     "output_type": "stream",
     "text": [
      " ../NASA/NumericalData/DE2/IDM/PT0.25S.xml\n"
     ]
    },
    {
     "name": "stdout",
     "output_type": "stream",
     "text": [
      "You entered ../NASA/NumericalData/DE2/IDM/PT0.25S.xml\n",
      "File size is: 0.00 GB\n",
      "The ResourceID is spase://NASA/NumericalData/DE2/IDM/PT0.25S\n",
      "The author is Heelis, Roderick, A.; Candey, Robert, M.\n",
      "The publication year is 2023-01-01T00:00:00\n",
      "The publisher is NASA Space Physics Data Facility\n",
      "The dataset is DE 2 250ms IDM Ion Drift Velocities\n",
      "The persistent identifier is https://doi.org/10.48322/reef-jt02\n",
      "The URLs with their associated product keys and license(s) are:\n",
      "{'Open': {'ftps://spdf.gsfc.nasa.gov/pub/data/de/de2/plasma_idm/': [],\n",
      "          'https://cdaweb.gsfc.nasa.gov/cgi-bin/eval2.cgi?dataset=DE2_VION250MS_IDM&index=sp_phys': ['DE2_VION250MS_IDM'],\n",
      "          'https://cdaweb.gsfc.nasa.gov/hapi': ['DE2_VION250MS_IDM@0',\n",
      "                                                'DE2_VION250MS_IDM@1',\n",
      "                                                'DE2_VION250MS_IDM@2'],\n",
      "          'https://spdf.gsfc.nasa.gov/pub/data/de/de2/plasma_idm/': []},\n",
      " 'PartiallyRestricted': {},\n",
      " 'Restricted': {}}\n"
     ]
    }
   ],
   "source": [
    "# import function from .py file\n",
    "import pprint\n",
    "from SPASE_Scraper_Script import SPASE_Scraper\n",
    "\n",
    "# test path : \"../NASA/NumericalData/DE2/IDM/PT0.25S.xml\"\n",
    "print(\"Enter path of SPASE record ... such as C:\\dir1\\dir2\\spaseRecord_x.xml\")\n",
    "path = input()\n",
    "RID, author, pub, pubDate, dataset, PI, AccessRights = SPASE_Scraper(path)\n",
    "print(\"The ResourceID is \" + RID)\n",
    "print(\"The author is \" + author)\n",
    "print(\"The publication year is \" + pubDate)\n",
    "print(\"The publisher is \" + pub)\n",
    "print(\"The dataset is \" + dataset)\n",
    "print(\"The persistent identifier is \" + PI)\n",
    "print(\"The URLs with their associated product keys and license(s) are:\")\n",
    "pprint.pprint(AccessRights)\n",
    "\n",
    "# call .py file directly from notebook\n",
    "#%run ./SPASE_test.py {path} in notebook\n",
    "#import sys\n",
    "\n",
    "#args = sys.argv\n",
    "#path = args[1] in source file\n"
   ]
  },
  {
   "cell_type": "code",
   "execution_count": null,
   "id": "48c45e22-858f-45a7-97cc-96ba5cc5e3f1",
   "metadata": {},
   "outputs": [],
   "source": [
    "# add table to existing database\n",
    "import sqlite3\n",
    "\n",
    "def create_tables():\n",
    "    sql_statements = [ \n",
    "        \"\"\"CREATE TABLE IF NOT EXISTS SPASE_Metadata (\n",
    "                id INTEGER PRIMARY KEY, \n",
    "                SPASE_id TEXT NOT NULL, \n",
    "                priority INT, \n",
    "                project_id INT NOT NULL, \n",
    "                status_id INT NOT NULL, \n",
    "                begin_date TEXT NOT NULL, \n",
    "                end_date TEXT NOT NULL, \n",
    "                FOREIGN KEY (project_id) REFERENCES projects (id)\n",
    "        );\"\"\"]\n",
    "\n",
    "    # create a database connection\n",
    "    try:\n",
    "        with sqlite3.connect('SPASE_Data.db') as conn:\n",
    "            cursor = conn.cursor()\n",
    "            for statement in sql_statements:\n",
    "                cursor.execute(statement)\n",
    "            \n",
    "            conn.commit()\n",
    "    except sqlite3.Error as e:\n",
    "        print(e)\n",
    "\n",
    "\n",
    "if __name__ == '__main__':\n",
    "    create_tables()"
   ]
  }
 ],
 "metadata": {
  "kernelspec": {
   "display_name": "Python 3 (ipykernel)",
   "language": "python",
   "name": "python3"
  },
  "language_info": {
   "codemirror_mode": {
    "name": "ipython",
    "version": 3
   },
   "file_extension": ".py",
   "mimetype": "text/x-python",
   "name": "python",
   "nbconvert_exporter": "python",
   "pygments_lexer": "ipython3",
   "version": "3.10.8"
  }
 },
 "nbformat": 4,
 "nbformat_minor": 5
}
