{
 "cells": [
  {
   "cell_type": "code",
   "execution_count": 71,
   "id": "d67955bd-303f-4ccb-8295-d153da34aec3",
   "metadata": {},
   "outputs": [],
   "source": [
    "import xml.etree.ElementTree as ET\n",
    "import os\n",
    "import pprint\n",
    "\n",
    "# establish path of XML file\n",
    "path = \"../NASA/NumericalData/ACE/Attitude/Definitive/\"\n",
    "fullname = os.path.join(path, \"PT1H.xml\")\n",
    "tree = ET.parse(fullname)\n",
    "root = tree.getroot()\n",
    "# root[1] = NumericalData\n",
    "# root = Spase\n",
    "# ET.dump(tree)\n",
    "# for event, element in ET.iterparse(fullname):\n",
    "    #print(event, element.tag)\n",
    "ET.register_namespace(\"spase\",\"http://www.spase-group.org/data/schema\")\n",
    "ns = {\"spase\":\"http://www.spase-group.org/data/schema\"}"
   ]
  },
  {
   "cell_type": "code",
   "execution_count": 23,
   "id": "32ab35a1-154d-41c6-887c-66f8e624b8e2",
   "metadata": {},
   "outputs": [
    {
     "name": "stdout",
     "output_type": "stream",
     "text": [
      "spase://NASA/NumericalData/ACE/Attitude/Definitive/PT1H\n"
     ]
    }
   ],
   "source": [
    "# obtain ResourceID\n",
    "target_tag = \"{http://www.spase-group.org/data/schema}ResourceID\"\n",
    "for descendant in root[1].iter(target_tag):\n",
    "    print(descendant.text)"
   ]
  },
  {
   "cell_type": "code",
   "execution_count": 78,
   "id": "a453a066-6401-45b2-856a-724dc3100d09",
   "metadata": {},
   "outputs": [
    {
     "name": "stdout",
     "output_type": "stream",
     "text": [
      "{http://www.spase-group.org/data/schema}ResourceID\n",
      "{http://www.spase-group.org/data/schema}ResourceHeader\n",
      "{http://www.spase-group.org/data/schema}AccessInformation\n",
      "{http://www.spase-group.org/data/schema}AccessInformation\n",
      "{http://www.spase-group.org/data/schema}ProcessingLevel\n",
      "{http://www.spase-group.org/data/schema}InstrumentID\n",
      "{http://www.spase-group.org/data/schema}MeasurementType\n",
      "{http://www.spase-group.org/data/schema}TemporalDescription\n",
      "{http://www.spase-group.org/data/schema}ObservedRegion\n",
      "{http://www.spase-group.org/data/schema}ObservedRegion\n",
      "{http://www.spase-group.org/data/schema}ObservedRegion\n",
      "{http://www.spase-group.org/data/schema}Parameter\n",
      "{http://www.spase-group.org/data/schema}Parameter\n",
      "{http://www.spase-group.org/data/schema}Parameter\n",
      "{http://www.spase-group.org/data/schema}Parameter\n",
      "ACE flight operations team (FOT), and R. Candey\n",
      "2022\n",
      "NASA Space Physics Data Facility\n",
      "ACE Definitive Attitude, Hourly Values, Direction Cosines in RTN, GSE, and J2000 GCI Coordinates\n",
      "https://doi.org/10.48322/f2a8-nm36\n"
     ]
    }
   ],
   "source": [
    "# iterate thru children to locate ResourceHeader\n",
    "for child in root[1]:\n",
    "    print(child.tag)\n",
    "    if child.tag.endswith(\"ResourceHeader\"):\n",
    "        targetChild = child\n",
    "    \n",
    "# obtain Author, Publication Date, Publisher, and Dataset Name\n",
    "\n",
    "# define vars\n",
    "author=\"None\" \n",
    "pubDate=\"None\"\n",
    "pub = \"None\"\n",
    "dataset = \"None\"\n",
    "PI = \"None\"\n",
    "\n",
    "# iterate thru ResourceHeader\n",
    "for child in targetChild:\n",
    "    #print(child.tag)\n",
    "    # find backup Dataset Name\n",
    "    if child.tag.endswith(\"ResourceName\"):\n",
    "        targetChild = child\n",
    "        dataset = child.text\n",
    "    # find Persistent Identifier\n",
    "    if child.tag.endswith(\"DOI\"):\n",
    "        PI = child.text\n",
    "    # find Publication Info\n",
    "    elif child.tag.endswith(\"PublicationInfo\"):\n",
    "        targetChild = child\n",
    "        #break\n",
    "\n",
    "# access Publication Info\n",
    "for child in targetChild:\n",
    "    if child.tag.endswith(\"Authors\"):\n",
    "        author = child.text\n",
    "    elif child.tag.endswith(\"PublicationDate\"):\n",
    "        pubDate = child.text\n",
    "    elif child.tag.endswith(\"PublishedBy\"):\n",
    "        pub = child.text\n",
    "    elif child.tag.endswith(\"Title\"):\n",
    "        dataset = child.text\n",
    "\n",
    "pubYear = pubDate[0:4]\n",
    "print(author)\n",
    "print(pubYear)\n",
    "print(pub)\n",
    "print(dataset)\n",
    "print(PI)"
   ]
  },
  {
   "cell_type": "code",
   "execution_count": 83,
   "id": "2cc89e03-f9d6-48a5-8e5c-2613523a83dc",
   "metadata": {},
   "outputs": [
    {
     "name": "stdout",
     "output_type": "stream",
     "text": [
      "The data links and their associated product keys with an Open License are:\n",
      "{'ftps://spdf.gsfc.nasa.gov/pub/data/ace/orbit/level_2_cdaweb/def_at/': 'No_product_key',\n",
      " 'https://cdaweb.gsfc.nasa.gov/cgi-bin/eval2.cgi?dataset=AC_AT_DEF&index=sp_phys': 'AC_AT_DEF',\n",
      " 'https://cdaweb.gsfc.nasa.gov/hapi': 'AC_AT_DEF',\n",
      " 'https://spdf.gsfc.nasa.gov/pub/data/ace/orbit/level_2_cdaweb/def_at/': 'No_product_key'}\n"
     ]
    }
   ],
   "source": [
    "# dictionary labled by the Access Rights which will store all URLs and their Product Keys if given\n",
    "Open = {}\n",
    "\n",
    "# iterate thru children to locate Access Information\n",
    "for child in root[1]:\n",
    "    if child.tag.endswith(\"AccessInformation\"):\n",
    "        targetChild = child\n",
    "        # iterate thru children to locate AccessURL and RepositoryID\n",
    "        for child in targetChild:\n",
    "            if child.tag.endswith(\"AccessURL\"):\n",
    "                targetChild = child\n",
    "                # iterate thru children to locate URL\n",
    "                for child in targetChild:\n",
    "                    if child.tag.endswith(\"URL\"):\n",
    "                        url = child.text\n",
    "                        Open[url] = \"No_product_key\"\n",
    "                    # check if URL has a product key\n",
    "                    elif child.tag.endswith(\"ProductKey\"):\n",
    "                        prodKey = child.text\n",
    "                        Open[url] = prodKey\n",
    "            # find backup Publisher if needed\n",
    "            elif pub == \"None\":\n",
    "                if child.tag.endswith(\"RepositoryID\"):\n",
    "                    # use partition to split text by Repository/ and assign only the text after it to pub \n",
    "                    before, sep, after = child.text.partition(\"Repository/\")\n",
    "                    pub = after\n",
    "            # continue to check for additional AccessURLs            \n",
    "            continue\n",
    "    # continue to check for additional Access Informations\n",
    "    continue\n",
    "\n",
    "print(\"The data links and their associated product keys with an Open License are:\")\n",
    "pprint.pprint(Open)"
   ]
  },
  {
   "cell_type": "code",
   "execution_count": null,
   "id": "6ece1008-b9d3-45c3-b449-3e01c593cf2d",
   "metadata": {},
   "outputs": [],
   "source": []
  }
 ],
 "metadata": {
  "kernelspec": {
   "display_name": "Python 3 (ipykernel)",
   "language": "python",
   "name": "python3"
  },
  "language_info": {
   "codemirror_mode": {
    "name": "ipython",
    "version": 3
   },
   "file_extension": ".py",
   "mimetype": "text/x-python",
   "name": "python",
   "nbconvert_exporter": "python",
   "pygments_lexer": "ipython3",
   "version": "3.10.8"
  }
 },
 "nbformat": 4,
 "nbformat_minor": 5
}
