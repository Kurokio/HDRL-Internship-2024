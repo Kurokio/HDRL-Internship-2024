{
 "cells": [
  {
   "cell_type": "code",
   "execution_count": 1,
   "id": "1e8b4751-a921-42ad-938e-9d8b8f820c74",
   "metadata": {},
   "outputs": [
    {
     "ename": "ImportError",
     "evalue": "attempted relative import with no known parent package",
     "output_type": "error",
     "traceback": [
      "\u001b[0;31m---------------------------------------------------------------------------\u001b[0m",
      "\u001b[0;31mImportError\u001b[0m                               Traceback (most recent call last)",
      "Cell \u001b[0;32mIn [1], line 1\u001b[0m\n\u001b[0;32m----> 1\u001b[0m \u001b[38;5;28;01mfrom\u001b[39;00m \u001b[38;5;21;01m.\u001b[39;00m\u001b[38;5;21;01mDataAccessCheck\u001b[39;00m \u001b[38;5;28;01mimport\u001b[39;00m DataChecker\n\u001b[1;32m      2\u001b[0m \u001b[38;5;28;01mfrom\u001b[39;00m \u001b[38;5;21;01mScripts\u001b[39;00m\u001b[38;5;21;01m.\u001b[39;00m\u001b[38;5;21;01mSQLiteFun\u001b[39;00m \u001b[38;5;28;01mimport\u001b[39;00m create_sqlite_database, execution\n\u001b[1;32m      3\u001b[0m \u001b[38;5;28;01mfrom\u001b[39;00m \u001b[38;5;21;01mcontextlib\u001b[39;00m \u001b[38;5;28;01mimport\u001b[39;00m redirect_stdout\n",
      "\u001b[0;31mImportError\u001b[0m: attempted relative import with no known parent package"
     ]
    }
   ],
   "source": [
    "from .DataAccessCheck import DataChecker\n",
    "from Scripts.SQLiteFun import create_sqlite_database, execution\n",
    "from contextlib import redirect_stdout\n",
    "\n",
    "# once finished, try on all HAPI records and export output to file\n",
    "# input abs path of database file you wish to query from\n",
    "conn = create_sqlite_database(\"/home/jovyan/HDRL-Internship-2024/SPASE_Data_20240716.db\")\n",
    "\n",
    "# fails data checks \n",
    "#HapiStmt = \"\"\"SELECT prodKey FROM MetadataEntries WHERE url LIKE \"%/hapi\" LIMIT 1 OFFSET 7\"\"\"\n",
    "#HapiStmt = \"\"\"SELECT prodKey FROM MetadataEntries WHERE url LIKE \"%/hapi\" LIMIT 1 OFFSET 21\"\"\"\n",
    "#HapiStmt = \"\"\"SELECT prodKey FROM MetadataEntries WHERE url LIKE \"%/hapi\" LIMIT 1 OFFSET 59\"\"\"\n",
    "#HapiStmt = \"\"\"SELECT prodKey FROM MetadataEntries WHERE url LIKE \"%/hapi\" LIMIT 5 OFFSET 64\"\"\"\n",
    "#HapiStmt = \"\"\"SELECT prodKey FROM MetadataEntries WHERE url LIKE \"%/hapi\" LIMIT 2 OFFSET 130\"\"\"\n",
    "#HapiStmt = \"\"\"SELECT prodKey FROM MetadataEntries WHERE url LIKE \"%/hapi\" LIMIT 2 OFFSET 136\"\"\"\n",
    "#HapiStmt = \"\"\"SELECT prodKey FROM MetadataEntries WHERE url LIKE \"%/hapi\" LIMIT 2 OFFSET 283\"\"\" #takes mult tries\n",
    "\n",
    "# examples that are not actual datasets according to CDAWEB\n",
    "#HapiStmt = \"\"\"SELECT prodKey FROM MetadataEntries WHERE url LIKE \"%/hapi\" LIMIT 3 OFFSET 120\"\"\"\n",
    "#HapiStmt = \"\"\"SELECT prodKey FROM MetadataEntries WHERE url LIKE \"%/hapi\" LIMIT 14 OFFSET 233\"\"\"\n",
    "\n",
    "# example w multiple prodKeys\n",
    "#HapiStmt = \"\"\"SELECT prodKey FROM MetadataEntries WHERE url LIKE \"%/hapi\" LIMIT 1 OFFSET 45\"\"\"\n",
    "#HapiStmt = \"\"\"SELECT prodKey FROM MetadataEntries WHERE url LIKE \"%/hapi\" LIMIT 1 OFFSET 67\"\"\"\n",
    "#HapiStmt = \"\"\"SELECT prodKey FROM MetadataEntries WHERE url LIKE \"%/hapi\" LIMIT 1 OFFSET 93\"\"\"\n",
    "#HapiStmt = \"\"\"SELECT prodKey FROM MetadataEntries WHERE url LIKE \"%/hapi\" LIMIT 1 OFFSET 96\"\"\"\n",
    "\n",
    "# example where it passes data check at another interval besides 1sec\n",
    "#HapiStmt = \"\"\"SELECT prodKey FROM MetadataEntries WHERE url LIKE \"%/hapi\" LIMIT 1 OFFSET 23\"\"\"\n",
    "#HapiStmt = \"\"\"SELECT prodKey FROM MetadataEntries WHERE url LIKE \"%/hapi\" LIMIT 1 OFFSET 248\"\"\" #incorrect\n",
    "#HapiStmt = \"\"\"SELECT prodKey FROM MetadataEntries WHERE url LIKE \"%/hapi\" LIMIT 4 OFFSET 258\"\"\" #incorrect\n",
    "\n",
    "HapiStmt = \"\"\"SELECT prodKey FROM MetadataEntries WHERE url LIKE \"%/hapi\" LIMIT 10 OFFSET 290\"\"\"\n",
    "\n",
    "\"\"\"spase://NASA/NumericalData/AMPTE-CCE/MEPA/PT0.1875S\n",
    "spase://NASA/NumericalData/DE2/IDM/PT0.25S\n",
    "spase://NASA/NumericalData/FAST/MAG/Fluxgate/PT7.8125MS\n",
    "spase://NASA/NumericalData/ISIS1/SFS/Ionogram/PT29S\n",
    "spase://NASA/NumericalData/MESSENGER/MAG/PT0.05S\"\"\"\n",
    "\n",
    "prodKeys = []\n",
    "prodKeys = execution(HapiStmt, conn)\n",
    "\n",
    "with open(\"../DatalinkCheckOutput.txt\", \"w\") as file:\n",
    "    with redirect_stdout(file):\n",
    "        lines = DataChecker(prodKeys, conn)\n",
    "\n",
    "# export all datasets which take too long to a text file for further investigation\n",
    "textFile = open(\"../HAPI_TakeTooLong.txt\", \"a\")\n",
    "for line in lines:\n",
    "    textFile.write(line)\n",
    "    textFile.write(\"\\n\")\n",
    "    repeat.append(line)\n",
    "textFile.close()"
   ]
  },
  {
   "cell_type": "code",
   "execution_count": 2,
   "id": "155678d0-d2d5-48de-9c5a-2403cd725c45",
   "metadata": {},
   "outputs": [
    {
     "name": "stdout",
     "output_type": "stream",
     "text": [
      "The program is done!\n"
     ]
    }
   ],
   "source": [
    "print(\"The program is done!\")"
   ]
  },
  {
   "cell_type": "code",
   "execution_count": 3,
   "id": "0f21b7de-c3c1-4cf6-8c8c-2c63856cf5f0",
   "metadata": {},
   "outputs": [],
   "source": [
    "# call .py file directly from notebook\n",
    "#%run ./HAPICheck.py > ../DatalinkCheckOutput.txt"
   ]
  },
  {
   "cell_type": "code",
   "execution_count": 4,
   "id": "63cc98df-cf9a-4fe1-83bc-0e960596bcd8",
   "metadata": {},
   "outputs": [],
   "source": [
    "# clear .txt file or use another file instead\n",
    "#textFile = open(\"../HAPI_TakeTooLong.txt\", \"w\")\n",
    "#textFile = open(\"../DatalinkCheckOutput.txt\", \"w\")\n",
    "#textFile.close()"
   ]
  },
  {
   "cell_type": "code",
   "execution_count": null,
   "id": "92e65a96-d8cb-40bc-a900-9f2faad5e559",
   "metadata": {},
   "outputs": [],
   "source": []
  }
 ],
 "metadata": {
  "kernelspec": {
   "display_name": "Python 3 (ipykernel)",
   "language": "python",
   "name": "python3"
  },
  "language_info": {
   "codemirror_mode": {
    "name": "ipython",
    "version": 3
   },
   "file_extension": ".py",
   "mimetype": "text/x-python",
   "name": "python",
   "nbconvert_exporter": "python",
   "pygments_lexer": "ipython3",
   "version": "3.10.8"
  }
 },
 "nbformat": 4,
 "nbformat_minor": 5
}
