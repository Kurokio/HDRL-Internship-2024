{
 "cells": [
  {
   "cell_type": "code",
   "execution_count": 10,
   "id": "1e8b4751-a921-42ad-938e-9d8b8f820c74",
   "metadata": {},
   "outputs": [
    {
     "name": "stdout",
     "output_type": "stream",
     "text": [
      "The prodKeys are ['JUNO_HELIO1DAY_POSITION', 'IA_K0_MFI', 'IA_K0_EPI', 'IA_K0_ENF', 'IA_OR_DEF', 'IA_K0_ICD', 'HELIOS1_COHO1HR_MERGED_MAG_PLASMA', 'HEL1_6SEC_NESSMAG', 'HELIOS1_HELIO1DAY_POSITION', 'HELIOS1_E6_1HOUR_PARTICLE_FLUX']\n",
      "Checking parameter RAD_AU in HAPI record with id JUNO_HELIO1DAY_POSITION\n",
      "The length of data is 1\n",
      "<class 'numpy.float64'>\n",
      "Data was successfully accessed\n",
      "Example data looks like 1.0099999904632568\n",
      "Checking parameter B_abs in HAPI record with id IA_K0_MFI\n",
      "The length of data is 15\n",
      "<class 'numpy.float64'>\n",
      "Data was successfully accessed\n",
      "Example data looks like 1608.0\n",
      "Checking parameter Fe1 in HAPI record with id IA_K0_EPI\n",
      "The length of data is 1\n",
      "<class 'numpy.float64'>\n",
      "Data was successfully accessed\n",
      "Example data looks like -1e+31\n",
      "Checking parameter E1 in HAPI record with id IA_K0_ENF\n",
      "The length of data is 8\n",
      "<class 'numpy.float64'>\n",
      "Data was successfully accessed\n",
      "Example data looks like 8.800000190734863\n",
      "Checking parameter SC_pos_GSE in HAPI record with id IA_OR_DEF\n",
      "The length of data is 3\n",
      "<class 'numpy.ndarray'>\n",
      "Data was successfully accessed\n",
      "Example data looks like [ 0.96600002  0.83399999 -0.61900002]\n",
      "Checking parameter D6_H in HAPI record with id IA_K0_ICD\n"
     ]
    },
    {
     "name": "stderr",
     "output_type": "stream",
     "text": [
      "/tmp/ipykernel_1935/846359233.py:17: FutureWarning: elementwise comparison failed; returning scalar instead, but in the future will perform elementwise comparison\n",
      "  if data[i][1] != \"\":\n"
     ]
    },
    {
     "name": "stdout",
     "output_type": "stream",
     "text": [
      "The length of data is 2\n",
      "<class 'numpy.int32'>\n",
      "Data was successfully accessed\n",
      "Example data looks like 1\n",
      "Checking parameter RotationNumber in HAPI record with id HELIOS1_COHO1HR_MERGED_MAG_PLASMA\n"
     ]
    },
    {
     "name": "stderr",
     "output_type": "stream",
     "text": [
      "\u001b[0;31mHAPIError:\u001b[0m Failed to connect to: https://cdaweb.gsfc.nasa.gov/hapi/info?id=HELIOS1_COHO1HR_MERGED_MAG_PLASMA If problem persists, a contact email for the server may be listed at http://hapi-server.org/servers/"
     ]
    }
   ],
   "source": [
    "from datetime import datetime, timedelta\n",
    "from SQLiteFun import execution\n",
    "from hapiclient import hapi\n",
    "\n",
    "# check and see if data can be retrieved from HAPI server\n",
    "def DataChecker(server, dataset, start, stop, parameters):    \n",
    "    # Get data\n",
    "    data, meta = hapi(server, dataset, parameters, start, stop)\n",
    "    \n",
    "    dataLen = len(data)\n",
    "    print(\"The length of data is \" + str(dataLen))\n",
    "    \n",
    "    # control loop\n",
    "    dataFound = False\n",
    "    while not dataFound:\n",
    "        i = 0\n",
    "        for entry in data:\n",
    "            print(type(data[i][1]))\n",
    "            \n",
    "            # possible type mismatch when using boolean operator\n",
    "            \n",
    "            # place in a try/except to wait x seconds and try again if this fails\n",
    "            # if 3 fails in a row -> no data\n",
    "            \n",
    "            # once data is found, end loop\n",
    "            if data[i][1] != \"\":\n",
    "                dataFound = True\n",
    "                print(\"Data was successfully accessed\")\n",
    "                print(\"Example data looks like \" + str(data[i][1]))\n",
    "                break\n",
    "            else:\n",
    "                print(\"No data was found\")\n",
    "            print(data[i][1])\n",
    "            i += 1\n",
    "    return dataFound\n",
    "    \n",
    "# retrieve prodKeys associated with HAPI URLs\n",
    "HapiStmt = \"\"\" SELECT prodKey FROM MetadataEntries WHERE url LIKE \"%/hapi\" LIMIT 10\"\"\"\n",
    "prodKeys = execution(HapiStmt)\n",
    "print(\"The prodKeys are \" + str(prodKeys))\n",
    "\n",
    "\n",
    "server = 'https://cdaweb.gsfc.nasa.gov/hapi'\n",
    "\n",
    "# iterate thru prodKeys\n",
    "for prodKey in prodKeys:\n",
    "    # control loop\n",
    "    dataFound = False\n",
    "    # list that holds all parameters for a given server\n",
    "    paramNames =  []\n",
    "\n",
    "    dataset = str(prodKey)\n",
    "\n",
    "    # retrieve all parameters and start and stop date from the server\n",
    "    meta = hapi(server,dataset)\n",
    "    for k, v in meta.items():\n",
    "        if k == \"parameters\":\n",
    "            for params in v:\n",
    "                for key, value in params.items():\n",
    "                    if key == \"name\":\n",
    "                        paramNames.append(value)\n",
    "        elif k == \"startDate\":\n",
    "            start = v\n",
    "            date, sep, time = start.partition(\"T\")\n",
    "            time = time.replace(\"Z\", \"\")\n",
    "            dt_string = date + \" \" + time\n",
    "            dt_obj = datetime.strptime(dt_string, \"%Y-%m-%d %H:%M:%S\")\n",
    "            stop = dt_obj + timedelta(minutes=30)\n",
    "            stop = str(stop)\n",
    "            stop = stop.replace(\" \", \"T\") + \"Z\"\n",
    "\n",
    "    #print(\"Start time is \" + start)\n",
    "    #print(\"Stop time is \" + stop)\n",
    "    #print(paramNames)\n",
    "\n",
    "    #start      = '1997-09-02T00:00:12Z'\n",
    "    #stop       = '1997-09-02T00:30:12Z'\n",
    "    #parameters = \",\".join(paramNames[1:])\n",
    "    #print(parameters)\n",
    "\n",
    "    # iterate thru parameters in a server to see if any data can be pulled\n",
    "    for parameters in paramNames[1:]:\n",
    "        if not dataFound:\n",
    "            print(\"Checking parameter \" + str(parameters) + \" in HAPI record with id \" + dataset)\n",
    "            dataFound = DataChecker(server, dataset, start, stop, parameters)\n"
   ]
  },
  {
   "cell_type": "code",
   "execution_count": null,
   "id": "8ab063d1-6e9d-40ed-8f5d-f2ed5222ef42",
   "metadata": {},
   "outputs": [],
   "source": []
  }
 ],
 "metadata": {
  "kernelspec": {
   "display_name": "Python 3 (ipykernel)",
   "language": "python",
   "name": "python3"
  },
  "language_info": {
   "codemirror_mode": {
    "name": "ipython",
    "version": 3
   },
   "file_extension": ".py",
   "mimetype": "text/x-python",
   "name": "python",
   "nbconvert_exporter": "python",
   "pygments_lexer": "ipython3",
   "version": "3.10.8"
  }
 },
 "nbformat": 4,
 "nbformat_minor": 5
}
