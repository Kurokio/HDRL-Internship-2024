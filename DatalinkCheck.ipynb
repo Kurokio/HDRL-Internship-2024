{
 "cells": [
  {
   "cell_type": "code",
   "execution_count": null,
   "id": "1e8b4751-a921-42ad-938e-9d8b8f820c74",
   "metadata": {},
   "outputs": [],
   "source": [
    "# STILL TESTING\n",
    "\n",
    "from DataAccessCheck import DataChecker\n",
    "from Scripts.SQLiteFun import create_sqlite_database, execution\n",
    "from contextlib import closing, redirect_stdout\n",
    "from IPython.utils.io import Tee\n",
    "\n",
    "# once finished, try on all HAPI records and export output to file\n",
    "# input abs path of database file you wish to query from\n",
    "conn = create_sqlite_database(\"/home/jovyan/HDRL-Internship-2024/SPASE_Data_20240716.db\")\n",
    "\n",
    "#HapiStmt = \"\"\"SELECT prodKey FROM MetadataEntries WHERE url LIKE '%/hapi' LIMIT 10\"\"\"\n",
    "\n",
    "# random 5 with multiple prodKeys to try later\n",
    "\"\"\"spase://NASA/NumericalData/AMPTE-CCE/MEPA/PT0.1875S\n",
    "spase://NASA/NumericalData/DE2/IDM/PT0.25S\n",
    "spase://NASA/NumericalData/FAST/MAG/Fluxgate/PT7.8125MS\n",
    "spase://NASA/NumericalData/ISIS1/SFS/Ionogram/PT29S\n",
    "spase://NASA/NumericalData/MESSENGER/MAG/PT0.05S\"\"\"\n",
    "\n",
    "#i = 0\n",
    "prodKeys = []\n",
    "with open(\"../HAPI_TakeTooLong.txt\") as file:\n",
    "    #prodKeys = file.readlines()\n",
    "    for line in file:\n",
    "        #i += 1\n",
    "        #if ((i>21) and (i<30)):\n",
    "        prodKeys.append(line.rstrip())\n",
    "            #continue\n",
    "            \n",
    "#prodKeys = execution(HapiStmt, conn)\n",
    "#print(prodKeys)\n",
    "\n",
    "# if want output only in file\n",
    "with open(\"../DatalinkCheckOutput2.txt\", \"w\") as file:\n",
    "    with redirect_stdout(file):\n",
    "        lines = DataChecker(prodKeys, conn)\n",
    "# if want both file and console\n",
    "#with closing(Tee(\"../DatalinkCheckOutput2.txt\", \"w\", channel=\"stdout\")) as outputstream:\n",
    " #   lines = DataChecker(prodKeys, conn)\n",
    "#print(\"The program is done!\")\n",
    "\n",
    "# export all datasets which take too long to a text file for further investigation\n",
    "textFile = open(\"../HAPI_TakeTooLong2.txt\", \"w\")\n",
    "for line in lines:\n",
    "    textFile.write(line)\n",
    "    textFile.write(\"\\n\")\n",
    "textFile.close()"
   ]
  },
  {
   "cell_type": "code",
   "execution_count": null,
   "id": "a292f7f1-2461-4730-a023-2658036fdaad",
   "metadata": {},
   "outputs": [],
   "source": [
    "prodKeys = []\n",
    "with open(\"../HAPI_TakeTooLong2.txt\") as file:\n",
    "    #prodKeys = file.readlines()\n",
    "    for line in file:\n",
    "        prodKeys.append(line.rstrip())\n",
    "            \n",
    "#prodKeys = execution(HapiStmt, conn)\n",
    "#print(prodKeys)\n",
    "\n",
    "# if want output only in file\n",
    "with open(\"../DatalinkCheckOutput3.txt\", \"w\") as file:\n",
    "    with redirect_stdout(file):\n",
    "        lines = DataChecker(prodKeys, conn)\n",
    "# if want both file and console\n",
    "#with closing(Tee(\"../DatalinkCheckOutput3.txt\", \"w\", channel=\"stdout\")) as outputstream:\n",
    " #   lines = DataChecker(prodKeys, conn)\n",
    "print(\"The program is done!\")\n",
    "\n",
    "# export all datasets which take too long to a text file for further investigation\n",
    "textFile = open(\"../HAPI_TakeTooLong3.txt\", \"w\")\n",
    "for line in lines:\n",
    "    textFile.write(line)\n",
    "    textFile.write(\"\\n\")\n",
    "textFile.close()"
   ]
  },
  {
   "cell_type": "code",
   "execution_count": null,
   "id": "0f21b7de-c3c1-4cf6-8c8c-2c63856cf5f0",
   "metadata": {},
   "outputs": [],
   "source": [
    "# call .py file directly from notebook\n",
    "#%run ./HAPICheck.py > ../DatalinkCheckOutput.txt"
   ]
  },
  {
   "cell_type": "code",
   "execution_count": null,
   "id": "63cc98df-cf9a-4fe1-83bc-0e960596bcd8",
   "metadata": {},
   "outputs": [],
   "source": [
    "# clear .txt file or use another file instead\n",
    "#textFile = open(\"../HAPI_TakeTooLong2.txt\", \"w\")\n",
    "#textFile.close()"
   ]
  }
 ],
 "metadata": {
  "kernelspec": {
   "display_name": "Python 3 (ipykernel)",
   "language": "python",
   "name": "python3"
  },
  "language_info": {
   "codemirror_mode": {
    "name": "ipython",
    "version": 3
   },
   "file_extension": ".py",
   "mimetype": "text/x-python",
   "name": "python",
   "nbconvert_exporter": "python",
   "pygments_lexer": "ipython3",
   "version": "3.10.8"
  }
 },
 "nbformat": 4,
 "nbformat_minor": 5
}
