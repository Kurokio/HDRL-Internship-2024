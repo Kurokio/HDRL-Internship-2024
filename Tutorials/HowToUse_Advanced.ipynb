{
 "cells": [
  {
   "cell_type": "markdown",
   "id": "14b97238-028e-46d6-9bed-61011be2306e",
   "metadata": {
    "tags": []
   },
   "source": [
    "# SPASE Record Analysis - How to Use (Advanced)\n",
    "Author: Zach Boquet\n",
    "\n",
    "## Introduction \n",
    "For documentation on how to add to this project, view the related notebook named \"HowToAdd.ipynb\" <br>\n",
    "<br>\n",
    "This project provides a method to analyze FAIR for the SPASE records in the NumericalData and DisplayData categories.<br>\n",
    "\n",
    "This notebook shows you how to convert desired SPASE record fields into a SQLite database. The desired fields correspond to metadata extracted from XML files using ElementTree. Also shown is how to query data from that database. <br> \n",
    "- The tutorial I used to implement ElementTree is <a href=\"https://realpython.com/python-xml-parser/\" target=\"_blank\">https://realpython.com/python-xml-parser/</a>. \n",
    "- If more context is needed for the SQLite code than is provided by the comments, I recommend visiting <a href=\"https://www.sqlitetutorial.net/\" target=\"_blank\">https://www.sqlitetutorial.net/</a>.<br>\n",
    "\n",
    "*Note that this code was extensively tested on the NASA SPASE Github repo. However, results are not guaranteed when running on other SPASE Github repos. This code was tested in Summer 2024 on SPASE version 2.6.1*\n",
    "\n",
    "This program takes ~3.88 minutes (233 seconds) to fully run from scratch on over 3000 records.\n",
    "\n",
    "This program takes ~1.28 minutes (77 seconds) to update over 3000 records if using built-in database.\n",
    "\n",
    "You can also run the program using older database files found in the repo history. Simply change the name of the parameter to the create_sqlite_database function in the first cell to the name of the .db file you wish to use."
   ]
  },
  {
   "cell_type": "code",
   "execution_count": null,
   "id": "8c3c6d58-59ab-4a08-84b1-85648340cf2f",
   "metadata": {},
   "outputs": [],
   "source": [
    "# clone NASA SPASE Github Repo into the directory above this tutorial.\n",
    "! git clone -b master --single-branch --depth=1 https://github.com/hpde/NASA ../../NASA"
   ]
  },
  {
   "cell_type": "code",
   "execution_count": null,
   "id": "4702e847-0a33-4bca-b5d1-b3be21a93da4",
   "metadata": {},
   "outputs": [],
   "source": [
    "# show your current directory\n",
    "! pwd"
   ]
  },
  {
   "cell_type": "markdown",
   "id": "04f44405-34d0-4dd1-bd05-ecb6c888217a",
   "metadata": {
    "tags": []
   },
   "source": [
    "## Scraping the SPASE records and populating our tables\n",
    "\n",
    "This code block performs the following: <br>\n",
    "\n",
    "- takes the absolute path of a SPASE directory they wish to be scraped as an argument<br>\n",
    "- finds all desired metadata <br>\n",
    "- creates all needed tables <br>\n",
    "- adds an entry for each record found into the MetadataEntries table. <br>\n",
    "- stores the locations of where each metadata field is found in the MetadataSources table <br>\n",
    "- adds entries into the Records table with general info and info needed for database maintenance.<br>\n",
    "- populate the TestResults table with default values. <br>\n",
    "- update the columns associated with a given analysis test (i.e records that have authors -> has_author column) to have a 'True' value of 1.<br>\n",
    "<br>\n",
    "\n",
    "If you want a full printout of everything being done, pass True as the printFlag argument to Create.<br>\n",
    "\n",
    "Examples are also found as comments at the bottom of the code block to test smaller, yet complex directories.<br>\n",
    "Note: This code was designed to work for the NumericalData and DisplayData directories, so inputting directories besides those two may cause logical errors and produce unintended results."
   ]
  },
  {
   "cell_type": "markdown",
   "id": "38f27f6d-a007-47be-b251-28cf00e6537e",
   "metadata": {
    "tags": []
   },
   "source": [
    "### Starting from an Existing Database\n",
    "A pre-built database is included in this repository. You can use this database as a starting point if you would like to see how the project updates the tables.\n",
    "\n",
    "If you wish to start completely from scratch, skip this section and refer to the next section.\n",
    "\n",
    "*Note that running the project from the built-in database is much faster than creating your own from scratch*"
   ]
  },
  {
   "cell_type": "code",
   "execution_count": null,
   "id": "7afe9c07-cfca-4690-a0a1-a1b9dadff490",
   "metadata": {},
   "outputs": [],
   "source": [
    "from Scripts import create_sqlite_database\n",
    "\n",
    "help(create_sqlite_database)"
   ]
  },
  {
   "cell_type": "code",
   "execution_count": null,
   "id": "cb2b6fc1-0dbe-48e3-b467-1e6340ad937c",
   "metadata": {},
   "outputs": [],
   "source": [
    "# input abs path of database file you wish to load from, located one directory above this notebook\n",
    "#conn = create_sqlite_database(\"../SPASE_Data_20240716.db\")"
   ]
  },
  {
   "cell_type": "markdown",
   "id": "47628fbe-514c-4b09-b440-6854627f95bf",
   "metadata": {
    "tags": []
   },
   "source": [
    "### Creating or Updating a Database\n",
    "If updating the built-in database, skip the first cell which overrides the conn variable and run the other cells. Otherwise, if you wish to start completely from scratch, run all cells."
   ]
  },
  {
   "cell_type": "markdown",
   "id": "c6b5afcb-3a23-4233-90f4-f18a9af828b3",
   "metadata": {
    "tags": []
   },
   "source": [
    "#### Example directories\n",
    " \n",
    "Overall paths (>3000 records): \"../../NASA/NumericalData\" and \"../../NASA/DisplayData\"  \n",
    "Smaller subdirectory = \"../../NASA/NumericalData/DE2\"   \n",
    "Bigger subdirectory = \"../../NASA/NumericalData/ACE\"  \n",
    "Complex author examples: \"../../NASA/NumericalData/Cassini/MAG/PT60S.xml\" and \"../../NASA/NumericalData/ACE/Attitude/Definitive/PT1H.xml\"  \n",
    "Complex URL example: \"../../NASA/NumericalData/ACE/CRIS/L2/P1D.xml\"  \n",
    "#### Code"
   ]
  },
  {
   "cell_type": "code",
   "execution_count": null,
   "id": "b33c6fd8-ad10-461b-869e-26cd11c0c70d",
   "metadata": {},
   "outputs": [],
   "source": [
    "#from Scripts import create_sqlite_database\n",
    "\n",
    "# if you wish to start a fresh db file from scratch\n",
    "conn = create_sqlite_database(\"../SPASE_Data_new.db\")"
   ]
  },
  {
   "cell_type": "code",
   "execution_count": null,
   "id": "691b2e6e-90f0-4f9f-b480-0829c14bda88",
   "metadata": {},
   "outputs": [],
   "source": [
    "# import main Python function\n",
    "from Scripts import Create\n",
    "\n",
    "help(Create)"
   ]
  },
  {
   "cell_type": "code",
   "execution_count": null,
   "id": "955c5ce3-ebd2-4fa1-91d7-51e650ae3998",
   "metadata": {},
   "outputs": [],
   "source": [
    "# This block updates current records from the indicated directories in the MetadataEntries table\n",
    "# This step can take a while if you start with a new database file.\n",
    "# Starting with an existing database file significantly speeds this up.\n",
    "Create('../../NASA/NumericalData', conn)\n",
    "Create('../../NASA/DisplayData', conn)"
   ]
  },
  {
   "cell_type": "markdown",
   "id": "5e8cc385-88e4-4b8e-9e0b-e3e5fbb1fff8",
   "metadata": {},
   "source": [
    "These few lines simply connect to a new database file and update the database using the SPASE records in the desired directory."
   ]
  },
  {
   "cell_type": "markdown",
   "id": "2b967ad5-4480-4d84-a84c-8b3c577d0043",
   "metadata": {
    "tags": []
   },
   "source": [
    "## Executing Analysis Tests and Viewing the Results \n",
    "In this code block, we perform calls to the View function in main to get the Counts and ID's of the SPASE records that pass each analysis test. \n",
    "These analysis tests include links that have: <br> \n",
    "\n",
    "- authors <br>\n",
    "- publishers <br>\n",
    "- publication years <br>\n",
    "- dataset names <br>\n",
    "- licenses <br>\n",
    "- URLs <br>\n",
    "- NASA URLs <br>\n",
    "- persistent identifiers <br>\n",
    "- descriptions <br>\n",
    "- citation info <br>\n",
    "- DCAT-3 compliance info.<br>"
   ]
  },
  {
   "cell_type": "markdown",
   "id": "6a163d32-527c-4483-8e4a-4ebacf078d64",
   "metadata": {
    "tags": []
   },
   "source": [
    "### Executing the Analysis Tests"
   ]
  },
  {
   "cell_type": "code",
   "execution_count": null,
   "id": "dfcba25b-6e97-4d39-863c-86b95864b06d",
   "metadata": {},
   "outputs": [],
   "source": [
    "# this function returns all records that pass associated tests \n",
    "# and prints the counts of those that pass the test specified in the argument\n",
    "from Scripts import View\n",
    "\n",
    "help(View)"
   ]
  },
  {
   "cell_type": "code",
   "execution_count": null,
   "id": "d337c080-d546-4d51-966e-02a985a25cbf",
   "metadata": {},
   "outputs": [],
   "source": [
    "# example that returns values for one test\n",
    "records = View(conn, desired = ['Citation'])"
   ]
  },
  {
   "cell_type": "code",
   "execution_count": null,
   "id": "5afdc7b3-c286-426e-afc4-fd85fa073c9a",
   "metadata": {},
   "outputs": [],
   "source": [
    "# example that returns values for 4 tests, one of which doesn't match\n",
    "records = View(conn, desired = ['Author', 'Publisher', 'NASA URL', 'Compliance'])"
   ]
  },
  {
   "cell_type": "code",
   "execution_count": null,
   "id": "e1902815-fb66-448b-8dcd-03ab343aa597",
   "metadata": {},
   "outputs": [],
   "source": [
    "# example that returns values for all tests\n",
    "records = View(conn)"
   ]
  },
  {
   "cell_type": "markdown",
   "id": "4f04e154-2b5c-477a-9f92-c9168aaba7ee",
   "metadata": {
    "tags": []
   },
   "source": [
    "### Plotting the Analysis Results"
   ]
  },
  {
   "cell_type": "code",
   "execution_count": null,
   "id": "cbe70b01-7ec0-4ab0-8911-2cb56f12841e",
   "metadata": {},
   "outputs": [],
   "source": [
    "# This function creates a bar chart for the metadata fields checked.\n",
    "from Scripts import MetadataBarChart\n",
    "\n",
    "help(MetadataBarChart)"
   ]
  },
  {
   "cell_type": "code",
   "execution_count": null,
   "id": "531ba4c6-ba94-40ee-8072-21250d969662",
   "metadata": {},
   "outputs": [],
   "source": [
    "# Plotting the bar chart for all records \n",
    "fig = MetadataBarChart(conn)"
   ]
  },
  {
   "cell_type": "code",
   "execution_count": null,
   "id": "a6e65859-4044-4cfd-acda-c14fe9e0396b",
   "metadata": {},
   "outputs": [],
   "source": [
    "# Plotting the percent version of the same bar chart\n",
    "fig = MetadataBarChart(conn, percent = True)"
   ]
  },
  {
   "cell_type": "code",
   "execution_count": null,
   "id": "372c5f54-d984-4a05-a85e-dc200b701748",
   "metadata": {},
   "outputs": [],
   "source": [
    "# Plotting the bar chart for only records with a NASA URL\n",
    "fig = MetadataBarChart(conn, All = False)"
   ]
  },
  {
   "cell_type": "code",
   "execution_count": null,
   "id": "4ed1c835-cf56-4785-a40e-d230a969da5e",
   "metadata": {},
   "outputs": [],
   "source": [
    "# Plotting the percent version of the same bar chart\n",
    "fig = MetadataBarChart(conn, percent = True, All = False)"
   ]
  },
  {
   "cell_type": "markdown",
   "id": "f4ab7b6d-c51f-43d6-8aa8-4bafa6d361e6",
   "metadata": {
    "tags": []
   },
   "source": [
    "## Calculating and plotting the FAIR Score Distributions\n",
    "This code overwrites the default values placed in the TestResults table to have the actual FAIR Scores that are calculated according to the following algorithm:<br>\n",
    "\n",
    "- +1 for author\n",
    "- +1 for dataset name\n",
    "- +1 for publication year\n",
    "- +1 for publisher\n",
    "- +1 for all citation info\n",
    "- +1 for description\n",
    "- +1 for PID\n",
    "- +1 for DCAT3-US compliance\n",
    "- +1 for license\n",
    "- +1 for NASA URL <br>\n",
    "======================= <br>\n",
    "- Total Possible Points of 10\n",
    "\n",
    "*Note that this alogrithm is expected to change*\n",
    "\n",
    "If interested in viewing the FAIR Score for a particular record, refer to the column-specific queries section further below.  "
   ]
  },
  {
   "cell_type": "markdown",
   "id": "37229740-2e74-4921-959b-55baeab66576",
   "metadata": {
    "tags": []
   },
   "source": [
    "### Calculating the FAIR Scores\n",
    "These code blocks will be much faster if simply updating the already populated database. Otherwise, it will take longer."
   ]
  },
  {
   "cell_type": "code",
   "execution_count": null,
   "id": "98028700-6736-4112-80f9-02ceae5ecf95",
   "metadata": {},
   "outputs": [],
   "source": [
    "from Scripts import FAIRScorer\n",
    "\n",
    "help(FAIRScorer)"
   ]
  },
  {
   "cell_type": "code",
   "execution_count": null,
   "id": "e5772bf2-3f6a-4911-b157-d8f3050f82b4",
   "metadata": {},
   "outputs": [],
   "source": [
    "# calculate FAIR scores for all records\n",
    "FAIRScorer(conn)"
   ]
  },
  {
   "cell_type": "markdown",
   "id": "dc710e46-644e-4885-9fe6-925d6458a947",
   "metadata": {
    "tags": []
   },
   "source": [
    "### Plotting the FAIR Score Distributions"
   ]
  },
  {
   "cell_type": "code",
   "execution_count": null,
   "id": "6f32a1d2-e34b-43e3-8f6f-5b4b1b682416",
   "metadata": {},
   "outputs": [],
   "source": [
    "from Scripts import FAIR_Chart\n",
    "\n",
    "help(FAIR_Chart)"
   ]
  },
  {
   "cell_type": "code",
   "execution_count": null,
   "id": "a7b68e42-ef14-4d40-ba1d-c9b8599caa16",
   "metadata": {},
   "outputs": [],
   "source": [
    "# for all records\n",
    "fig = FAIR_Chart(conn)"
   ]
  },
  {
   "cell_type": "code",
   "execution_count": null,
   "id": "4318c74b-fb5a-43db-9dae-6e1d820b5975",
   "metadata": {},
   "outputs": [],
   "source": [
    "# only for records with NASA URLs\n",
    "fig = FAIR_Chart(conn, All = False)"
   ]
  },
  {
   "cell_type": "markdown",
   "id": "88a7cc95-2b0e-47b3-8e0a-3c1726b4da0e",
   "metadata": {
    "tags": []
   },
   "source": [
    "## How to do your own queries \n",
    "This section gives complex examples of how to query the database for row specific and column specific queries. Also provided are brief explanations of some of the SQLite syntax and also an example of a complex query for both categories. <br>\n",
    "\n",
    "If more context is needed for the SQLite code than is provided by the comments, I recommend visiting <a href=\"https://www.sqlitetutorial.net/\" target=\"_blank\">https://www.sqlitetutorial.net/</a>.<br>\n",
    "\n",
    "*Disclaimer: Not all authors are provided, as checks were only done to find if an allowed author exists.* \n",
    "<br>\n",
    "**Also note that when a SPASE record has multiple product keys for one URL or multiple URLs in general, each URL/product key gets their own entry into the table. This is why there may be 'duplicate entries' in the database.**"
   ]
  },
  {
   "cell_type": "markdown",
   "id": "8cc4bbc5-eb07-4e41-98b9-5b395af415e6",
   "metadata": {
    "tags": []
   },
   "source": [
    "### Record Specific Queries\n",
    "\n",
    "This section gives a more complex example of how to get data with queries based on records/rows."
   ]
  },
  {
   "cell_type": "code",
   "execution_count": null,
   "id": "c9249579-fe96-46db-bc45-3ca608692362",
   "metadata": {},
   "outputs": [],
   "source": [
    "from Scripts import execution\n",
    "\n",
    "help(execution)"
   ]
  },
  {
   "cell_type": "markdown",
   "id": "8ec185c6-5b29-4f03-a267-f8f055228be0",
   "metadata": {},
   "source": [
    "> Complex example: Selecting multiple items from multiple tables by using the ResourceID\n",
    "\n",
    "> - Notice we use commas for multiple items and INNER JOINS when it is over multiple tables."
   ]
  },
  {
   "cell_type": "code",
   "execution_count": null,
   "id": "ed344082-68db-4362-918d-c613d6ac1934",
   "metadata": {},
   "outputs": [],
   "source": [
    "ID = \"spase://NASA/NumericalData/Interball-2/IMAP3/PT120S\"\n",
    "rows = execution(f\"\"\" SELECT author, MetadataSources.author_source, Records.SPASE_URL \n",
    "            FROM MetadataEntries\n",
    "                INNER JOIN MetadataSources USING (SPASE_id)\n",
    "                INNER JOIN Records USING (SPASE_id)\n",
    "            WHERE SPASE_id = '{ID}';\"\"\", conn, \"multiple\")\n",
    "rows[0]"
   ]
  },
  {
   "cell_type": "markdown",
   "id": "4c2e97a5-58ee-4093-b3c0-49ea4e6e9108",
   "metadata": {
    "tags": []
   },
   "source": [
    "### Column Specific Queries\n",
    "This section describes how to get data with queries based on the column values."
   ]
  },
  {
   "cell_type": "markdown",
   "id": "bbfa5aaa-64a6-4c70-8ee2-f83f8a987e6a",
   "metadata": {},
   "source": [
    "> Ex: How many records have 3 out of 4 fields needed for citation?\n",
    "> - Use AND and OR operators just like in programming languages."
   ]
  },
  {
   "cell_type": "code",
   "execution_count": null,
   "id": "9676210d-b509-40c7-bcd7-ed464c7db272",
   "metadata": {},
   "outputs": [],
   "source": [
    "stmt = \"\"\"SELECT COUNT(DISTINCT SPASE_id) FROM TestResults \n",
    "                WHERE (has_author = 1 \n",
    "                AND has_datasetName = 1\n",
    "                AND has_pubYr = 1)\n",
    "                OR (has_author = 1 \n",
    "                AND has_datasetName = 1\n",
    "                AND has_pub = 1)\n",
    "                OR (has_author = 1 \n",
    "                AND has_pub = 1\n",
    "                AND has_pubYr = 1)\n",
    "                OR (has_datasetName = 1 \n",
    "                AND has_pub = 1\n",
    "                AND has_pubYr = 1)\"\"\"\n",
    "items = execution(stmt, conn)\n",
    "items"
   ]
  },
  {
   "cell_type": "markdown",
   "id": "ee75dbf8-d01a-4c18-b7f6-2e86dd677e81",
   "metadata": {},
   "source": [
    "> Complex Ex: What records have at least 2 of the desired fields?\n",
    "> - Notice we use f-strings to concatenate strings instead of retyping text.\n",
    "\n",
    "> *Note that you can find more complex SQLite queries such as AL1Stmt, AL3Stmt, and allStmt in the RecordGrabber.py script. Also found here is work for having queries specific to publishers*"
   ]
  },
  {
   "cell_type": "code",
   "execution_count": null,
   "id": "870b7d84-84f3-482f-bfb7-4efb33080240",
   "metadata": {},
   "outputs": [],
   "source": [
    "has_citation = \"\"\"author NOT LIKE \"\"\n",
    "                    AND datasetName NOT LIKE \"\"\n",
    "                    AND publicationYr NOT LIKE \"\"\n",
    "                    AND publisher NOT LIKE \"\" \"\"\"\n",
    "citationStmt = f\"\"\"SELECT DISTINCT SPASE_id FROM MetadataEntries \n",
    "                WHERE {has_citation};\"\"\"\n",
    "has_compliance = \"\"\" description NOT LIKE \"\"\n",
    "                AND datasetName NOT LIKE \"\"\n",
    "                AND PID NOT LIKE \"\" \"\"\"\n",
    "complianceStmt = f\"\"\"SELECT DISTINCT SPASE_id FROM MetadataEntries \n",
    "                WHERE {has_compliance};\"\"\"\n",
    "\n",
    "# at least 2 fields\n",
    "AL2Stmt = f\"\"\"SELECT DISTINCT SPASE_id FROM MetadataEntries \n",
    "                WHERE ({has_citation}\n",
    "                AND\n",
    "                    {has_compliance}) \n",
    "                OR\n",
    "                    ({has_citation}\n",
    "                AND\n",
    "                    PID NOT LIKE \"\")\n",
    "                OR\n",
    "                    ({has_citation}\n",
    "                AND\n",
    "                    license LIKE \"%cc0%\" OR license LIKE \"%Creative Commons Zero v1.0 Universal%\")\n",
    "                OR\n",
    "                    ({has_compliance}\n",
    "                AND\n",
    "                    license LIKE \"%cc0%\" OR license LIKE \"%Creative Commons Zero v1.0 Universal%\")\n",
    "                OR\n",
    "                    ({has_compliance}\n",
    "                AND \n",
    "                    PID NOT LIKE \"\")\n",
    "                OR  \n",
    "                    (PID NOT LIKE \"\"\n",
    "                AND\n",
    "                    license LIKE \"%cc0%\" OR license LIKE \"%Creative Commons Zero v1.0 Universal%\") LIMIT 10;\"\"\"\n",
    "\n",
    "items = execution(AL2Stmt, conn)\n",
    "items"
   ]
  },
  {
   "cell_type": "markdown",
   "id": "7d0fe974-7a88-4c16-b1ac-0dbe75165c70",
   "metadata": {
    "tags": []
   },
   "source": [
    "## How to Backup Database\n",
    "This code generates a backup copy of the live database into a file specified by the filename variable.\n",
    "\n",
    "*Note that this cannot be run if there is a pending SQL statement or open transaction running.*"
   ]
  },
  {
   "cell_type": "code",
   "execution_count": null,
   "id": "7be84c05-e149-4e25-9f46-febe78bd2ecf",
   "metadata": {},
   "outputs": [],
   "source": [
    "from Scripts import executionALL\n",
    "\n",
    "help(executionALL)"
   ]
  },
  {
   "cell_type": "code",
   "execution_count": null,
   "id": "9b08c48a-a158-4fba-9c31-5d2b72122775",
   "metadata": {},
   "outputs": [],
   "source": [
    "filename = \"../SPASE_Data_new_backup.db\"\n",
    "stmt = f\"VACUUM main INTO '{filename}'\"\n",
    "executionALL(stmt, conn)"
   ]
  }
 ],
 "metadata": {
  "kernelspec": {
   "display_name": "Python 3 (ipykernel)",
   "language": "python",
   "name": "python3"
  },
  "language_info": {
   "codemirror_mode": {
    "name": "ipython",
    "version": 3
   },
   "file_extension": ".py",
   "mimetype": "text/x-python",
   "name": "python",
   "nbconvert_exporter": "python",
   "pygments_lexer": "ipython3",
   "version": "3.10.8"
  }
 },
 "nbformat": 4,
 "nbformat_minor": 5
}
