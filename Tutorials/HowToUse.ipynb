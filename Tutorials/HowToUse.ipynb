{
 "cells": [
  {
   "cell_type": "markdown",
   "id": "14b97238-028e-46d6-9bed-61011be2306e",
   "metadata": {
    "tags": []
   },
   "source": [
    "# SPASE Record Analysis - How to Use \n",
    "Author: Zach Boquet\n",
    "\n",
    "## Introduction \n",
    "For documentation on how to add to this project, view the related notebook named \"HowToAdd.ipynb\" <br>\n",
    "<br>\n",
    "This project provides a method to analyze FAIR for the SPASE records in the NumericalData and DisplayData categories.<br>\n",
    "\n",
    "This notebook shows you how to convert desired SPASE record fields into a SQLite database. The desired fields correspond to metadata extracted from XML files using ElementTree. Also shown is how to query data from that database. <br> \n",
    "- The tutorial I used to implement ElementTree is <a href=\"https://realpython.com/python-xml-parser/\" target=\"_blank\">https://realpython.com/python-xml-parser/</a>. \n",
    "- If more context is needed for the SQLite code than is provided by the comments, I recommend visiting <a href=\"https://www.sqlitetutorial.net/\" target=\"_blank\">https://www.sqlitetutorial.net/</a>.<br>\n",
    "\n",
    "*Note that this code was extensively tested on the NASA SPASE Github repo. However, results are not guaranteed when running on other SPASE Github repos. This code was tested in Summer 2024 on SPASE version 2.6.1*\n",
    "\n",
    "This program takes ~3.88 minutes (233 seconds) to fully run from scratch on over 3000 records.\n",
    "\n",
    "You can also run the program using older database files found in the repo history. Simply change the name of the parameter to the create_sqlite_database function in the first cell to the name of the .db file you wish to use."
   ]
  },
  {
   "cell_type": "markdown",
   "id": "ba2ddd2c-d95f-43b3-b64f-e610cb3c99f0",
   "metadata": {
    "jp-MarkdownHeadingCollapsed": true,
    "tags": []
   },
   "source": [
    "## Installation\n",
    "First, make sure these scripts are installed. Please see the readme file for instructions. Then, clone the NASA SPASE Github Repository <a href=\"https://github.com/hpde/NASA/tree/master\" target=\"_blank\">https://github.com/hpde/NASA/tree/master</a> by executing the following code. Lastly, make sure you have the necessary packages and Python scripts imported below, which can be found in the same repo you found this notebook, linked again here: <a href=\"https://github.com/Kurokio/HDRL-Internship-2024\" target=\"_blank\">https://github.com/Kurokio/HDRL-Internship-2024</a>."
   ]
  },
  {
   "cell_type": "code",
   "execution_count": null,
   "id": "8c3c6d58-59ab-4a08-84b1-85648340cf2f",
   "metadata": {},
   "outputs": [],
   "source": [
    "# clone NASA SPASE Github Repo into the directory above this tutorial.\n",
    "! git clone -b master --single-branch --depth=1 https://github.com/hpde/NASA ../../NASA"
   ]
  },
  {
   "cell_type": "code",
   "execution_count": null,
   "id": "4702e847-0a33-4bca-b5d1-b3be21a93da4",
   "metadata": {},
   "outputs": [],
   "source": [
    "# show your current directory\n",
    "! pwd"
   ]
  },
  {
   "cell_type": "markdown",
   "id": "04f44405-34d0-4dd1-bd05-ecb6c888217a",
   "metadata": {
    "tags": []
   },
   "source": [
    "## Scraping the SPASE records and populating our tables\n",
    "\n",
    "This code block performs the following: <br>\n",
    "\n",
    "- takes the absolute path of a SPASE directory they wish to be scraped as an argument<br>\n",
    "- finds all desired metadata <br>\n",
    "- creates all needed tables <br>\n",
    "- adds an entry for each record found into the MetadataEntries table. <br>\n",
    "- stores the locations of where each metadata field is found in the MetadataSources table <br>\n",
    "- adds entries into the Records table with general info and info needed for database maintenance.<br>\n",
    "- populate the TestResults table with default values. <br>\n",
    "- update the columns associated with a given analysis test (i.e records that have authors -> has_author column) to have a 'True' value of 1.<br>\n",
    "<br>\n",
    "\n",
    "If you want a full printout of everything being done, pass True as the printFlag argument to Create.<br>\n",
    "\n",
    "Examples are also found as comments at the bottom of the code block to test smaller, yet complex directories.<br>\n",
    "Note: This code was designed to work for the NumericalData and DisplayData directories, so inputting directories besides those two may cause logical errors and produce unintended results."
   ]
  },
  {
   "cell_type": "markdown",
   "id": "38f27f6d-a007-47be-b251-28cf00e6537e",
   "metadata": {
    "tags": []
   },
   "source": [
    "### Starting from an Existing Database\n",
    "A pre-built database is included in this repository. You can use this database as a starting point."
   ]
  },
  {
   "cell_type": "code",
   "execution_count": 2,
   "id": "7afe9c07-cfca-4690-a0a1-a1b9dadff490",
   "metadata": {},
   "outputs": [
    {
     "name": "stdout",
     "output_type": "stream",
     "text": [
      "Help on function create_sqlite_database in module Scripts.SQLiteFun:\n",
      "\n",
      "create_sqlite_database(filename)\n",
      "    Creates a database connection to a new or existing SQLite database with\n",
      "    the name provided. If the database already exists, it returns\n",
      "    a connection object. This also tells you any errors that may occur.\n",
      "    \n",
      "    :param filename: String that contains the desired name of the database\n",
      "    :type filename: String\n",
      "    :return: Connection object\n",
      "\n"
     ]
    }
   ],
   "source": [
    "from Scripts import create_sqlite_database\n",
    "\n",
    "help(create_sqlite_database)"
   ]
  },
  {
   "cell_type": "code",
   "execution_count": 3,
   "id": "cb2b6fc1-0dbe-48e3-b467-1e6340ad937c",
   "metadata": {},
   "outputs": [],
   "source": [
    "# input abs path of database file you wish to load from, located one directory above this notebook\n",
    "conn = create_sqlite_database(\"../SPASE_Data_20240716.db\")"
   ]
  },
  {
   "cell_type": "markdown",
   "id": "47628fbe-514c-4b09-b440-6854627f95bf",
   "metadata": {
    "tags": []
   },
   "source": [
    "### Creating or Updating a Database\n",
    "Use the next two blocks if you wish to update the database using the current version of the chosen SPASE repository. Otherwise, skip to the next section."
   ]
  },
  {
   "cell_type": "markdown",
   "id": "c6b5afcb-3a23-4233-90f4-f18a9af828b3",
   "metadata": {
    "tags": []
   },
   "source": [
    "#### Example directories\n",
    " \n",
    "Overall paths (>3000 records): \"../../NASA/NumericalData\" and \"../../NASA/DisplayData\"  \n",
    "Smaller subdirectory = \"../../NASA/NumericalData/DE2\"   \n",
    "Bigger subdirectory = \"../../NASA/NumericalData/ACE\"  \n",
    "Complex author examples: \"../../NASA/NumericalData/Cassini/MAG/PT60S.xml\" and \"../../NASA/NumericalData/ACE/Attitude/Definitive/PT1H.xml\"  \n",
    "Complex URL example: \"../../NASA/NumericalData/ACE/CRIS/L2/P1D.xml\"  \n",
    "#### Code"
   ]
  },
  {
   "cell_type": "code",
   "execution_count": 1,
   "id": "691b2e6e-90f0-4f9f-b480-0829c14bda88",
   "metadata": {},
   "outputs": [
    {
     "name": "stdout",
     "output_type": "stream",
     "text": [
      "Help on function Create in module Scripts.main:\n",
      "\n",
      "Create(folder, conn, printFlag=False)\n",
      "    Scrapes all records that are found in the directory given\n",
      "    for the desired metadata. Creates the MetadataEntries,\n",
      "    MetadataSources, Records, and TestResults tables and populates\n",
      "    them using the data scraped for each record. Populates the\n",
      "    TestResult table with default values to be overwritten by\n",
      "    the call to the FAIRScorer function in the notebook.\n",
      "    \n",
      "    :param folder: The absolute file path of the SPASE record/directory\n",
      "                        containing the record(s) the user wants scraped.\n",
      "    :type folder: String\n",
      "    :param conn: A connection to the desired database\n",
      "    :type conn: Connection object\n",
      "    :param printFlag: A boolean determining if the user wants to print\n",
      "                        more details of what the function is doing.\n",
      "    :type printFlag: Boolean\n",
      "    :return: None\n",
      "\n"
     ]
    }
   ],
   "source": [
    "# import main Python function\n",
    "from Scripts import Create\n",
    "from Scripts import create_sqlite_database\n",
    "\n",
    "# connect to the desired database file\n",
    "conn = create_sqlite_database(\"../SPASE_Data_new.db\")\n",
    "help(Create)"
   ]
  },
  {
   "cell_type": "code",
   "execution_count": 4,
   "id": "955c5ce3-ebd2-4fa1-91d7-51e650ae3998",
   "metadata": {},
   "outputs": [
    {
     "name": "stdout",
     "output_type": "stream",
     "text": [
      "You entered ../../NASA/NumericalData/ACE\n",
      "Discovering SPASE records....\n",
      "The number of records is 163\n",
      "\u001b[KMetadata extraction complete.                        \n",
      "\u001b[KTestResult entries completed\n",
      "\u001b[KMetadata successfully stored in the SQL tables.\n"
     ]
    }
   ],
   "source": [
    "# This block updates current records from the indicated directories in the MetadataEntries table\n",
    "# This step can take a while if you start with a new database file.\n",
    "# Starting with an existing database file significantly speeds this up.\n",
    "Create('../../NASA/NumericalData/ACE', conn)"
   ]
  },
  {
   "cell_type": "markdown",
   "id": "5e8cc385-88e4-4b8e-9e0b-e3e5fbb1fff8",
   "metadata": {},
   "source": [
    "These few lines simply connect to a new database file and update the database using the SPASE records in the desired directory."
   ]
  },
  {
   "cell_type": "markdown",
   "id": "df4865f7-444d-441c-8987-a47846f43064",
   "metadata": {
    "tags": []
   },
   "source": [
    "### Understanding the Database Structure\n",
    "The graphic below shows the contents of the four tables created by this program. The main topic of the tables are in orange, the column contents are in yellow, and notes are in blue. The exact names are shown in the code blocks below.\n"
   ]
  },
  {
   "attachments": {
    "535edf1b-8f72-40d6-aeb2-a0a6942588c1.png": {
     "image/png": "[encoded data removed]"
    }
   },
   "cell_type": "markdown",
   "id": "f5328e5b-22c6-4f63-90f7-0d888f913d37",
   "metadata": {},
   "source": [
    "![MiroScreenshot.png](attachment:535edf1b-8f72-40d6-aeb2-a0a6942588c1.png)"
   ]
  },
  {
   "cell_type": "markdown",
   "id": "c9862b10-f18f-4a81-b55c-4dea2c606b04",
   "metadata": {},
   "source": [
    "This code block shows you all the table names and their column names in the database that was used."
   ]
  },
  {
   "cell_type": "code",
   "execution_count": 15,
   "id": "ec9ff58c-0dc3-4e83-a2b6-aa82379206d5",
   "metadata": {},
   "outputs": [
    {
     "name": "stdout",
     "output_type": "stream",
     "text": [
      "Help on function databaseInfo in module Scripts.SQLiteFun:\n",
      "\n",
      "databaseInfo(conn, print_flag=True)\n",
      "    Prints all table names and all the names of their associated columns\n",
      "    \n",
      "    :param conn: A connection to the desired database\n",
      "    :type conn: Connection object\n",
      "    :return: dictionary with table names as keys and column names as values\n",
      "\n"
     ]
    }
   ],
   "source": [
    "from Scripts import databaseInfo\n",
    "\n",
    "help(databaseInfo)"
   ]
  },
  {
   "cell_type": "code",
   "execution_count": 16,
   "id": "4d0de1c7-2ce5-4848-846b-030e704ff1fb",
   "metadata": {},
   "outputs": [
    {
     "name": "stdout",
     "output_type": "stream",
     "text": [
      "The table MetadataEntries has columns:\n",
      "['rowNum', 'SPASE_id', 'author', 'authorRole', 'publisher', 'publicationYr', 'datasetName', 'license', 'URL', 'prodKey', 'description', 'PID']\n",
      "\n",
      "The table MetadataSources has columns:\n",
      "['rowNum', 'SPASE_id', 'author_source', 'publisher_source', 'publication_yr_source', 'datasetName_source', 'license_source', 'datalink_source', 'description_source', 'PID_source']\n",
      "\n",
      "The table TestResults has columns:\n",
      "['rowNum', 'SPASE_id', 'FAIR_Score', 'FAIR_ScoreDate', 'MostRecent', 'has_author', 'has_pub', 'has_pubYr', 'has_datasetName', 'has_license', 'has_url', 'has_NASAurl', 'has_PID', 'has_desc', 'has_citation', 'has_compliance', 'Errors']\n",
      "\n",
      "The table Records has columns:\n",
      "['rowNum', 'SPASE_id', 'SPASE_Version', 'LastModified', 'SPASE_URL']\n",
      "\n"
     ]
    }
   ],
   "source": [
    "name_dict = databaseInfo(conn)"
   ]
  },
  {
   "cell_type": "markdown",
   "id": "2b967ad5-4480-4d84-a84c-8b3c577d0043",
   "metadata": {
    "tags": []
   },
   "source": [
    "## Executing Analysis Tests and Viewing the Results \n",
    "In this code block, we perform calls to the QueryPrinter script to get the Counts and/or ID's of the SPASE records that pass each analysis test. \n",
    "These analysis tests include links that have: <br> \n",
    "\n",
    "- authors <br>\n",
    "- publishers <br>\n",
    "- publication years <br>\n",
    "- dataset names <br>\n",
    "- licenses <br>\n",
    "- URLs <br>\n",
    "- NASA URLs <br>\n",
    "- persistent identifiers <br>\n",
    "- descriptions <br>\n",
    "- citation info <br>\n",
    "- DCAT-3 compliance info.<br>\n",
    "### Executing the Analysis Tests"
   ]
  },
  {
   "cell_type": "code",
   "execution_count": 13,
   "id": "dfcba25b-6e97-4d39-863c-86b95864b06d",
   "metadata": {},
   "outputs": [
    {
     "name": "stdout",
     "output_type": "stream",
     "text": [
      "Help on function View in module Scripts.main:\n",
      "\n",
      "View(conn, All=True, desired=['all', 'Author', 'Publisher', 'Publication Year', 'Dataset Name', 'CC0 License', 'URL', 'NASA URL', 'Persistent Identifier', 'Description', 'Citation', 'DCAT3-US Compliance'], print_flag=True)\n",
      "    Prints the number of records that meet each test criteria\n",
      "    provided as well as return those SPASE_id's to the caller\n",
      "    in the form of a dictionary. The keys are the Strings passed\n",
      "    as parameters and the values are the list of SPASE_id's\n",
      "    that fulfill that test.\n",
      "    \n",
      "    :param conn: A connection to the desired database\n",
      "    :type conn: Connection object\n",
      "    :param All: A boolean determining if the records returned will be from\n",
      "                the set containing all records present in the database or\n",
      "                only those with NASA URLs.\n",
      "    :type All: Boolean\n",
      "    :param desired: A list of Strings which determine the kind of records\n",
      "                    whose counts are printed and whose SPASE_id's are\n",
      "                    assigned to the dictionary returned. The default value\n",
      "                    is all kinds. This list matches the categories in the\n",
      "                    MetadataBarChart function in PlotScripts.py.\n",
      "    :param type: list\n",
      "    :return: A dictionary containing lists of all records that fulfill\n",
      "                certain test criteria as values.\n",
      "    :rtype: dictionary\n",
      "    \n",
      "    Method Calls:\n",
      "    \n",
      "    records = View(conn):\n",
      "    - prints the number of (distinct) records that are present in the\n",
      "        MetdataEntries table\n",
      "    - prints number of records that have authors\n",
      "    - prints number of records that have publishers\n",
      "    - prints number of records that have publication years\n",
      "    - prints number of records that have datasetNames\n",
      "    - prints number of records that have licenses\n",
      "    - prints number of records that have URLs\n",
      "    - prints number of records that have NASA URLs\n",
      "    - prints number of records that have persistent identifiers\n",
      "    - prints number of records that have descriptions\n",
      "    - prints number of records that have citation info\n",
      "    - prints number of records that meet compliance standards.\n",
      "    - returns a dictionary that contains all the SPASE_id's of these\n",
      "        records, separated on their types by keys of the same name\n",
      "    - assign this dictionary to records\n",
      "    \n",
      "    records = View(conn, desired = ['all']):\n",
      "    - prints the number of distinct SPASE records in the\n",
      "        MetadataEntries table\n",
      "    - returns the SPASE_id's of these records in a dictionary\n",
      "        labeled by key of the same name (\"all\")\n",
      "    - assigns the returned dictionary to records.\n",
      "    \n",
      "    records = View(conn, All = False, desired = ['pub', 'PID']):\n",
      "    - prints the number of records that have publishers and\n",
      "        have NASA URLs\n",
      "    - prints the number of records that have persistent identifiers\n",
      "        and NASA URLs.\n",
      "    - returns the SPASE_id's of these records in a dictionary\n",
      "        labeled by keys of the same name (\"pub\" and \"PID\")\n",
      "    - assigns the returned dictionary to records.\n",
      "\n"
     ]
    }
   ],
   "source": [
    "# this function returns all records that pass associated tests \n",
    "# and prints the counts of those that pass the test specified in the argument\n",
    "from Scripts import View\n",
    "\n",
    "help(View)"
   ]
  },
  {
   "cell_type": "code",
   "execution_count": null,
   "id": "d337c080-d546-4d51-966e-02a985a25cbf",
   "metadata": {},
   "outputs": [],
   "source": [
    "# example that returns values for one test\n",
    "records = View(conn, desired = ['Citation'])"
   ]
  },
  {
   "cell_type": "code",
   "execution_count": null,
   "id": "5afdc7b3-c286-426e-afc4-fd85fa073c9a",
   "metadata": {},
   "outputs": [],
   "source": [
    "# example that returns values for 4 tests, one of which doesn't match\n",
    "records = View(conn, desired = ['Author', 'Publisher', 'NASA URL', 'Compliance'])"
   ]
  },
  {
   "cell_type": "code",
   "execution_count": 14,
   "id": "e1902815-fb66-448b-8dcd-03ab343aa597",
   "metadata": {},
   "outputs": [
    {
     "name": "stdout",
     "output_type": "stream",
     "text": [
      "There are 3034 records total.\n",
      "There are 2907 records with an author.\n",
      "There are 3034 records with a publisher.\n",
      "There are 1884 records with a publication year.\n",
      "There are 3034 records with a dataset.\n",
      "There are 0 records with a CC0 license.\n",
      "There are 3034 records with a URL.\n",
      "There are 2254 records with a NASA URL.\n",
      "There are 1863 records with a persistent identifier.\n",
      "There are 3034 records with a description.\n",
      "There are 1884 records with citation info.\n",
      "There are 1863 records that meet DCAT3-US compliance.\n"
     ]
    }
   ],
   "source": [
    "# example that returns values for all tests\n",
    "records = View(conn)"
   ]
  },
  {
   "cell_type": "code",
   "execution_count": 17,
   "id": "29464ed3-1a88-4020-a912-b2ff75df6e99",
   "metadata": {},
   "outputs": [
    {
     "name": "stdout",
     "output_type": "stream",
     "text": [
      "Metadata Name, Number of records, Example record name\n",
      "-----------------------------------------------------\n",
      "all , 3034 , spase://NASA/DisplayData/ACE/MAG/27-Day\n",
      "Author , 2907 , spase://NASA/DisplayData/ACE/MAG/27-Day\n",
      "Publisher , 3034 , spase://NASA/DisplayData/ACE/MAG/27-Day\n",
      "Publication Year , 1884 , spase://NASA/DisplayData/POLAR/VIS/PT300S\n",
      "Dataset Name , 3034 , spase://NASA/DisplayData/ACE/MAG/27-Day\n",
      "CC0 License , 0 , N/A\n",
      "URL , 3034 , spase://NASA/DisplayData/ACE/MAG/27-Day\n",
      "NASA URL , 2254 , spase://NASA/DisplayData/ACE/MAG/27-Day\n",
      "Persistent Identifier , 1863 , spase://NASA/DisplayData/POLAR/VIS/PT300S\n",
      "Description , 3034 , spase://NASA/DisplayData/ACE/MAG/27-Day\n",
      "Citation , 1884 , spase://NASA/DisplayData/POLAR/VIS/PT300S\n",
      "DCAT3-US Compliance , 1863 , spase://NASA/DisplayData/POLAR/VIS/PT300S\n"
     ]
    }
   ],
   "source": [
    "# understanding the structure of the records dictionary returned\n",
    "# The name of the metadata and the number of records with that field are shown below.\n",
    "print(\"Metadata Name, Number of records, Example record name\")\n",
    "print(\"-----------------------------------------------------\")\n",
    "for key in records.keys():\n",
    "    if len(records[key]) > 0:\n",
    "        print(key, ',', len(records[key]), ',', records[key][0])\n",
    "    else:\n",
    "        print(key, ',', len(records[key]), ', N/A')"
   ]
  },
  {
   "cell_type": "markdown",
   "id": "4f04e154-2b5c-477a-9f92-c9168aaba7ee",
   "metadata": {
    "jp-MarkdownHeadingCollapsed": true,
    "tags": []
   },
   "source": [
    "### Plotting the Analysis Results"
   ]
  },
  {
   "cell_type": "code",
   "execution_count": null,
   "id": "cbe70b01-7ec0-4ab0-8911-2cb56f12841e",
   "metadata": {},
   "outputs": [],
   "source": [
    "# This function creates a bar chart for the metadata fields checked.\n",
    "from Scripts import MetadataBarChart\n",
    "\n",
    "help(MetadataBarChart)"
   ]
  },
  {
   "cell_type": "code",
   "execution_count": null,
   "id": "531ba4c6-ba94-40ee-8072-21250d969662",
   "metadata": {},
   "outputs": [],
   "source": [
    "# Plotting the bar chart for all records \n",
    "fig = MetadataBarChart(conn)"
   ]
  },
  {
   "cell_type": "code",
   "execution_count": null,
   "id": "a6e65859-4044-4cfd-acda-c14fe9e0396b",
   "metadata": {},
   "outputs": [],
   "source": [
    "# Plotting the percent version of the same bar chart\n",
    "fig = MetadataBarChart(conn, percent = True)"
   ]
  },
  {
   "cell_type": "code",
   "execution_count": null,
   "id": "372c5f54-d984-4a05-a85e-dc200b701748",
   "metadata": {},
   "outputs": [],
   "source": [
    "# Plotting the bar chart for only records with a NASA URL\n",
    "fig = MetadataBarChart(conn, All = False)"
   ]
  },
  {
   "cell_type": "code",
   "execution_count": null,
   "id": "4ed1c835-cf56-4785-a40e-d230a969da5e",
   "metadata": {},
   "outputs": [],
   "source": [
    "# Plotting the percent version of the same bar chart\n",
    "fig = MetadataBarChart(conn, percent = True, All = False)"
   ]
  },
  {
   "cell_type": "markdown",
   "id": "f4ab7b6d-c51f-43d6-8aa8-4bafa6d361e6",
   "metadata": {
    "tags": []
   },
   "source": [
    "## Calculating and plotting the FAIR Score Distributions\n",
    "This code overwrites the default values placed in the TestResults table to have the actual FAIR Scores that are calculated according to the following algorithm:<br>\n",
    "\n",
    "- +1 for author\n",
    "- +1 for dataset name\n",
    "- +1 for publication year\n",
    "- +1 for publisher\n",
    "- +1 for all citation info\n",
    "- +1 for description\n",
    "- +1 for PID\n",
    "- +1 for DCAT3-US compliance\n",
    "- +1 for license\n",
    "- +1 for NASA URL <br>\n",
    "======================= <br>\n",
    "- Total Possible Points of 10\n",
    "\n",
    "*Note that this alogrithm is expected to change*\n",
    "\n",
    "If interested in viewing the FAIR Score for a particular record, refer to the column-specific queries section further below.  "
   ]
  },
  {
   "cell_type": "markdown",
   "id": "37229740-2e74-4921-959b-55baeab66576",
   "metadata": {
    "tags": []
   },
   "source": [
    "### Calculating the FAIR Scores\n",
    "These two code blocks only need to be run if the database has been updated."
   ]
  },
  {
   "cell_type": "code",
   "execution_count": 8,
   "id": "98028700-6736-4112-80f9-02ceae5ecf95",
   "metadata": {},
   "outputs": [
    {
     "name": "stdout",
     "output_type": "stream",
     "text": [
      "Help on function FAIRScorer in module Scripts.SQLiteFun:\n",
      "\n",
      "FAIRScorer(conn)\n",
      "    Iterates through the has_x column names of the TestResults table\n",
      "    to calculate the FAIR Score of all the records in the parameter.\n",
      "    FAIR Score is calculated according to the algorithm described in\n",
      "    the notebook. Once the FAIR score is calculated, the FAIR_Score,\n",
      "    MostRecent, and FAIR_ScoreDate columns are updated for that record.\n",
      "    \n",
      "    :param conn: A connection to the desired database\n",
      "    :type conn: Connection object\n",
      "    :return: None\n",
      "\n"
     ]
    }
   ],
   "source": [
    "from Scripts import FAIRScorer\n",
    "\n",
    "help(FAIRScorer)"
   ]
  },
  {
   "cell_type": "code",
   "execution_count": 9,
   "id": "e5772bf2-3f6a-4911-b157-d8f3050f82b4",
   "metadata": {},
   "outputs": [
    {
     "name": "stdout",
     "output_type": "stream",
     "text": [
      "Analyzing 3034 records found\n",
      "FAIR scores calculated. Use the View function to see the results.\n"
     ]
    }
   ],
   "source": [
    "# calculate FAIR scores for all records\n",
    "FAIRScorer(conn)"
   ]
  },
  {
   "cell_type": "markdown",
   "id": "dc710e46-644e-4885-9fe6-925d6458a947",
   "metadata": {
    "tags": []
   },
   "source": [
    "### Plotting the FAIR Score Distributions"
   ]
  },
  {
   "cell_type": "code",
   "execution_count": 10,
   "id": "6f32a1d2-e34b-43e3-8f6f-5b4b1b682416",
   "metadata": {},
   "outputs": [
    {
     "name": "stdout",
     "output_type": "stream",
     "text": [
      "Help on function FAIR_Chart in module Scripts.PlotScripts:\n",
      "\n",
      "FAIR_Chart(conn, All=True)\n",
      "    Executes a SQLite SELECT statement to collect all FAIR Scores\n",
      "    and displays a bar chart showing the number of records for each\n",
      "    FAIR Score. This does so by using NumPy arrays within a MatPlotLib\n",
      "    function. The default value for All is True, which uses data from\n",
      "    all the records in the database. Passing False to the All parameter\n",
      "    performs the same, but only for the records with NASA URLs.\n",
      "    \n",
      "    :param conn: A connection to the desired database\n",
      "    :type conn: Connection object\n",
      "    :param All: A boolean determining whether or not to use all records\n",
      "                    in the database or only those with NASA URLs.\n",
      "    :type All: Boolean\n",
      "    :return: the figure\n",
      "\n"
     ]
    }
   ],
   "source": [
    "from Scripts import FAIR_Chart\n",
    "\n",
    "help(FAIR_Chart)"
   ]
  },
  {
   "cell_type": "code",
   "execution_count": 11,
   "id": "a7b68e42-ef14-4d40-ba1d-c9b8599caa16",
   "metadata": {},
   "outputs": [
    {
     "data": {
      "image/png": "[encoded data removed]",
      "text/plain": [
       "<Figure size 640x480 with 1 Axes>"
      ]
     },
     "metadata": {},
     "output_type": "display_data"
    }
   ],
   "source": [
    "# for all records\n",
    "fig = FAIR_Chart(conn)"
   ]
  },
  {
   "cell_type": "code",
   "execution_count": null,
   "id": "4318c74b-fb5a-43db-9dae-6e1d820b5975",
   "metadata": {},
   "outputs": [],
   "source": [
    "# only for records with NASA URLs\n",
    "fig = FAIR_Chart(conn, All = False)"
   ]
  },
  {
   "cell_type": "markdown",
   "id": "88a7cc95-2b0e-47b3-8e0a-3c1726b4da0e",
   "metadata": {
    "tags": []
   },
   "source": [
    "## How to do your own queries \n",
    "This section gives examples of how to query the database for row specific and column specific queries. Also provided are brief explanations of some of the SQLite syntax and also an example of a complex query for both categories. <br>\n",
    "\n",
    "If more context is needed for the SQLite code than is provided by the comments, I recommend visiting <a href=\"https://www.sqlitetutorial.net/\" target=\"_blank\">https://www.sqlitetutorial.net/</a>.<br>\n",
    "\n",
    "*Disclaimer: Not all authors are provided, as checks were only done to find if an allowed author exists.* \n",
    "<br>\n",
    "**Also note that when a SPASE record has multiple product keys for one URL or multiple URLs in general, each URL/product key gets their own entry into the table. This is why there may be 'duplicate entries' in the database.**"
   ]
  },
  {
   "cell_type": "markdown",
   "id": "8cc4bbc5-eb07-4e41-98b9-5b395af415e6",
   "metadata": {
    "jp-MarkdownHeadingCollapsed": true,
    "tags": []
   },
   "source": [
    "### Record Specific Queries\n",
    "\n",
    "This section describes how to get data with queries based on records/rows."
   ]
  },
  {
   "cell_type": "code",
   "execution_count": null,
   "id": "c9249579-fe96-46db-bc45-3ca608692362",
   "metadata": {},
   "outputs": [],
   "source": [
    "from Scripts import execution\n",
    "\n",
    "help(execution)"
   ]
  },
  {
   "cell_type": "markdown",
   "id": "137c13b0-589c-4b9a-90a8-1cf4f1fe7cf8",
   "metadata": {},
   "source": [
    "> Ex: How to get a ResourceID\n",
    "\n",
    "> - Use \"\"\"SELECT columnName FROM TableName WHERE columnName = x\"\"\" where x is of proper data type."
   ]
  },
  {
   "cell_type": "code",
   "execution_count": null,
   "id": "2e5475f0-1410-492d-9dc5-8a799ea8ed24",
   "metadata": {},
   "outputs": [],
   "source": [
    "# Gets the SPASE ID from the 10th row\n",
    "stmt = \"\"\" SELECT SPASE_id FROM MetadataEntries WHERE rowNum = 10 \"\"\"\n",
    "items = execution(stmt, conn)\n",
    "items"
   ]
  },
  {
   "cell_type": "markdown",
   "id": "013977b5-6cbb-46e8-b87d-d74e1b7d4aa8",
   "metadata": {},
   "source": [
    "> Ex: Get ResourceID by specifying the xml file name\n",
    "\n",
    "> - Use \"LIKE '%text%'\" instead of '= x' for when you need to query on partial info.\n",
    "\n",
    "> - SQLite uses the '%' as the multi-character wildcard and '_' as the single character wildcard.\n",
    "\n",
    "> - Use DISTINCT to prevent duplicate rows."
   ]
  },
  {
   "cell_type": "code",
   "execution_count": null,
   "id": "9d3ada0a-b105-467d-ac71-d635b32c5b50",
   "metadata": {},
   "outputs": [],
   "source": [
    "# Gets a list of SPASE IDs that have the given string in the ID\n",
    "# This example gets all 100 of the SPASE IDs from MMS with Burst in the ID.\n",
    "stmt = \"\"\" SELECT DISTINCT(SPASE_id) FROM MetadataEntries WHERE SPASE_id LIKE '%/MMS/%/Burst/%' \"\"\"\n",
    "items = execution(stmt, conn)\n",
    "print(len(items))"
   ]
  },
  {
   "cell_type": "markdown",
   "id": "c98ea145-8ff3-42d2-99a6-a7eaed4acebb",
   "metadata": {},
   "source": [
    "> Ex: Searching table for ResourceID using a specific value of a column"
   ]
  },
  {
   "cell_type": "code",
   "execution_count": null,
   "id": "8ca2ae04-267b-4983-a19b-278520a49409",
   "metadata": {},
   "outputs": [],
   "source": [
    "# This example looks for the SPASE ID that has the given text in the dataset name.\n",
    "ds = \"Interball Aurora MAG 2-min Key Parameters\"\n",
    "stmt = f\"\"\" SELECT DISTINCT(SPASE_id) FROM MetadataEntries WHERE datasetName = '{ds}' \"\"\"\n",
    "items = execution(stmt, conn)\n",
    "items"
   ]
  },
  {
   "cell_type": "markdown",
   "id": "f04db94c-23b0-4e5b-9a2e-0941bd562765",
   "metadata": {},
   "source": [
    "> Ex: How to get all data for a SPASE record using the ResourceID\n",
    "> - Put 'multiple' as the second optional arg for execution when selecting more than 1 item."
   ]
  },
  {
   "cell_type": "markdown",
   "id": "dee51182-abf3-4ac8-83f9-06880e748a95",
   "metadata": {},
   "source": [
    ">> This example prints out the following data in a list of tuples, where each tuple is a distinct row in the table. The tuples follow the following printout format:\n",
    ">> - rowNum\n",
    ">> - SPASE_id\n",
    ">> - author\n",
    ">> - authorRole (if relevant)\n",
    ">> - publisher\n",
    ">> - publication year\n",
    ">> - datasetName\n",
    ">> - license\n",
    ">> - url (if NASA URL)\n",
    ">> - prodKey\n",
    ">> - description\n",
    ">> - PID"
   ]
  },
  {
   "cell_type": "code",
   "execution_count": null,
   "id": "703813f6-0eef-438f-80f9-a5efa53f9229",
   "metadata": {},
   "outputs": [],
   "source": [
    "# Confirm that the dataset name for the SPASE ID matches.\n",
    "# This SPASE ID has information on four rows, so the dataset name for all four rows is printed.\n",
    "ID = \"spase://NASA/NumericalData/Interball-2/IMAP3/PT120S\"\n",
    "stmt = f\"\"\" SELECT datasetName FROM MetadataEntries WHERE SPASE_id = '{ID}' \"\"\"\n",
    "rows = execution(stmt, conn)\n",
    "rows"
   ]
  },
  {
   "cell_type": "code",
   "execution_count": null,
   "id": "297af40e-5cb3-440b-a19c-d0156879b400",
   "metadata": {},
   "outputs": [],
   "source": [
    "# Now that you have a SPASE_ID, this example gets all the metadata for that record\n",
    "ID = \"spase://NASA/NumericalData/Interball-2/IMAP3/PT120S\"\n",
    "stmt = f\"\"\" SELECT * FROM MetadataEntries WHERE SPASE_id = '{ID}' \"\"\"\n",
    "rows = execution(stmt, conn, \"multiple\")"
   ]
  },
  {
   "cell_type": "code",
   "execution_count": null,
   "id": "9fd59860-4700-4e56-b4ae-3927074c6d11",
   "metadata": {},
   "outputs": [],
   "source": [
    "# Retrieving the database sturcture to understand the types of items printed\n",
    "from Scripts import databaseInfo\n",
    "\n",
    "name_dict = databaseInfo(conn, print_flag=False)\n",
    "for row in rows:\n",
    "    for name, item in zip(name_dict['MetadataEntries'], row):\n",
    "        print(name, ':', item)\n",
    "    print()"
   ]
  },
  {
   "cell_type": "markdown",
   "id": "3d0f4b8d-0c21-4fa6-b945-ab614c2b41ba",
   "metadata": {},
   "source": [
    "> To get the actual description, use the SPASE_DataPrinter function"
   ]
  },
  {
   "cell_type": "code",
   "execution_count": null,
   "id": "9f0f73a9-60f0-44be-80b3-9e874bc45189",
   "metadata": {},
   "outputs": [],
   "source": [
    "from Scripts import MetadataPrinter\n",
    "\n",
    "help(MetadataPrinter)"
   ]
  },
  {
   "cell_type": "code",
   "execution_count": null,
   "id": "696f641d-1530-4a1c-8d5d-5558f32eb1c8",
   "metadata": {},
   "outputs": [],
   "source": [
    "MetadataPrinter(ID, fields = [\"description\"])"
   ]
  },
  {
   "cell_type": "markdown",
   "id": "52b9ce65-eaa2-4fa3-a122-1ebfbde34376",
   "metadata": {},
   "source": [
    "> Ex: How to get the Fair Score for a record"
   ]
  },
  {
   "cell_type": "code",
   "execution_count": null,
   "id": "98c63228-fae6-46fc-872b-8b0d0308a357",
   "metadata": {},
   "outputs": [],
   "source": [
    "ID = \"spase://NASA/NumericalData/Interball-2/IMAP3/PT120S\"\n",
    "stmt = f\"\"\" SELECT DISTINCT(FAIR_Score) FROM TestResults WHERE SPASE_id = '{ID}' \"\"\"\n",
    "item = execution(stmt, conn)\n",
    "item"
   ]
  },
  {
   "cell_type": "code",
   "execution_count": null,
   "id": "68d37945-7775-4ac1-83bf-ef89014271ad",
   "metadata": {},
   "outputs": [],
   "source": [
    "# get all the test result fields for a record (used to calculate the FAIR score)\n",
    "ID = \"spase://NASA/NumericalData/Interball-2/IMAP3/PT120S\"\n",
    "stmt = f\"\"\" SELECT * FROM TestResults WHERE SPASE_id = '{ID}' \"\"\"\n",
    "items = execution(stmt, conn, \"multiple\")"
   ]
  },
  {
   "cell_type": "code",
   "execution_count": null,
   "id": "542cac65-c439-45b0-bd8a-d74de7ae87dc",
   "metadata": {},
   "outputs": [],
   "source": [
    "# Retrieving the database structure to understand the types of items printed\n",
    "from Scripts import databaseInfo\n",
    "\n",
    "name_dict = databaseInfo(conn, print_flag=False)\n",
    "for row in items:\n",
    "    for name, item in zip(name_dict['TestResults'], row):\n",
    "        print(name, ':', item)"
   ]
  },
  {
   "cell_type": "markdown",
   "id": "8ec185c6-5b29-4f03-a267-f8f055228be0",
   "metadata": {},
   "source": [
    "> Complex example: Selecting multiple items from multiple tables by using the ResourceID\n",
    "\n",
    "> - Notice we use commas for multiple items and INNER JOINS when it is over multiple tables."
   ]
  },
  {
   "cell_type": "code",
   "execution_count": null,
   "id": "ed344082-68db-4362-918d-c613d6ac1934",
   "metadata": {},
   "outputs": [],
   "source": [
    "ID = \"spase://NASA/NumericalData/Interball-2/IMAP3/PT120S\"\n",
    "rows = execution(f\"\"\" SELECT author, MetadataSources.author_source, Records.SPASE_URL \n",
    "            FROM MetadataEntries\n",
    "                INNER JOIN MetadataSources USING (SPASE_id)\n",
    "                INNER JOIN Records USING (SPASE_id)\n",
    "            WHERE SPASE_id = '{ID}';\"\"\", conn)\n",
    "rows"
   ]
  },
  {
   "cell_type": "markdown",
   "id": "4c2e97a5-58ee-4093-b3c0-49ea4e6e9108",
   "metadata": {
    "jp-MarkdownHeadingCollapsed": true,
    "tags": []
   },
   "source": [
    "### Column Specific Queries\n",
    "This section describes how to get data with queries based on the column values."
   ]
  },
  {
   "cell_type": "markdown",
   "id": "cc7ecc04-5960-4a94-9e33-53ad05b1fe6e",
   "metadata": {},
   "source": [
    "> Ex: How many records do not have a NASA URL?"
   ]
  },
  {
   "cell_type": "code",
   "execution_count": null,
   "id": "8bdbc833-6428-423f-9b46-2774c77ed336",
   "metadata": {},
   "outputs": [],
   "source": [
    "stmt = \"\"\"SELECT COUNT(DISTINCT(SPASE_id)) FROM TestResults WHERE has_NASAurl = 0\"\"\"\n",
    "items = execution(stmt, conn)\n",
    "items"
   ]
  },
  {
   "cell_type": "markdown",
   "id": "2463ed49-f932-4ae9-bb15-203509abb317",
   "metadata": {},
   "source": [
    "> Ex: What are some examples of SPASE_id's of the records that do not have a NASA URL?\n",
    "> - Use optional LIMIT x at end to limit how many items are selected."
   ]
  },
  {
   "cell_type": "code",
   "execution_count": null,
   "id": "f71d4705-5d75-424b-98e3-1e8ebbd8e927",
   "metadata": {},
   "outputs": [],
   "source": [
    "stmt = \"\"\"SELECT DISTINCT(SPASE_id) FROM TestResults WHERE has_NASAurl = 0 LIMIT 10\"\"\"\n",
    "items = execution(stmt, conn)\n",
    "items"
   ]
  },
  {
   "cell_type": "markdown",
   "id": "bbfa5aaa-64a6-4c70-8ee2-f83f8a987e6a",
   "metadata": {},
   "source": [
    "> Ex: How many records have 3 out of 4 fields needed for citation?\n",
    "> - Use AND and OR operators just like in programming languages."
   ]
  },
  {
   "cell_type": "code",
   "execution_count": null,
   "id": "9676210d-b509-40c7-bcd7-ed464c7db272",
   "metadata": {},
   "outputs": [],
   "source": [
    "stmt = \"\"\"SELECT COUNT(DISTINCT SPASE_id) FROM TestResults \n",
    "                WHERE (has_author = 1 \n",
    "                AND has_datasetName = 1\n",
    "                AND has_pubYr = 1)\n",
    "                OR (has_author = 1 \n",
    "                AND has_datasetName = 1\n",
    "                AND has_pub = 1)\n",
    "                OR (has_author = 1 \n",
    "                AND has_pub = 1\n",
    "                AND has_pubYr = 1)\n",
    "                OR (has_datasetName = 1 \n",
    "                AND has_pub = 1\n",
    "                AND has_pubYr = 1)\"\"\"\n",
    "items = execution(stmt, conn)\n",
    "items"
   ]
  },
  {
   "cell_type": "markdown",
   "id": "c219a12a-37db-411b-9a36-55e30e17c108",
   "metadata": {},
   "source": [
    "> Ex: How many records have SDAC or SPDF as a publisher?"
   ]
  },
  {
   "cell_type": "code",
   "execution_count": null,
   "id": "f89e8ebb-f716-4dfc-81ca-49ed5744799f",
   "metadata": {},
   "outputs": [],
   "source": [
    "stmt = \"\"\"SELECT COUNT(DISTINCT SPASE_id) FROM MetadataEntries \n",
    "                        WHERE (publisher LIKE \"%SDAC\" OR publisher LIKE \n",
    "                               \"%Solar Data Analysis Center\" \n",
    "                               OR publisher LIKE \"%SPDF\" OR publisher LIKE \n",
    "                               \"%Space Physics Data Facility\")\"\"\"\n",
    "items = execution(stmt, conn)\n",
    "items"
   ]
  },
  {
   "cell_type": "markdown",
   "id": "147e43be-63d9-463f-a93a-fd740bf5de7f",
   "metadata": {},
   "source": [
    "> Ex: How did records in a certain directory do in terms of FAIR scores?\n",
    "> - Notice that since we are only interested in the most up-to-date FAIR scores, we add the \"MostRecent = 'T'\" condition."
   ]
  },
  {
   "cell_type": "code",
   "execution_count": null,
   "id": "25ee42df-0d7b-4fef-a412-e50c01fd8635",
   "metadata": {},
   "outputs": [],
   "source": [
    "stmt = \"\"\"SELECT DISTINCT(SPASE_id), FAIR_Score FROM TestResults \n",
    "                WHERE SPASE_id LIKE '%/ACE/%' AND MostRecent = 'T' LIMIT 10\"\"\"\n",
    "print(\"Format is as follows: (SPASE_id, FAIR_Score)\")\n",
    "items = execution(stmt, conn)\n",
    "items"
   ]
  },
  {
   "cell_type": "markdown",
   "id": "bbc4d46e-fe70-4550-aa99-83f13773ad9d",
   "metadata": {},
   "source": [
    "> Ex: How many records have a FAIR Score of x?"
   ]
  },
  {
   "cell_type": "code",
   "execution_count": null,
   "id": "52813144-1b51-4762-8738-f819921c3008",
   "metadata": {},
   "outputs": [],
   "source": [
    "stmt = \"\"\"SELECT COUNT(DISTINCT SPASE_id) FROM TestResults WHERE FAIR_Score = 9 \"\"\"\n",
    "items = execution(stmt, conn)\n",
    "items"
   ]
  },
  {
   "cell_type": "markdown",
   "id": "ee75dbf8-d01a-4c18-b7f6-2e86dd677e81",
   "metadata": {},
   "source": [
    "> Complex Ex: What records have at least 2 of the desired fields?\n",
    "> - Notice we use f-strings to concatenate strings instead of retyping text."
   ]
  },
  {
   "cell_type": "code",
   "execution_count": null,
   "id": "870b7d84-84f3-482f-bfb7-4efb33080240",
   "metadata": {},
   "outputs": [],
   "source": [
    "has_citation = \"\"\"author NOT LIKE \"\"\n",
    "                    AND datasetName NOT LIKE \"\"\n",
    "                    AND publicationYr NOT LIKE \"\"\n",
    "                    AND publisher NOT LIKE \"\" \"\"\"\n",
    "citationStmt = f\"\"\"SELECT DISTINCT SPASE_id FROM MetadataEntries \n",
    "                WHERE {has_citation};\"\"\"\n",
    "has_compliance = \"\"\" description NOT LIKE \"\"\n",
    "                AND datasetName NOT LIKE \"\"\n",
    "                AND PID NOT LIKE \"\" \"\"\"\n",
    "complianceStmt = f\"\"\"SELECT DISTINCT SPASE_id FROM MetadataEntries \n",
    "                WHERE {has_compliance};\"\"\"\n",
    "\n",
    "# at least 2 fields\n",
    "AL2Stmt = f\"\"\"SELECT DISTINCT SPASE_id FROM MetadataEntries \n",
    "                WHERE ({has_citation}\n",
    "                AND\n",
    "                    {has_compliance}) \n",
    "                OR\n",
    "                    ({has_citation}\n",
    "                AND\n",
    "                    PID NOT LIKE \"\")\n",
    "                OR\n",
    "                    ({has_citation}\n",
    "                AND\n",
    "                    license LIKE \"%cc0%\" OR license LIKE \"%Creative Commons Zero v1.0 Universal%\")\n",
    "                OR\n",
    "                    ({has_compliance}\n",
    "                AND\n",
    "                    license LIKE \"%cc0%\" OR license LIKE \"%Creative Commons Zero v1.0 Universal%\")\n",
    "                OR\n",
    "                    ({has_compliance}\n",
    "                AND \n",
    "                    PID NOT LIKE \"\")\n",
    "                OR  \n",
    "                    (PID NOT LIKE \"\"\n",
    "                AND\n",
    "                    license LIKE \"%cc0%\" OR license LIKE \"%Creative Commons Zero v1.0 Universal%\") LIMIT 10;\"\"\"\n",
    "\n",
    "items = execution(AL2Stmt, conn)\n",
    "items"
   ]
  },
  {
   "cell_type": "markdown",
   "id": "7d0fe974-7a88-4c16-b1ac-0dbe75165c70",
   "metadata": {
    "tags": []
   },
   "source": [
    "## How to Backup Database\n",
    "This code generates a backup copy of the live database into a file specified by the filename variable.\n",
    "\n",
    "*Note that this cannot be run if there is a pending SQL statement or open transaction running.*"
   ]
  },
  {
   "cell_type": "code",
   "execution_count": 3,
   "id": "7be84c05-e149-4e25-9f46-febe78bd2ecf",
   "metadata": {},
   "outputs": [
    {
     "name": "stdout",
     "output_type": "stream",
     "text": [
      "Help on function executionALL in module Scripts.SQLiteFun:\n",
      "\n",
      "executionALL(stmt, conn)\n",
      "    Connects to the given SQLite database, creates a cursor object,\n",
      "    and calls the execute method with the stmt argument. This also\n",
      "    displays error messages if any arise.\n",
      "    \n",
      "    :param stmt: A string of the SQLite statement to be executed.\n",
      "    :type stmt: String\n",
      "    :param conn: A connection to the desired database\n",
      "    :type conn: Connection object\n",
      "    :return: None\n",
      "\n"
     ]
    }
   ],
   "source": [
    "from Scripts import executionALL\n",
    "\n",
    "help(executionALL)"
   ]
  },
  {
   "cell_type": "code",
   "execution_count": 12,
   "id": "9b08c48a-a158-4fba-9c31-5d2b72122775",
   "metadata": {},
   "outputs": [],
   "source": [
    "filename = \"../SPASE_Data_new_backup.db\"\n",
    "stmt = f\"VACUUM main INTO '{filename}'\"\n",
    "items = executionALL(stmt, conn)\n",
    "items"
   ]
  },
  {
   "cell_type": "code",
   "execution_count": null,
   "id": "7d79cacb-50c0-46d9-8afe-f011b92d699b",
   "metadata": {},
   "outputs": [],
   "source": []
  }
 ],
 "metadata": {
  "kernelspec": {
   "display_name": "Python [conda env:notebook] *",
   "language": "python",
   "name": "conda-env-notebook-py"
  },
  "language_info": {
   "codemirror_mode": {
    "name": "ipython",
    "version": 3
   },
   "file_extension": ".py",
   "mimetype": "text/x-python",
   "name": "python",
   "nbconvert_exporter": "python",
   "pygments_lexer": "ipython3",
   "version": "3.10.8"
  }
 },
 "nbformat": 4,
 "nbformat_minor": 5
}
