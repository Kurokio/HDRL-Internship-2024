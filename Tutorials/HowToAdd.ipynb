{
 "cells": [
  {
   "cell_type": "markdown",
   "id": "afec8ea9-60fc-4083-9294-f5abd228a139",
   "metadata": {},
   "source": [
    "# SPASE Record Analysis - How to Add New Extracted Items or New Tests\n",
    "\n",
    "If you have not viewed the related notebook, \"How to Use\", do so before going through this notebook. <br>\n",
    "\n",
    "This notebook runs through how to add to this project, specifically:\n",
    "1. how to add additional fields to extract from SPASE records\n",
    "2. how to add to the SQLite database \n",
    "3. how to add new database queries to report the results in the tables <br>\n",
    "\n",
    "Also covered is a brief description of how to test the results."
   ]
  },
  {
   "cell_type": "markdown",
   "id": "ca1f8264-bdd4-4957-8a78-239aa0ce1218",
   "metadata": {
    "jp-MarkdownHeadingCollapsed": true,
    "tags": []
   },
   "source": [
    "## Adding additional extraction fields\n",
    "\n",
    "For this example, we will show how to add the ORCID ID.\n",
    "\n",
    "Note that if your field is not ORCID ID, your code would have the following differences: \n",
    "- It may be found in a different spot in the SPASE_Scraper_Script\n",
    "- - This means the value for the variable that holds the field's location would be different also\n",
    "- If your field does not have the possibility to hold multiple values, there is no need for its variable to be a list and you can use a String instead.\n",
    "- You will have different names for the variables as it may not be the ORCID_ID\n",
    " \n",
    "The rest of the example code should be accurate as those steps must happen no matter what field is added.\n",
    "\n",
    "The code introduced can be placed where it says to in the SPASE_Scraper_Script comments. Find them easily using Ctrl-F and searching for 'Code X'."
   ]
  },
  {
   "cell_type": "markdown",
   "id": "0d010df0-15ca-4d7d-b019-e769174eb07f",
   "metadata": {},
   "source": [
    "> First up, in order to account for the instance that there are multiple authors we are scraping, the variable for ORCID needs to be a list. Also needed is another variable to temporarily hold the ORCID ID since we only return the IDs of authors that are within priorities. Additionally, we need a String variable to hold the location in the XML SPASE record where the ORCID_ID was acquired. To cover the case when no authors are provided, we need to give these ORCID variables default values: <br>\n",
    "\n",
    "We will call this code Code A\n",
    "```python\n",
    "ORCID = []\n",
    "ORCID_ID = \"\"\n",
    "ORCID_ID_Field = \"\"\n",
    "```"
   ]
  },
  {
   "cell_type": "markdown",
   "id": "3f661c7c-3bf0-4895-bd6f-a18284fa6142",
   "metadata": {},
   "source": [
    "> Next, we need to know where the value would be found. ORCID ID would likely be found in the Contact section. With this in mind, we need to find in the SPASE_Scraper_Script where we iterate through that section: <br>\n",
    "```python\n",
    "elif child.tag.endswith(\"Contact\"):\n",
    "    C_Child = child\n",
    "# iterate thru Contact to find PersonID and Role\n",
    "for child in C_Child:\n",
    "```"
   ]
  },
  {
   "cell_type": "markdown",
   "id": "d2fc3ac3-b6ca-4f56-8284-768de32f64b1",
   "metadata": {},
   "source": [
    "> After that, we need to add another elif statement to check the child nodes within Contact for the tag we are seeking, which in this case may be something like \"ORCID\". Then we just save the text tagged by ORCID into our temporary variable, ORCID_ID. We also need to give ORCID_ID_Field a value since it has been found. This is done by concatenating the predefined String, parent, with where we found the ORCID_ID, which is ResourceHeader/Contact/ORCID. This would look similar to what is needed: <br>\n",
    "\n",
    "This is Code B.\n",
    "\n",
    "```python\n",
    "# find ORCID\n",
    "elif child.tag.endswith(\"ORCID\"):\n",
    "    # store ORCID\n",
    "    ORCID_ID = child.text\n",
    "    ORCID_ID_Field = (parent + \"/ResourceHeader/Contact/ORCID\")\n",
    "```"
   ]
  },
  {
   "cell_type": "markdown",
   "id": "2fa02555-8963-4232-bb22-c6c9521a01b6",
   "metadata": {},
   "source": [
    "> Then, if an author is found that fits our priority rules, we assign this temporary value to the list at the same time we add the author name and author roles to theirs. This keeps the ordering the same so that the ORCID ID stays with the author it belongs to. There are 2 places the author can be collected outside of the Publication Info section, so both of these assignments would need to be added to each of these areas. <br>\n",
    "\n",
    "This is code C.\n",
    "```python \n",
    "ORCID = [ORCID_ID]\n",
    "```\n",
    "And this is code D.\n",
    "```python\n",
    "ORCID.append(ORCID_ID)\n",
    "```"
   ]
  },
  {
   "cell_type": "markdown",
   "id": "f9776c8d-79b4-4d53-9777-eabda30005d0",
   "metadata": {},
   "source": [
    "> Lastly, add the ORCID list and the ORCID_ID_Field as a return and edit the calls to the 'SPASE_Scraper\" script in the main.py file to reflect the added returns. We will continue by assuming you named the variables in main.py that holds the returns as ORCID_ID and ORCID_ID_Field."
   ]
  },
  {
   "cell_type": "markdown",
   "id": "c281a39f-ff8e-47ab-beb5-eb6a49f3449f",
   "metadata": {
    "jp-MarkdownHeadingCollapsed": true,
    "tags": []
   },
   "source": [
    "## Adding new field to the database\n",
    "\n",
    "This section will continue with our previous example of the ORCID ID to show you how to add it to the SPASE_Data.db database."
   ]
  },
  {
   "cell_type": "markdown",
   "id": "f94225b8-321d-4a2b-a47d-fd8e21e7a1b8",
   "metadata": {
    "jp-MarkdownHeadingCollapsed": true,
    "tags": []
   },
   "source": [
    "### Editing SQLite database structure"
   ]
  },
  {
   "cell_type": "markdown",
   "id": "00684eb4-82d6-43e5-9e8b-c48613ca5cda",
   "metadata": {},
   "source": [
    "> First, we would need to add a column to the MetadataEntries, MetadataSources, and TestResults tables. This can be done by using the ALTER TABLE command in SQLite. This can be executed anywhere.\n",
    "\n",
    "```python\n",
    "from SQLiteFun import executionALL\n",
    "\n",
    "executionALL(\"\"\"ALTER TABLE MetadataEntries ADD COLUMN\n",
    "                    ORCID_ID TEXT\"\"\")\n",
    "executionALL(\"\"\"ALTER TABLE TestResults ADD COLUMN\n",
    "                    has_ORCID INTEGER\"\"\")\n",
    "executionALL(\"\"\"ALTER TABLE MetadataSources ADD COLUMN\n",
    "                    ORCID_ID_Source TEXT\"\"\")\n",
    "```"
   ]
  },
  {
   "cell_type": "markdown",
   "id": "107e4c20-4152-46f2-bbf5-5cf46eff0d79",
   "metadata": {},
   "source": [
    "> Also helpful (but not required) would be to manually add these columns to the create_tables() function in SQLiteFun.\n",
    "We will call these lines Code T.\n",
    "\n",
    "Add the ORCID_ID column into the MetadataEntries table before the \"UNIQUE...\" line.\n",
    "```python\n",
    "PID TEXT,\n",
    "ORCID_ID TEXT,\n",
    "UNIQUE(SPASE_id, URL, prodKey)\n",
    "```\n",
    "Add the ORCID_ID_Source column into the MetadataSources table at the end after the PID_source column.\n",
    "```python\n",
    "description_source TEXT,\n",
    "PID_source TEXT,\n",
    "ORCID_ID_Source TEXT\n",
    "```\n",
    "\n",
    "And add the has_ORCID column to the TestResults section before the addition to the Errors column.\n",
    "```python\n",
    "has_compliance INTEGER,\n",
    "has_ORCID INTEGER,\n",
    "Errors TEXT\n",
    "```"
   ]
  },
  {
   "cell_type": "markdown",
   "id": "ed1460ee-3b5d-4ec9-a3fb-da56178daedb",
   "metadata": {
    "jp-MarkdownHeadingCollapsed": true,
    "tags": []
   },
   "source": [
    "### Edit the main.py file.\n",
    "The code introduced can be placed where it says to in the main.py comments. Find them easily using Ctrl-F and searching for 'Code X'."
   ]
  },
  {
   "cell_type": "markdown",
   "id": "9753ae87-3a59-4991-ba16-622cd4b024f1",
   "metadata": {},
   "source": [
    "> Optional: Add print statements to occur when troubleshooting with the printFlag argument set to True.\n",
    "\n",
    "We will call this Code E.\n",
    "This joins the ORCID_ID(s) into one comma separated string.\n",
    "```python\n",
    "ORCID_ID = \", \".join(ORCID_ID)\n",
    "```\n",
    "And this Code F\n",
    "```python\n",
    "print(\"The ORCID_ID(s) are \" + ORCID_ID)\n",
    "```"
   ]
  },
  {
   "cell_type": "markdown",
   "id": "b19df579-5481-435d-a2a1-0e0e704aade7",
   "metadata": {},
   "source": [
    "> Next, edit the SQLite UPSERT statement for MetadataEntries\n",
    "\n",
    "We will call this Code G.\n",
    "Add the column name found in the table (ORCID_ID) to the tuple found after \"INSERT INTO MetadataEntries\" in the same position you added it into the table last step, which should be right after the last column, PID.\n",
    "```python\n",
    "(SPASE_id,author,authorRole,publisher,publicationYr,datasetName,\n",
    "    license,URL,prodKey,description,PID,ORCID_ID)\n",
    "```\n",
    "Now we add the actual values to be inserted into the table in the section after \"VALUES\". Again, this is added after PID.\n",
    "\n",
    "This Code H.\n",
    "```python\n",
    "VALUES (\"{ResourceID}\",\"{author}\",\"{authorRole}\",\"{pub}\",\"{pubYear}\",\n",
    "        \"{datasetName}\",\"{license}\",\"{url[i]}\",\"{prodKey[i]}\",\"description found\",\"{PID}\",\"{ORCID_ID}\")\n",
    "```\n",
    "Lastly, we need to ensure the UPDATE part works correctly by adding the assignment using the excluded keyword to the 'SET' section. This code updates the ORCID_ID of the entry that is already in the table with the value recently scraped, in case it may have changed. Again this is right after the \"PID = excluded.PID\" line.\n",
    "\n",
    "And this Code I.\n",
    "```python\n",
    "description = excluded.description,\n",
    "PID = excluded.PID\n",
    "ORCID_ID = excluded.ORCID_ID; '''\n",
    "```"
   ]
  },
  {
   "cell_type": "markdown",
   "id": "dd0481f9-97e1-4a90-8120-d83db164139a",
   "metadata": {},
   "source": [
    "> Next, we need to do the past 3 steps again to edit the UPSERT statement for the MetadataSources table. This includes adding the ```ORCID_ID_Source``` column to the tuple, the ```\"{ORCID_ID_Field}\"``` to the VALUES section, and the ```ORCID_ID_Field = excluded.ORCID_ID_Field``` to the SET section. These will be called Code U, V, and W."
   ]
  },
  {
   "cell_type": "markdown",
   "id": "556dbd67-ccc7-4219-9947-cc1f24e59410",
   "metadata": {},
   "source": [
    "> Finally, edit the new entries' default values into TestResults.\n",
    "\n",
    "Add a default value of 0 to the has_ORCID column whenever new records are added. Existing entries in the table are assigned a default value of null when we added the column earlier.\n",
    "\n",
    "We will call this Code J. This is added with the other zeros as part of the assignment statement to Test.\n",
    "```python\n",
    "Test = (record,0,\"\",\"\",0,0,0,0,0,0,0,0,0,0,0,0,\"\")\n",
    "```"
   ]
  },
  {
   "cell_type": "markdown",
   "id": "f221f4aa-bfef-4bdf-b699-c4f5b6e2007c",
   "metadata": {
    "jp-MarkdownHeadingCollapsed": true,
    "tags": []
   },
   "source": [
    "## Adding new database queries to report the results\n",
    "This section will further continue with our ORCID_ID example and show you how to add a new query to have ORCID_ID updated in the TestResults table."
   ]
  },
  {
   "cell_type": "markdown",
   "id": "f30e431a-93de-4e22-bd93-941bb80e7261",
   "metadata": {
    "jp-MarkdownHeadingCollapsed": true,
    "tags": []
   },
   "source": [
    "### Edit RecordGrabber.py\n",
    "The code introduced can be placed where it says to in the RecordGrabber.py comments. Find them easily using Ctrl-F and searching for 'Code X'."
   ]
  },
  {
   "cell_type": "markdown",
   "id": "22fef26e-38ef-4f97-ba1a-01418d1c453f",
   "metadata": {},
   "source": [
    "> Add SQLite SELECT statement in RecordGrabber to return SPASE_id's of all records that have ORCID_ID's.\n",
    "\n",
    "We will call this Code K. This can be added with the other SQLite SELECT statements.\n",
    "```python\n",
    "ORCID_Stmt = \"\"\"SELECT DISTINCT SPASE_id FROM MetadataEntries WHERE ORCID_ID NOT LIKE \"\" ;\"\"\"\n",
    "```\n",
    "\n",
    "*Note that if you are also wanting to query based on specific publishers, you will need to add a similar statement labeled SPDF_ORCID_Stmt and SDAC_ORCID_Stmt which just concatenate the SPDF_Intersect and SDAC_Intersect with the ORCID_Stmt, respectively.*"
   ]
  },
  {
   "cell_type": "markdown",
   "id": "cf48ad44-3d10-4491-bf04-a33fb49031fe",
   "metadata": {},
   "source": [
    "> Execute the newly added statement and add it as a return.\n",
    "\n",
    "We will call this Code L. Since we are not specifying a publisher for this example, we will add this to the allRecords function with the other statements.\n",
    "```python\n",
    "ORCIDs = execution(self.ORCIDStmt, conn)\n",
    "```\n",
    "Then, add it as a return in whatever position you like. Just make sure to keep the same order when you call it externally to avoid assigning the wrong links to the wrong labels. This location will be called Code M.\n",
    "\n",
    "*Note that if you want to specify publisher, you will also need to follow these steps with the SPDF_ORCIDs and SDAC_ORCIDs labels inside their respective functions of SPDF_Records and SDAC_Records.*"
   ]
  },
  {
   "cell_type": "markdown",
   "id": "8db3fe6c-74f1-4ad2-bd60-5ef1d271f971",
   "metadata": {
    "jp-MarkdownHeadingCollapsed": true,
    "tags": []
   },
   "source": [
    "### Edit main.py\n",
    "The code introduced can be placed where it says to in the main.py comments. Find them easily using Ctrl-F and searching for 'Code X'."
   ]
  },
  {
   "cell_type": "markdown",
   "id": "eb3d6a28-0306-4474-8e95-21fd881ab7dc",
   "metadata": {},
   "source": [
    "1. Edit Create()\n",
    "\n",
    "If not done already, add a variable to hold the newly returned list of records with ORCID_IDs in main.py.\n",
    "\n",
    "> - We will mark this as Code N. For reference purposes, we will continue by assuming you assigned the list to a variable named ORCID_Records.\n",
    "\n",
    "Next, we need to add a new call to the TestUpdate function to update the records that have ORCID_IDs to have a 1 in the has_ORCID column.\n",
    "\n",
    "> - We will call this Code O.\n",
    "\n",
    "```python\n",
    "TestUpdate(ORCID_Records, \"has_ORCID\", conn)\n",
    "```\n",
    "\n",
    "2. Edit View()\n",
    "\n",
    "We again need to add ORCID_Records as a variable to the call to 'testObj.allRecords()'. We also need to add \"ORCID\" to be included in the list of default values for desired in the View() definition. Lastly, we need to add \"ORCID\" as a new key in the 'desiredRecords' dictionary to be returned.\n",
    "> - We will mark these locations as Code P, Code Q, and Code R, respectively.\n",
    "\n",
    "Then we just need to add a check to return the ORCID_Records if it is included in the 'desired' parameter.\n",
    "> - We will call this Code S\n",
    "\n",
    "```python\n",
    "elif record == \"ORCID\":\n",
    "    print(\"There are \" + str(len(ORCID_Records)) + \" records that have ORCID_IDs.\")\n",
    "    desiredRecords[\"ORCID\"] = ORCID_Records\n",
    "```"
   ]
  },
  {
   "cell_type": "markdown",
   "id": "ad94e9ad-73d3-4277-9736-1a605b5cbf4e",
   "metadata": {
    "jp-MarkdownHeadingCollapsed": true,
    "tags": []
   },
   "source": [
    "## Test in the HowToUse notebook\n",
    "Now you can test what you have added to get the results!"
   ]
  },
  {
   "cell_type": "markdown",
   "id": "0421943a-7c52-43e5-92a6-771bda333dda",
   "metadata": {},
   "source": [
    "Running the first section should automatically do everything needed to add your new field to the tables and populate them for all records. \n",
    "\n",
    "After that, to verify it has worked properly, you can query the results in the \"Executing Analysis Tests and Viewing the Results\" section by using the keyword \"ORCID\" as an argument to View(). Then assign the records to a variable such as ORCID_Records by slicing the records list that was returned and run the code.\n",
    "\n",
    "This should now give you a variable holding all records that contain ORCID_IDs and should also print out how many records that is."
   ]
  },
  {
   "cell_type": "code",
   "execution_count": null,
   "id": "58c06890-9c71-41e9-ad27-ff4273fb9510",
   "metadata": {},
   "outputs": [],
   "source": []
  }
 ],
 "metadata": {
  "kernelspec": {
   "display_name": "Python 3 (ipykernel)",
   "language": "python",
   "name": "python3"
  },
  "language_info": {
   "codemirror_mode": {
    "name": "ipython",
    "version": 3
   },
   "file_extension": ".py",
   "mimetype": "text/x-python",
   "name": "python",
   "nbconvert_exporter": "python",
   "pygments_lexer": "ipython3",
   "version": "3.10.8"
  }
 },
 "nbformat": 4,
 "nbformat_minor": 5
}
