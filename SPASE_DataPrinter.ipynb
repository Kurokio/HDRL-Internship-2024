{
 "cells": [
  {
   "cell_type": "code",
   "execution_count": null,
   "id": "5edd3727-dc07-466c-9ae7-bc042a3d9f32",
   "metadata": {},
   "outputs": [],
   "source": [
    "from SPASE_Scraper_Script import SPASE_Scraper\n",
    "from DatalinkSep import AccessRightsSep\n",
    "\n",
    "# prints metadata for fields specified in the record provided\n",
    "def MetadataPrinter(record, fields = [RID, RIDField, author, authorField, authorRole, pub, pubField, pubDate, pubDateField, datasetName, \n",
    "             datasetNameField, desc, descField, PID, PIDField, AccessRights, licenseField, datalinkField, \n",
    "             version, ReleaseDate]):\n",
    "    # retrieve metadata\n",
    "    (RID, RIDField, author, authorField, authorRole, pub, pubField, pubDate, pubDateField, datasetName, \n",
    "             datasetNameField, desc, descField, PID, PIDField, AccessRights, licenseField, datalinkField, \n",
    "             version, ReleaseDate) = SPASE_Scraper(record)\n",
    "    \n",
    "    # grab only year from the date\n",
    "    pubYear = pubDate[0:4]\n",
    "    # concatenate author and authorRole into single strings\n",
    "    author = \", \".join(author)\n",
    "    authorRole = \", \".join(authorRole)\n",
    "\n",
    "        print(\"The URLs with their associated product keys obtained from \" + datalinkField + \"\"\" and their \n",
    "              license(s) obtained from \"\"\" + licenseField + \" are: \")\n",
    "        pprint.pprint(AccessRights)\n",
    "\n",
    "    # separate license, url, and product keys from AccessRights to store in db\n",
    "    license, url, prodKey = AccessRightsSep(AccessRights, False)\n",
    "    \n",
    "    # print values of metadata specified in fields list provided\n",
    "    # give each print out a label showing what is being printed\n",
    "    print(\"The ResourceID is \" + RID + \" which was obtained from \" + RIDField)\n",
    "    print(\"The author(s) are \" + author + \" who are \" + authorRole + \" which was obtained from \" + authorField)\n",
    "    print(\"The publication year is \" + pubYear + \" which was obtained from \" + pubDateField)\n",
    "    print(\"The publisher is \" + pub + \" which was obtained from \" + pubField)\n",
    "    print(\"The dataset name is \" + datasetName + \" which was obtained from \" + datasetNameField)\n",
    "    print(\"The description is \" + desc + \" which was obtained from \" + descField)\n",
    "    print(\"The persistent identifier is \" + PID + \" which was obtained from \" + PIDField)"
   ]
  }
 ],
 "metadata": {
  "kernelspec": {
   "display_name": "Python 3 (ipykernel)",
   "language": "python",
   "name": "python3"
  },
  "language_info": {
   "codemirror_mode": {
    "name": "ipython",
    "version": 3
   },
   "file_extension": ".py",
   "mimetype": "text/x-python",
   "name": "python",
   "nbconvert_exporter": "python",
   "pygments_lexer": "ipython3",
   "version": "3.10.8"
  }
 },
 "nbformat": 4,
 "nbformat_minor": 5
}
